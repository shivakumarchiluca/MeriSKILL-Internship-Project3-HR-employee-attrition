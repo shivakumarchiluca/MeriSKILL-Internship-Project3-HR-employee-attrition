{
  "nbformat": 4,
  "nbformat_minor": 0,
  "metadata": {
    "colab": {
      "provenance": []
    },
    "kernelspec": {
      "name": "python3",
      "display_name": "Python 3"
    },
    "language_info": {
      "name": "python"
    }
  },
  "cells": [
    {
      "cell_type": "markdown",
      "source": [
        "#MeriSKILL Project3:HR Analytics Project"
      ],
      "metadata": {
        "id": "dWB9r03NQ4P-"
      }
    },
    {
      "cell_type": "markdown",
      "source": [
        "#Tasks to perform:\n",
        "\n",
        "#Data Cleaning:\n",
        "\n",
        "Deleting redundant columns.\n",
        "\n",
        "Renaming the columns.\n",
        "\n",
        "Dropping duplicates.\n",
        "\n",
        "Cleaning individual columns.\n",
        "\n",
        "Remove the NaN values from the dataset\n",
        "\n",
        "Check for some more Transformations\n",
        "\n",
        "#Data Visualization:\n",
        "\n",
        "Plot a correlation map for all numeric variables\n",
        "\n",
        "Overtime\n",
        "\n",
        "Marital Status\n",
        "\n",
        "Job Role\n",
        "\n",
        "Gender\n",
        "\n",
        "Education Field\n",
        "\n",
        "Department\n",
        "\n",
        "Business Travel\n",
        "\n",
        "Relation between Overtime and Age\n",
        "\n",
        "Total Working Years\n",
        "\n",
        "Education Level\n",
        "\n",
        "Number of Companies Worked\n",
        "\n",
        "Distance from Home\n"
      ],
      "metadata": {
        "id": "xKQyMYvdRywJ"
      }
    },
    {
      "cell_type": "markdown",
      "source": [
        "#Importing All Necessary Libraries:"
      ],
      "metadata": {
        "id": "govKvMm4STlD"
      }
    },
    {
      "cell_type": "code",
      "source": [
        "import numpy as np\n",
        "import pandas as pd\n",
        "import matplotlib.pyplot as plt\n",
        "import seaborn as sns\n",
        "import plotly.express as px\n",
        "from sklearn.model_selection import train_test_split\n",
        "from sklearn.preprocessing import StandardScaler\n",
        "from sklearn.linear_model import LogisticRegression\n",
        "from sklearn import svm\n",
        "from sklearn.ensemble import RandomForestClassifier\n",
        "from sklearn.ensemble import GradientBoostingClassifier\n",
        "from sklearn.metrics import accuracy_score, confusion_matrix, classification_report"
      ],
      "metadata": {
        "id": "wg4JkZjPRAAN"
      },
      "execution_count": 1,
      "outputs": []
    },
    {
      "cell_type": "markdown",
      "source": [
        "#Importing HR Analytics dataset:"
      ],
      "metadata": {
        "id": "8Aq4g6pASard"
      }
    },
    {
      "cell_type": "code",
      "source": [
        "HRAnalytics = pd.read_csv('HREmployeeAttrition.csv')"
      ],
      "metadata": {
        "id": "DG1zsppkSbRH"
      },
      "execution_count": 2,
      "outputs": []
    },
    {
      "cell_type": "code",
      "source": [
        "HRAnalytics"
      ],
      "metadata": {
        "colab": {
          "base_uri": "https://localhost:8080/",
          "height": 582
        },
        "id": "2Kfq8161yfuy",
        "outputId": "7bacf534-d0d3-47ed-a197-c344e8baa5a8"
      },
      "execution_count": 3,
      "outputs": [
        {
          "output_type": "execute_result",
          "data": {
            "text/plain": [
              "      Age Attrition     BusinessTravel  DailyRate              Department  \\\n",
              "0      41       Yes      Travel_Rarely       1102                   Sales   \n",
              "1      49        No  Travel_Frequently        279  Research & Development   \n",
              "2      37       Yes      Travel_Rarely       1373  Research & Development   \n",
              "3      33        No  Travel_Frequently       1392  Research & Development   \n",
              "4      27        No      Travel_Rarely        591  Research & Development   \n",
              "...   ...       ...                ...        ...                     ...   \n",
              "1465   36        No  Travel_Frequently        884  Research & Development   \n",
              "1466   39        No      Travel_Rarely        613  Research & Development   \n",
              "1467   27        No      Travel_Rarely        155  Research & Development   \n",
              "1468   49        No  Travel_Frequently       1023                   Sales   \n",
              "1469   34        No      Travel_Rarely        628  Research & Development   \n",
              "\n",
              "      DistanceFromHome  Education EducationField  EmployeeCount  \\\n",
              "0                    1          2  Life Sciences              1   \n",
              "1                    8          1  Life Sciences              1   \n",
              "2                    2          2          Other              1   \n",
              "3                    3          4  Life Sciences              1   \n",
              "4                    2          1        Medical              1   \n",
              "...                ...        ...            ...            ...   \n",
              "1465                23          2        Medical              1   \n",
              "1466                 6          1        Medical              1   \n",
              "1467                 4          3  Life Sciences              1   \n",
              "1468                 2          3        Medical              1   \n",
              "1469                 8          3        Medical              1   \n",
              "\n",
              "      EmployeeNumber  ...  RelationshipSatisfaction StandardHours  \\\n",
              "0                  1  ...                         1            80   \n",
              "1                  2  ...                         4            80   \n",
              "2                  4  ...                         2            80   \n",
              "3                  5  ...                         3            80   \n",
              "4                  7  ...                         4            80   \n",
              "...              ...  ...                       ...           ...   \n",
              "1465            2061  ...                         3            80   \n",
              "1466            2062  ...                         1            80   \n",
              "1467            2064  ...                         2            80   \n",
              "1468            2065  ...                         4            80   \n",
              "1469            2068  ...                         1            80   \n",
              "\n",
              "      StockOptionLevel  TotalWorkingYears  TrainingTimesLastYear  \\\n",
              "0                    0                  8                      0   \n",
              "1                    1                 10                      3   \n",
              "2                    0                  7                      3   \n",
              "3                    0                  8                      3   \n",
              "4                    1                  6                      3   \n",
              "...                ...                ...                    ...   \n",
              "1465                 1                 17                      3   \n",
              "1466                 1                  9                      5   \n",
              "1467                 1                  6                      0   \n",
              "1468                 0                 17                      3   \n",
              "1469                 0                  6                      3   \n",
              "\n",
              "     WorkLifeBalance  YearsAtCompany YearsInCurrentRole  \\\n",
              "0                  1               6                  4   \n",
              "1                  3              10                  7   \n",
              "2                  3               0                  0   \n",
              "3                  3               8                  7   \n",
              "4                  3               2                  2   \n",
              "...              ...             ...                ...   \n",
              "1465               3               5                  2   \n",
              "1466               3               7                  7   \n",
              "1467               3               6                  2   \n",
              "1468               2               9                  6   \n",
              "1469               4               4                  3   \n",
              "\n",
              "      YearsSinceLastPromotion  YearsWithCurrManager  \n",
              "0                           0                     5  \n",
              "1                           1                     7  \n",
              "2                           0                     0  \n",
              "3                           3                     0  \n",
              "4                           2                     2  \n",
              "...                       ...                   ...  \n",
              "1465                        0                     3  \n",
              "1466                        1                     7  \n",
              "1467                        0                     3  \n",
              "1468                        0                     8  \n",
              "1469                        1                     2  \n",
              "\n",
              "[1470 rows x 35 columns]"
            ],
            "text/html": [
              "\n",
              "  <div id=\"df-c01a87a3-90fe-40fd-bb63-e43bc751feb9\" class=\"colab-df-container\">\n",
              "    <div>\n",
              "<style scoped>\n",
              "    .dataframe tbody tr th:only-of-type {\n",
              "        vertical-align: middle;\n",
              "    }\n",
              "\n",
              "    .dataframe tbody tr th {\n",
              "        vertical-align: top;\n",
              "    }\n",
              "\n",
              "    .dataframe thead th {\n",
              "        text-align: right;\n",
              "    }\n",
              "</style>\n",
              "<table border=\"1\" class=\"dataframe\">\n",
              "  <thead>\n",
              "    <tr style=\"text-align: right;\">\n",
              "      <th></th>\n",
              "      <th>Age</th>\n",
              "      <th>Attrition</th>\n",
              "      <th>BusinessTravel</th>\n",
              "      <th>DailyRate</th>\n",
              "      <th>Department</th>\n",
              "      <th>DistanceFromHome</th>\n",
              "      <th>Education</th>\n",
              "      <th>EducationField</th>\n",
              "      <th>EmployeeCount</th>\n",
              "      <th>EmployeeNumber</th>\n",
              "      <th>...</th>\n",
              "      <th>RelationshipSatisfaction</th>\n",
              "      <th>StandardHours</th>\n",
              "      <th>StockOptionLevel</th>\n",
              "      <th>TotalWorkingYears</th>\n",
              "      <th>TrainingTimesLastYear</th>\n",
              "      <th>WorkLifeBalance</th>\n",
              "      <th>YearsAtCompany</th>\n",
              "      <th>YearsInCurrentRole</th>\n",
              "      <th>YearsSinceLastPromotion</th>\n",
              "      <th>YearsWithCurrManager</th>\n",
              "    </tr>\n",
              "  </thead>\n",
              "  <tbody>\n",
              "    <tr>\n",
              "      <th>0</th>\n",
              "      <td>41</td>\n",
              "      <td>Yes</td>\n",
              "      <td>Travel_Rarely</td>\n",
              "      <td>1102</td>\n",
              "      <td>Sales</td>\n",
              "      <td>1</td>\n",
              "      <td>2</td>\n",
              "      <td>Life Sciences</td>\n",
              "      <td>1</td>\n",
              "      <td>1</td>\n",
              "      <td>...</td>\n",
              "      <td>1</td>\n",
              "      <td>80</td>\n",
              "      <td>0</td>\n",
              "      <td>8</td>\n",
              "      <td>0</td>\n",
              "      <td>1</td>\n",
              "      <td>6</td>\n",
              "      <td>4</td>\n",
              "      <td>0</td>\n",
              "      <td>5</td>\n",
              "    </tr>\n",
              "    <tr>\n",
              "      <th>1</th>\n",
              "      <td>49</td>\n",
              "      <td>No</td>\n",
              "      <td>Travel_Frequently</td>\n",
              "      <td>279</td>\n",
              "      <td>Research &amp; Development</td>\n",
              "      <td>8</td>\n",
              "      <td>1</td>\n",
              "      <td>Life Sciences</td>\n",
              "      <td>1</td>\n",
              "      <td>2</td>\n",
              "      <td>...</td>\n",
              "      <td>4</td>\n",
              "      <td>80</td>\n",
              "      <td>1</td>\n",
              "      <td>10</td>\n",
              "      <td>3</td>\n",
              "      <td>3</td>\n",
              "      <td>10</td>\n",
              "      <td>7</td>\n",
              "      <td>1</td>\n",
              "      <td>7</td>\n",
              "    </tr>\n",
              "    <tr>\n",
              "      <th>2</th>\n",
              "      <td>37</td>\n",
              "      <td>Yes</td>\n",
              "      <td>Travel_Rarely</td>\n",
              "      <td>1373</td>\n",
              "      <td>Research &amp; Development</td>\n",
              "      <td>2</td>\n",
              "      <td>2</td>\n",
              "      <td>Other</td>\n",
              "      <td>1</td>\n",
              "      <td>4</td>\n",
              "      <td>...</td>\n",
              "      <td>2</td>\n",
              "      <td>80</td>\n",
              "      <td>0</td>\n",
              "      <td>7</td>\n",
              "      <td>3</td>\n",
              "      <td>3</td>\n",
              "      <td>0</td>\n",
              "      <td>0</td>\n",
              "      <td>0</td>\n",
              "      <td>0</td>\n",
              "    </tr>\n",
              "    <tr>\n",
              "      <th>3</th>\n",
              "      <td>33</td>\n",
              "      <td>No</td>\n",
              "      <td>Travel_Frequently</td>\n",
              "      <td>1392</td>\n",
              "      <td>Research &amp; Development</td>\n",
              "      <td>3</td>\n",
              "      <td>4</td>\n",
              "      <td>Life Sciences</td>\n",
              "      <td>1</td>\n",
              "      <td>5</td>\n",
              "      <td>...</td>\n",
              "      <td>3</td>\n",
              "      <td>80</td>\n",
              "      <td>0</td>\n",
              "      <td>8</td>\n",
              "      <td>3</td>\n",
              "      <td>3</td>\n",
              "      <td>8</td>\n",
              "      <td>7</td>\n",
              "      <td>3</td>\n",
              "      <td>0</td>\n",
              "    </tr>\n",
              "    <tr>\n",
              "      <th>4</th>\n",
              "      <td>27</td>\n",
              "      <td>No</td>\n",
              "      <td>Travel_Rarely</td>\n",
              "      <td>591</td>\n",
              "      <td>Research &amp; Development</td>\n",
              "      <td>2</td>\n",
              "      <td>1</td>\n",
              "      <td>Medical</td>\n",
              "      <td>1</td>\n",
              "      <td>7</td>\n",
              "      <td>...</td>\n",
              "      <td>4</td>\n",
              "      <td>80</td>\n",
              "      <td>1</td>\n",
              "      <td>6</td>\n",
              "      <td>3</td>\n",
              "      <td>3</td>\n",
              "      <td>2</td>\n",
              "      <td>2</td>\n",
              "      <td>2</td>\n",
              "      <td>2</td>\n",
              "    </tr>\n",
              "    <tr>\n",
              "      <th>...</th>\n",
              "      <td>...</td>\n",
              "      <td>...</td>\n",
              "      <td>...</td>\n",
              "      <td>...</td>\n",
              "      <td>...</td>\n",
              "      <td>...</td>\n",
              "      <td>...</td>\n",
              "      <td>...</td>\n",
              "      <td>...</td>\n",
              "      <td>...</td>\n",
              "      <td>...</td>\n",
              "      <td>...</td>\n",
              "      <td>...</td>\n",
              "      <td>...</td>\n",
              "      <td>...</td>\n",
              "      <td>...</td>\n",
              "      <td>...</td>\n",
              "      <td>...</td>\n",
              "      <td>...</td>\n",
              "      <td>...</td>\n",
              "      <td>...</td>\n",
              "    </tr>\n",
              "    <tr>\n",
              "      <th>1465</th>\n",
              "      <td>36</td>\n",
              "      <td>No</td>\n",
              "      <td>Travel_Frequently</td>\n",
              "      <td>884</td>\n",
              "      <td>Research &amp; Development</td>\n",
              "      <td>23</td>\n",
              "      <td>2</td>\n",
              "      <td>Medical</td>\n",
              "      <td>1</td>\n",
              "      <td>2061</td>\n",
              "      <td>...</td>\n",
              "      <td>3</td>\n",
              "      <td>80</td>\n",
              "      <td>1</td>\n",
              "      <td>17</td>\n",
              "      <td>3</td>\n",
              "      <td>3</td>\n",
              "      <td>5</td>\n",
              "      <td>2</td>\n",
              "      <td>0</td>\n",
              "      <td>3</td>\n",
              "    </tr>\n",
              "    <tr>\n",
              "      <th>1466</th>\n",
              "      <td>39</td>\n",
              "      <td>No</td>\n",
              "      <td>Travel_Rarely</td>\n",
              "      <td>613</td>\n",
              "      <td>Research &amp; Development</td>\n",
              "      <td>6</td>\n",
              "      <td>1</td>\n",
              "      <td>Medical</td>\n",
              "      <td>1</td>\n",
              "      <td>2062</td>\n",
              "      <td>...</td>\n",
              "      <td>1</td>\n",
              "      <td>80</td>\n",
              "      <td>1</td>\n",
              "      <td>9</td>\n",
              "      <td>5</td>\n",
              "      <td>3</td>\n",
              "      <td>7</td>\n",
              "      <td>7</td>\n",
              "      <td>1</td>\n",
              "      <td>7</td>\n",
              "    </tr>\n",
              "    <tr>\n",
              "      <th>1467</th>\n",
              "      <td>27</td>\n",
              "      <td>No</td>\n",
              "      <td>Travel_Rarely</td>\n",
              "      <td>155</td>\n",
              "      <td>Research &amp; Development</td>\n",
              "      <td>4</td>\n",
              "      <td>3</td>\n",
              "      <td>Life Sciences</td>\n",
              "      <td>1</td>\n",
              "      <td>2064</td>\n",
              "      <td>...</td>\n",
              "      <td>2</td>\n",
              "      <td>80</td>\n",
              "      <td>1</td>\n",
              "      <td>6</td>\n",
              "      <td>0</td>\n",
              "      <td>3</td>\n",
              "      <td>6</td>\n",
              "      <td>2</td>\n",
              "      <td>0</td>\n",
              "      <td>3</td>\n",
              "    </tr>\n",
              "    <tr>\n",
              "      <th>1468</th>\n",
              "      <td>49</td>\n",
              "      <td>No</td>\n",
              "      <td>Travel_Frequently</td>\n",
              "      <td>1023</td>\n",
              "      <td>Sales</td>\n",
              "      <td>2</td>\n",
              "      <td>3</td>\n",
              "      <td>Medical</td>\n",
              "      <td>1</td>\n",
              "      <td>2065</td>\n",
              "      <td>...</td>\n",
              "      <td>4</td>\n",
              "      <td>80</td>\n",
              "      <td>0</td>\n",
              "      <td>17</td>\n",
              "      <td>3</td>\n",
              "      <td>2</td>\n",
              "      <td>9</td>\n",
              "      <td>6</td>\n",
              "      <td>0</td>\n",
              "      <td>8</td>\n",
              "    </tr>\n",
              "    <tr>\n",
              "      <th>1469</th>\n",
              "      <td>34</td>\n",
              "      <td>No</td>\n",
              "      <td>Travel_Rarely</td>\n",
              "      <td>628</td>\n",
              "      <td>Research &amp; Development</td>\n",
              "      <td>8</td>\n",
              "      <td>3</td>\n",
              "      <td>Medical</td>\n",
              "      <td>1</td>\n",
              "      <td>2068</td>\n",
              "      <td>...</td>\n",
              "      <td>1</td>\n",
              "      <td>80</td>\n",
              "      <td>0</td>\n",
              "      <td>6</td>\n",
              "      <td>3</td>\n",
              "      <td>4</td>\n",
              "      <td>4</td>\n",
              "      <td>3</td>\n",
              "      <td>1</td>\n",
              "      <td>2</td>\n",
              "    </tr>\n",
              "  </tbody>\n",
              "</table>\n",
              "<p>1470 rows × 35 columns</p>\n",
              "</div>\n",
              "    <div class=\"colab-df-buttons\">\n",
              "\n",
              "  <div class=\"colab-df-container\">\n",
              "    <button class=\"colab-df-convert\" onclick=\"convertToInteractive('df-c01a87a3-90fe-40fd-bb63-e43bc751feb9')\"\n",
              "            title=\"Convert this dataframe to an interactive table.\"\n",
              "            style=\"display:none;\">\n",
              "\n",
              "  <svg xmlns=\"http://www.w3.org/2000/svg\" height=\"24px\" viewBox=\"0 -960 960 960\">\n",
              "    <path d=\"M120-120v-720h720v720H120Zm60-500h600v-160H180v160Zm220 220h160v-160H400v160Zm0 220h160v-160H400v160ZM180-400h160v-160H180v160Zm440 0h160v-160H620v160ZM180-180h160v-160H180v160Zm440 0h160v-160H620v160Z\"/>\n",
              "  </svg>\n",
              "    </button>\n",
              "\n",
              "  <style>\n",
              "    .colab-df-container {\n",
              "      display:flex;\n",
              "      gap: 12px;\n",
              "    }\n",
              "\n",
              "    .colab-df-convert {\n",
              "      background-color: #E8F0FE;\n",
              "      border: none;\n",
              "      border-radius: 50%;\n",
              "      cursor: pointer;\n",
              "      display: none;\n",
              "      fill: #1967D2;\n",
              "      height: 32px;\n",
              "      padding: 0 0 0 0;\n",
              "      width: 32px;\n",
              "    }\n",
              "\n",
              "    .colab-df-convert:hover {\n",
              "      background-color: #E2EBFA;\n",
              "      box-shadow: 0px 1px 2px rgba(60, 64, 67, 0.3), 0px 1px 3px 1px rgba(60, 64, 67, 0.15);\n",
              "      fill: #174EA6;\n",
              "    }\n",
              "\n",
              "    .colab-df-buttons div {\n",
              "      margin-bottom: 4px;\n",
              "    }\n",
              "\n",
              "    [theme=dark] .colab-df-convert {\n",
              "      background-color: #3B4455;\n",
              "      fill: #D2E3FC;\n",
              "    }\n",
              "\n",
              "    [theme=dark] .colab-df-convert:hover {\n",
              "      background-color: #434B5C;\n",
              "      box-shadow: 0px 1px 3px 1px rgba(0, 0, 0, 0.15);\n",
              "      filter: drop-shadow(0px 1px 2px rgba(0, 0, 0, 0.3));\n",
              "      fill: #FFFFFF;\n",
              "    }\n",
              "  </style>\n",
              "\n",
              "    <script>\n",
              "      const buttonEl =\n",
              "        document.querySelector('#df-c01a87a3-90fe-40fd-bb63-e43bc751feb9 button.colab-df-convert');\n",
              "      buttonEl.style.display =\n",
              "        google.colab.kernel.accessAllowed ? 'block' : 'none';\n",
              "\n",
              "      async function convertToInteractive(key) {\n",
              "        const element = document.querySelector('#df-c01a87a3-90fe-40fd-bb63-e43bc751feb9');\n",
              "        const dataTable =\n",
              "          await google.colab.kernel.invokeFunction('convertToInteractive',\n",
              "                                                    [key], {});\n",
              "        if (!dataTable) return;\n",
              "\n",
              "        const docLinkHtml = 'Like what you see? Visit the ' +\n",
              "          '<a target=\"_blank\" href=https://colab.research.google.com/notebooks/data_table.ipynb>data table notebook</a>'\n",
              "          + ' to learn more about interactive tables.';\n",
              "        element.innerHTML = '';\n",
              "        dataTable['output_type'] = 'display_data';\n",
              "        await google.colab.output.renderOutput(dataTable, element);\n",
              "        const docLink = document.createElement('div');\n",
              "        docLink.innerHTML = docLinkHtml;\n",
              "        element.appendChild(docLink);\n",
              "      }\n",
              "    </script>\n",
              "  </div>\n",
              "\n",
              "\n",
              "<div id=\"df-0cfffc4e-5b4d-4915-a0bc-8811ca5c99bf\">\n",
              "  <button class=\"colab-df-quickchart\" onclick=\"quickchart('df-0cfffc4e-5b4d-4915-a0bc-8811ca5c99bf')\"\n",
              "            title=\"Suggest charts.\"\n",
              "            style=\"display:none;\">\n",
              "\n",
              "<svg xmlns=\"http://www.w3.org/2000/svg\" height=\"24px\"viewBox=\"0 0 24 24\"\n",
              "     width=\"24px\">\n",
              "    <g>\n",
              "        <path d=\"M19 3H5c-1.1 0-2 .9-2 2v14c0 1.1.9 2 2 2h14c1.1 0 2-.9 2-2V5c0-1.1-.9-2-2-2zM9 17H7v-7h2v7zm4 0h-2V7h2v10zm4 0h-2v-4h2v4z\"/>\n",
              "    </g>\n",
              "</svg>\n",
              "  </button>\n",
              "\n",
              "<style>\n",
              "  .colab-df-quickchart {\n",
              "      --bg-color: #E8F0FE;\n",
              "      --fill-color: #1967D2;\n",
              "      --hover-bg-color: #E2EBFA;\n",
              "      --hover-fill-color: #174EA6;\n",
              "      --disabled-fill-color: #AAA;\n",
              "      --disabled-bg-color: #DDD;\n",
              "  }\n",
              "\n",
              "  [theme=dark] .colab-df-quickchart {\n",
              "      --bg-color: #3B4455;\n",
              "      --fill-color: #D2E3FC;\n",
              "      --hover-bg-color: #434B5C;\n",
              "      --hover-fill-color: #FFFFFF;\n",
              "      --disabled-bg-color: #3B4455;\n",
              "      --disabled-fill-color: #666;\n",
              "  }\n",
              "\n",
              "  .colab-df-quickchart {\n",
              "    background-color: var(--bg-color);\n",
              "    border: none;\n",
              "    border-radius: 50%;\n",
              "    cursor: pointer;\n",
              "    display: none;\n",
              "    fill: var(--fill-color);\n",
              "    height: 32px;\n",
              "    padding: 0;\n",
              "    width: 32px;\n",
              "  }\n",
              "\n",
              "  .colab-df-quickchart:hover {\n",
              "    background-color: var(--hover-bg-color);\n",
              "    box-shadow: 0 1px 2px rgba(60, 64, 67, 0.3), 0 1px 3px 1px rgba(60, 64, 67, 0.15);\n",
              "    fill: var(--button-hover-fill-color);\n",
              "  }\n",
              "\n",
              "  .colab-df-quickchart-complete:disabled,\n",
              "  .colab-df-quickchart-complete:disabled:hover {\n",
              "    background-color: var(--disabled-bg-color);\n",
              "    fill: var(--disabled-fill-color);\n",
              "    box-shadow: none;\n",
              "  }\n",
              "\n",
              "  .colab-df-spinner {\n",
              "    border: 2px solid var(--fill-color);\n",
              "    border-color: transparent;\n",
              "    border-bottom-color: var(--fill-color);\n",
              "    animation:\n",
              "      spin 1s steps(1) infinite;\n",
              "  }\n",
              "\n",
              "  @keyframes spin {\n",
              "    0% {\n",
              "      border-color: transparent;\n",
              "      border-bottom-color: var(--fill-color);\n",
              "      border-left-color: var(--fill-color);\n",
              "    }\n",
              "    20% {\n",
              "      border-color: transparent;\n",
              "      border-left-color: var(--fill-color);\n",
              "      border-top-color: var(--fill-color);\n",
              "    }\n",
              "    30% {\n",
              "      border-color: transparent;\n",
              "      border-left-color: var(--fill-color);\n",
              "      border-top-color: var(--fill-color);\n",
              "      border-right-color: var(--fill-color);\n",
              "    }\n",
              "    40% {\n",
              "      border-color: transparent;\n",
              "      border-right-color: var(--fill-color);\n",
              "      border-top-color: var(--fill-color);\n",
              "    }\n",
              "    60% {\n",
              "      border-color: transparent;\n",
              "      border-right-color: var(--fill-color);\n",
              "    }\n",
              "    80% {\n",
              "      border-color: transparent;\n",
              "      border-right-color: var(--fill-color);\n",
              "      border-bottom-color: var(--fill-color);\n",
              "    }\n",
              "    90% {\n",
              "      border-color: transparent;\n",
              "      border-bottom-color: var(--fill-color);\n",
              "    }\n",
              "  }\n",
              "</style>\n",
              "\n",
              "  <script>\n",
              "    async function quickchart(key) {\n",
              "      const quickchartButtonEl =\n",
              "        document.querySelector('#' + key + ' button');\n",
              "      quickchartButtonEl.disabled = true;  // To prevent multiple clicks.\n",
              "      quickchartButtonEl.classList.add('colab-df-spinner');\n",
              "      try {\n",
              "        const charts = await google.colab.kernel.invokeFunction(\n",
              "            'suggestCharts', [key], {});\n",
              "      } catch (error) {\n",
              "        console.error('Error during call to suggestCharts:', error);\n",
              "      }\n",
              "      quickchartButtonEl.classList.remove('colab-df-spinner');\n",
              "      quickchartButtonEl.classList.add('colab-df-quickchart-complete');\n",
              "    }\n",
              "    (() => {\n",
              "      let quickchartButtonEl =\n",
              "        document.querySelector('#df-0cfffc4e-5b4d-4915-a0bc-8811ca5c99bf button');\n",
              "      quickchartButtonEl.style.display =\n",
              "        google.colab.kernel.accessAllowed ? 'block' : 'none';\n",
              "    })();\n",
              "  </script>\n",
              "</div>\n",
              "    </div>\n",
              "  </div>\n"
            ]
          },
          "metadata": {},
          "execution_count": 3
        }
      ]
    },
    {
      "cell_type": "markdown",
      "source": [
        "#Find out shape of the dataset"
      ],
      "metadata": {
        "id": "M2DNZyDYy2-h"
      }
    },
    {
      "cell_type": "code",
      "source": [
        "HRAnalytics.shape"
      ],
      "metadata": {
        "colab": {
          "base_uri": "https://localhost:8080/"
        },
        "id": "V_Smp-w2y7D8",
        "outputId": "ceb77a05-60ae-4b59-a4aa-7fcea41edeb1"
      },
      "execution_count": 4,
      "outputs": [
        {
          "output_type": "execute_result",
          "data": {
            "text/plain": [
              "(1470, 35)"
            ]
          },
          "metadata": {},
          "execution_count": 4
        }
      ]
    },
    {
      "cell_type": "markdown",
      "source": [
        "#Finding to see the how many columns present in the dataset."
      ],
      "metadata": {
        "id": "CHf3r-DWzh4E"
      }
    },
    {
      "cell_type": "code",
      "source": [
        "HRAnalytics.columns"
      ],
      "metadata": {
        "colab": {
          "base_uri": "https://localhost:8080/"
        },
        "id": "uO88GbKrzicb",
        "outputId": "88482a3c-e643-40d7-d9e5-2f525ada661b"
      },
      "execution_count": 5,
      "outputs": [
        {
          "output_type": "execute_result",
          "data": {
            "text/plain": [
              "Index(['Age', 'Attrition', 'BusinessTravel', 'DailyRate', 'Department',\n",
              "       'DistanceFromHome', 'Education', 'EducationField', 'EmployeeCount',\n",
              "       'EmployeeNumber', 'EnvironmentSatisfaction', 'Gender', 'HourlyRate',\n",
              "       'JobInvolvement', 'JobLevel', 'JobRole', 'JobSatisfaction',\n",
              "       'MaritalStatus', 'MonthlyIncome', 'MonthlyRate', 'NumCompaniesWorked',\n",
              "       'Over18', 'OverTime', 'PercentSalaryHike', 'PerformanceRating',\n",
              "       'RelationshipSatisfaction', 'StandardHours', 'StockOptionLevel',\n",
              "       'TotalWorkingYears', 'TrainingTimesLastYear', 'WorkLifeBalance',\n",
              "       'YearsAtCompany', 'YearsInCurrentRole', 'YearsSinceLastPromotion',\n",
              "       'YearsWithCurrManager'],\n",
              "      dtype='object')"
            ]
          },
          "metadata": {},
          "execution_count": 5
        }
      ]
    },
    {
      "cell_type": "markdown",
      "source": [
        "#Checking Non-Null Count and Datatype of each column present in the Diabetes dataset:"
      ],
      "metadata": {
        "id": "2Tsx56yp0cZl"
      }
    },
    {
      "cell_type": "code",
      "source": [
        "HRAnalytics.info()"
      ],
      "metadata": {
        "colab": {
          "base_uri": "https://localhost:8080/"
        },
        "id": "HlpTHPup0c4-",
        "outputId": "d97c2b01-0f49-4da6-ba19-7a87be8d8232"
      },
      "execution_count": 6,
      "outputs": [
        {
          "output_type": "stream",
          "name": "stdout",
          "text": [
            "<class 'pandas.core.frame.DataFrame'>\n",
            "RangeIndex: 1470 entries, 0 to 1469\n",
            "Data columns (total 35 columns):\n",
            " #   Column                    Non-Null Count  Dtype \n",
            "---  ------                    --------------  ----- \n",
            " 0   Age                       1470 non-null   int64 \n",
            " 1   Attrition                 1470 non-null   object\n",
            " 2   BusinessTravel            1470 non-null   object\n",
            " 3   DailyRate                 1470 non-null   int64 \n",
            " 4   Department                1470 non-null   object\n",
            " 5   DistanceFromHome          1470 non-null   int64 \n",
            " 6   Education                 1470 non-null   int64 \n",
            " 7   EducationField            1470 non-null   object\n",
            " 8   EmployeeCount             1470 non-null   int64 \n",
            " 9   EmployeeNumber            1470 non-null   int64 \n",
            " 10  EnvironmentSatisfaction   1470 non-null   int64 \n",
            " 11  Gender                    1470 non-null   object\n",
            " 12  HourlyRate                1470 non-null   int64 \n",
            " 13  JobInvolvement            1470 non-null   int64 \n",
            " 14  JobLevel                  1470 non-null   int64 \n",
            " 15  JobRole                   1470 non-null   object\n",
            " 16  JobSatisfaction           1470 non-null   int64 \n",
            " 17  MaritalStatus             1470 non-null   object\n",
            " 18  MonthlyIncome             1470 non-null   int64 \n",
            " 19  MonthlyRate               1470 non-null   int64 \n",
            " 20  NumCompaniesWorked        1470 non-null   int64 \n",
            " 21  Over18                    1470 non-null   object\n",
            " 22  OverTime                  1470 non-null   object\n",
            " 23  PercentSalaryHike         1470 non-null   int64 \n",
            " 24  PerformanceRating         1470 non-null   int64 \n",
            " 25  RelationshipSatisfaction  1470 non-null   int64 \n",
            " 26  StandardHours             1470 non-null   int64 \n",
            " 27  StockOptionLevel          1470 non-null   int64 \n",
            " 28  TotalWorkingYears         1470 non-null   int64 \n",
            " 29  TrainingTimesLastYear     1470 non-null   int64 \n",
            " 30  WorkLifeBalance           1470 non-null   int64 \n",
            " 31  YearsAtCompany            1470 non-null   int64 \n",
            " 32  YearsInCurrentRole        1470 non-null   int64 \n",
            " 33  YearsSinceLastPromotion   1470 non-null   int64 \n",
            " 34  YearsWithCurrManager      1470 non-null   int64 \n",
            "dtypes: int64(26), object(9)\n",
            "memory usage: 402.1+ KB\n"
          ]
        }
      ]
    },
    {
      "cell_type": "markdown",
      "source": [
        "#Checking null values present in the diabetes dataset columnwise:"
      ],
      "metadata": {
        "id": "3rV0u1E61Qad"
      }
    },
    {
      "cell_type": "code",
      "source": [
        "HRAnalytics.isnull().sum()"
      ],
      "metadata": {
        "colab": {
          "base_uri": "https://localhost:8080/"
        },
        "id": "FZk57e0r1Q6b",
        "outputId": "73f43bc3-dca0-4dea-e8e1-67b89b3d05a9"
      },
      "execution_count": 7,
      "outputs": [
        {
          "output_type": "execute_result",
          "data": {
            "text/plain": [
              "Age                         0\n",
              "Attrition                   0\n",
              "BusinessTravel              0\n",
              "DailyRate                   0\n",
              "Department                  0\n",
              "DistanceFromHome            0\n",
              "Education                   0\n",
              "EducationField              0\n",
              "EmployeeCount               0\n",
              "EmployeeNumber              0\n",
              "EnvironmentSatisfaction     0\n",
              "Gender                      0\n",
              "HourlyRate                  0\n",
              "JobInvolvement              0\n",
              "JobLevel                    0\n",
              "JobRole                     0\n",
              "JobSatisfaction             0\n",
              "MaritalStatus               0\n",
              "MonthlyIncome               0\n",
              "MonthlyRate                 0\n",
              "NumCompaniesWorked          0\n",
              "Over18                      0\n",
              "OverTime                    0\n",
              "PercentSalaryHike           0\n",
              "PerformanceRating           0\n",
              "RelationshipSatisfaction    0\n",
              "StandardHours               0\n",
              "StockOptionLevel            0\n",
              "TotalWorkingYears           0\n",
              "TrainingTimesLastYear       0\n",
              "WorkLifeBalance             0\n",
              "YearsAtCompany              0\n",
              "YearsInCurrentRole          0\n",
              "YearsSinceLastPromotion     0\n",
              "YearsWithCurrManager        0\n",
              "dtype: int64"
            ]
          },
          "metadata": {},
          "execution_count": 7
        }
      ]
    },
    {
      "cell_type": "markdown",
      "source": [
        "#Checking number of unique values columnwise:"
      ],
      "metadata": {
        "id": "PWLZyX9S1avu"
      }
    },
    {
      "cell_type": "code",
      "source": [
        "HRAnalytics.nunique()"
      ],
      "metadata": {
        "colab": {
          "base_uri": "https://localhost:8080/"
        },
        "id": "MRmjWgCK1bSG",
        "outputId": "a7a81a6d-6866-4e0a-8be5-ced5dfc1c086"
      },
      "execution_count": 8,
      "outputs": [
        {
          "output_type": "execute_result",
          "data": {
            "text/plain": [
              "Age                           43\n",
              "Attrition                      2\n",
              "BusinessTravel                 3\n",
              "DailyRate                    886\n",
              "Department                     3\n",
              "DistanceFromHome              29\n",
              "Education                      5\n",
              "EducationField                 6\n",
              "EmployeeCount                  1\n",
              "EmployeeNumber              1470\n",
              "EnvironmentSatisfaction        4\n",
              "Gender                         2\n",
              "HourlyRate                    71\n",
              "JobInvolvement                 4\n",
              "JobLevel                       5\n",
              "JobRole                        9\n",
              "JobSatisfaction                4\n",
              "MaritalStatus                  3\n",
              "MonthlyIncome               1349\n",
              "MonthlyRate                 1427\n",
              "NumCompaniesWorked            10\n",
              "Over18                         1\n",
              "OverTime                       2\n",
              "PercentSalaryHike             15\n",
              "PerformanceRating              2\n",
              "RelationshipSatisfaction       4\n",
              "StandardHours                  1\n",
              "StockOptionLevel               4\n",
              "TotalWorkingYears             40\n",
              "TrainingTimesLastYear          7\n",
              "WorkLifeBalance                4\n",
              "YearsAtCompany                37\n",
              "YearsInCurrentRole            19\n",
              "YearsSinceLastPromotion       16\n",
              "YearsWithCurrManager          18\n",
              "dtype: int64"
            ]
          },
          "metadata": {},
          "execution_count": 8
        }
      ]
    },
    {
      "cell_type": "markdown",
      "source": [
        "#Describe the dataset:"
      ],
      "metadata": {
        "id": "A9GE-sa01ju_"
      }
    },
    {
      "cell_type": "code",
      "source": [
        "HRAnalytics.describe()"
      ],
      "metadata": {
        "colab": {
          "base_uri": "https://localhost:8080/",
          "height": 349
        },
        "id": "GXgTCuQv1nPl",
        "outputId": "f5ff9c24-1d45-4e64-bf13-cec5b199cb19"
      },
      "execution_count": 9,
      "outputs": [
        {
          "output_type": "execute_result",
          "data": {
            "text/plain": [
              "               Age    DailyRate  DistanceFromHome    Education  EmployeeCount  \\\n",
              "count  1470.000000  1470.000000       1470.000000  1470.000000         1470.0   \n",
              "mean     36.923810   802.485714          9.192517     2.912925            1.0   \n",
              "std       9.135373   403.509100          8.106864     1.024165            0.0   \n",
              "min      18.000000   102.000000          1.000000     1.000000            1.0   \n",
              "25%      30.000000   465.000000          2.000000     2.000000            1.0   \n",
              "50%      36.000000   802.000000          7.000000     3.000000            1.0   \n",
              "75%      43.000000  1157.000000         14.000000     4.000000            1.0   \n",
              "max      60.000000  1499.000000         29.000000     5.000000            1.0   \n",
              "\n",
              "       EmployeeNumber  EnvironmentSatisfaction   HourlyRate  JobInvolvement  \\\n",
              "count     1470.000000              1470.000000  1470.000000     1470.000000   \n",
              "mean      1024.865306                 2.721769    65.891156        2.729932   \n",
              "std        602.024335                 1.093082    20.329428        0.711561   \n",
              "min          1.000000                 1.000000    30.000000        1.000000   \n",
              "25%        491.250000                 2.000000    48.000000        2.000000   \n",
              "50%       1020.500000                 3.000000    66.000000        3.000000   \n",
              "75%       1555.750000                 4.000000    83.750000        3.000000   \n",
              "max       2068.000000                 4.000000   100.000000        4.000000   \n",
              "\n",
              "          JobLevel  ...  RelationshipSatisfaction  StandardHours  \\\n",
              "count  1470.000000  ...               1470.000000         1470.0   \n",
              "mean      2.063946  ...                  2.712245           80.0   \n",
              "std       1.106940  ...                  1.081209            0.0   \n",
              "min       1.000000  ...                  1.000000           80.0   \n",
              "25%       1.000000  ...                  2.000000           80.0   \n",
              "50%       2.000000  ...                  3.000000           80.0   \n",
              "75%       3.000000  ...                  4.000000           80.0   \n",
              "max       5.000000  ...                  4.000000           80.0   \n",
              "\n",
              "       StockOptionLevel  TotalWorkingYears  TrainingTimesLastYear  \\\n",
              "count       1470.000000        1470.000000            1470.000000   \n",
              "mean           0.793878          11.279592               2.799320   \n",
              "std            0.852077           7.780782               1.289271   \n",
              "min            0.000000           0.000000               0.000000   \n",
              "25%            0.000000           6.000000               2.000000   \n",
              "50%            1.000000          10.000000               3.000000   \n",
              "75%            1.000000          15.000000               3.000000   \n",
              "max            3.000000          40.000000               6.000000   \n",
              "\n",
              "       WorkLifeBalance  YearsAtCompany  YearsInCurrentRole  \\\n",
              "count      1470.000000     1470.000000         1470.000000   \n",
              "mean          2.761224        7.008163            4.229252   \n",
              "std           0.706476        6.126525            3.623137   \n",
              "min           1.000000        0.000000            0.000000   \n",
              "25%           2.000000        3.000000            2.000000   \n",
              "50%           3.000000        5.000000            3.000000   \n",
              "75%           3.000000        9.000000            7.000000   \n",
              "max           4.000000       40.000000           18.000000   \n",
              "\n",
              "       YearsSinceLastPromotion  YearsWithCurrManager  \n",
              "count              1470.000000           1470.000000  \n",
              "mean                  2.187755              4.123129  \n",
              "std                   3.222430              3.568136  \n",
              "min                   0.000000              0.000000  \n",
              "25%                   0.000000              2.000000  \n",
              "50%                   1.000000              3.000000  \n",
              "75%                   3.000000              7.000000  \n",
              "max                  15.000000             17.000000  \n",
              "\n",
              "[8 rows x 26 columns]"
            ],
            "text/html": [
              "\n",
              "  <div id=\"df-e80d3986-94d8-477e-a916-d3aaa595909f\" class=\"colab-df-container\">\n",
              "    <div>\n",
              "<style scoped>\n",
              "    .dataframe tbody tr th:only-of-type {\n",
              "        vertical-align: middle;\n",
              "    }\n",
              "\n",
              "    .dataframe tbody tr th {\n",
              "        vertical-align: top;\n",
              "    }\n",
              "\n",
              "    .dataframe thead th {\n",
              "        text-align: right;\n",
              "    }\n",
              "</style>\n",
              "<table border=\"1\" class=\"dataframe\">\n",
              "  <thead>\n",
              "    <tr style=\"text-align: right;\">\n",
              "      <th></th>\n",
              "      <th>Age</th>\n",
              "      <th>DailyRate</th>\n",
              "      <th>DistanceFromHome</th>\n",
              "      <th>Education</th>\n",
              "      <th>EmployeeCount</th>\n",
              "      <th>EmployeeNumber</th>\n",
              "      <th>EnvironmentSatisfaction</th>\n",
              "      <th>HourlyRate</th>\n",
              "      <th>JobInvolvement</th>\n",
              "      <th>JobLevel</th>\n",
              "      <th>...</th>\n",
              "      <th>RelationshipSatisfaction</th>\n",
              "      <th>StandardHours</th>\n",
              "      <th>StockOptionLevel</th>\n",
              "      <th>TotalWorkingYears</th>\n",
              "      <th>TrainingTimesLastYear</th>\n",
              "      <th>WorkLifeBalance</th>\n",
              "      <th>YearsAtCompany</th>\n",
              "      <th>YearsInCurrentRole</th>\n",
              "      <th>YearsSinceLastPromotion</th>\n",
              "      <th>YearsWithCurrManager</th>\n",
              "    </tr>\n",
              "  </thead>\n",
              "  <tbody>\n",
              "    <tr>\n",
              "      <th>count</th>\n",
              "      <td>1470.000000</td>\n",
              "      <td>1470.000000</td>\n",
              "      <td>1470.000000</td>\n",
              "      <td>1470.000000</td>\n",
              "      <td>1470.0</td>\n",
              "      <td>1470.000000</td>\n",
              "      <td>1470.000000</td>\n",
              "      <td>1470.000000</td>\n",
              "      <td>1470.000000</td>\n",
              "      <td>1470.000000</td>\n",
              "      <td>...</td>\n",
              "      <td>1470.000000</td>\n",
              "      <td>1470.0</td>\n",
              "      <td>1470.000000</td>\n",
              "      <td>1470.000000</td>\n",
              "      <td>1470.000000</td>\n",
              "      <td>1470.000000</td>\n",
              "      <td>1470.000000</td>\n",
              "      <td>1470.000000</td>\n",
              "      <td>1470.000000</td>\n",
              "      <td>1470.000000</td>\n",
              "    </tr>\n",
              "    <tr>\n",
              "      <th>mean</th>\n",
              "      <td>36.923810</td>\n",
              "      <td>802.485714</td>\n",
              "      <td>9.192517</td>\n",
              "      <td>2.912925</td>\n",
              "      <td>1.0</td>\n",
              "      <td>1024.865306</td>\n",
              "      <td>2.721769</td>\n",
              "      <td>65.891156</td>\n",
              "      <td>2.729932</td>\n",
              "      <td>2.063946</td>\n",
              "      <td>...</td>\n",
              "      <td>2.712245</td>\n",
              "      <td>80.0</td>\n",
              "      <td>0.793878</td>\n",
              "      <td>11.279592</td>\n",
              "      <td>2.799320</td>\n",
              "      <td>2.761224</td>\n",
              "      <td>7.008163</td>\n",
              "      <td>4.229252</td>\n",
              "      <td>2.187755</td>\n",
              "      <td>4.123129</td>\n",
              "    </tr>\n",
              "    <tr>\n",
              "      <th>std</th>\n",
              "      <td>9.135373</td>\n",
              "      <td>403.509100</td>\n",
              "      <td>8.106864</td>\n",
              "      <td>1.024165</td>\n",
              "      <td>0.0</td>\n",
              "      <td>602.024335</td>\n",
              "      <td>1.093082</td>\n",
              "      <td>20.329428</td>\n",
              "      <td>0.711561</td>\n",
              "      <td>1.106940</td>\n",
              "      <td>...</td>\n",
              "      <td>1.081209</td>\n",
              "      <td>0.0</td>\n",
              "      <td>0.852077</td>\n",
              "      <td>7.780782</td>\n",
              "      <td>1.289271</td>\n",
              "      <td>0.706476</td>\n",
              "      <td>6.126525</td>\n",
              "      <td>3.623137</td>\n",
              "      <td>3.222430</td>\n",
              "      <td>3.568136</td>\n",
              "    </tr>\n",
              "    <tr>\n",
              "      <th>min</th>\n",
              "      <td>18.000000</td>\n",
              "      <td>102.000000</td>\n",
              "      <td>1.000000</td>\n",
              "      <td>1.000000</td>\n",
              "      <td>1.0</td>\n",
              "      <td>1.000000</td>\n",
              "      <td>1.000000</td>\n",
              "      <td>30.000000</td>\n",
              "      <td>1.000000</td>\n",
              "      <td>1.000000</td>\n",
              "      <td>...</td>\n",
              "      <td>1.000000</td>\n",
              "      <td>80.0</td>\n",
              "      <td>0.000000</td>\n",
              "      <td>0.000000</td>\n",
              "      <td>0.000000</td>\n",
              "      <td>1.000000</td>\n",
              "      <td>0.000000</td>\n",
              "      <td>0.000000</td>\n",
              "      <td>0.000000</td>\n",
              "      <td>0.000000</td>\n",
              "    </tr>\n",
              "    <tr>\n",
              "      <th>25%</th>\n",
              "      <td>30.000000</td>\n",
              "      <td>465.000000</td>\n",
              "      <td>2.000000</td>\n",
              "      <td>2.000000</td>\n",
              "      <td>1.0</td>\n",
              "      <td>491.250000</td>\n",
              "      <td>2.000000</td>\n",
              "      <td>48.000000</td>\n",
              "      <td>2.000000</td>\n",
              "      <td>1.000000</td>\n",
              "      <td>...</td>\n",
              "      <td>2.000000</td>\n",
              "      <td>80.0</td>\n",
              "      <td>0.000000</td>\n",
              "      <td>6.000000</td>\n",
              "      <td>2.000000</td>\n",
              "      <td>2.000000</td>\n",
              "      <td>3.000000</td>\n",
              "      <td>2.000000</td>\n",
              "      <td>0.000000</td>\n",
              "      <td>2.000000</td>\n",
              "    </tr>\n",
              "    <tr>\n",
              "      <th>50%</th>\n",
              "      <td>36.000000</td>\n",
              "      <td>802.000000</td>\n",
              "      <td>7.000000</td>\n",
              "      <td>3.000000</td>\n",
              "      <td>1.0</td>\n",
              "      <td>1020.500000</td>\n",
              "      <td>3.000000</td>\n",
              "      <td>66.000000</td>\n",
              "      <td>3.000000</td>\n",
              "      <td>2.000000</td>\n",
              "      <td>...</td>\n",
              "      <td>3.000000</td>\n",
              "      <td>80.0</td>\n",
              "      <td>1.000000</td>\n",
              "      <td>10.000000</td>\n",
              "      <td>3.000000</td>\n",
              "      <td>3.000000</td>\n",
              "      <td>5.000000</td>\n",
              "      <td>3.000000</td>\n",
              "      <td>1.000000</td>\n",
              "      <td>3.000000</td>\n",
              "    </tr>\n",
              "    <tr>\n",
              "      <th>75%</th>\n",
              "      <td>43.000000</td>\n",
              "      <td>1157.000000</td>\n",
              "      <td>14.000000</td>\n",
              "      <td>4.000000</td>\n",
              "      <td>1.0</td>\n",
              "      <td>1555.750000</td>\n",
              "      <td>4.000000</td>\n",
              "      <td>83.750000</td>\n",
              "      <td>3.000000</td>\n",
              "      <td>3.000000</td>\n",
              "      <td>...</td>\n",
              "      <td>4.000000</td>\n",
              "      <td>80.0</td>\n",
              "      <td>1.000000</td>\n",
              "      <td>15.000000</td>\n",
              "      <td>3.000000</td>\n",
              "      <td>3.000000</td>\n",
              "      <td>9.000000</td>\n",
              "      <td>7.000000</td>\n",
              "      <td>3.000000</td>\n",
              "      <td>7.000000</td>\n",
              "    </tr>\n",
              "    <tr>\n",
              "      <th>max</th>\n",
              "      <td>60.000000</td>\n",
              "      <td>1499.000000</td>\n",
              "      <td>29.000000</td>\n",
              "      <td>5.000000</td>\n",
              "      <td>1.0</td>\n",
              "      <td>2068.000000</td>\n",
              "      <td>4.000000</td>\n",
              "      <td>100.000000</td>\n",
              "      <td>4.000000</td>\n",
              "      <td>5.000000</td>\n",
              "      <td>...</td>\n",
              "      <td>4.000000</td>\n",
              "      <td>80.0</td>\n",
              "      <td>3.000000</td>\n",
              "      <td>40.000000</td>\n",
              "      <td>6.000000</td>\n",
              "      <td>4.000000</td>\n",
              "      <td>40.000000</td>\n",
              "      <td>18.000000</td>\n",
              "      <td>15.000000</td>\n",
              "      <td>17.000000</td>\n",
              "    </tr>\n",
              "  </tbody>\n",
              "</table>\n",
              "<p>8 rows × 26 columns</p>\n",
              "</div>\n",
              "    <div class=\"colab-df-buttons\">\n",
              "\n",
              "  <div class=\"colab-df-container\">\n",
              "    <button class=\"colab-df-convert\" onclick=\"convertToInteractive('df-e80d3986-94d8-477e-a916-d3aaa595909f')\"\n",
              "            title=\"Convert this dataframe to an interactive table.\"\n",
              "            style=\"display:none;\">\n",
              "\n",
              "  <svg xmlns=\"http://www.w3.org/2000/svg\" height=\"24px\" viewBox=\"0 -960 960 960\">\n",
              "    <path d=\"M120-120v-720h720v720H120Zm60-500h600v-160H180v160Zm220 220h160v-160H400v160Zm0 220h160v-160H400v160ZM180-400h160v-160H180v160Zm440 0h160v-160H620v160ZM180-180h160v-160H180v160Zm440 0h160v-160H620v160Z\"/>\n",
              "  </svg>\n",
              "    </button>\n",
              "\n",
              "  <style>\n",
              "    .colab-df-container {\n",
              "      display:flex;\n",
              "      gap: 12px;\n",
              "    }\n",
              "\n",
              "    .colab-df-convert {\n",
              "      background-color: #E8F0FE;\n",
              "      border: none;\n",
              "      border-radius: 50%;\n",
              "      cursor: pointer;\n",
              "      display: none;\n",
              "      fill: #1967D2;\n",
              "      height: 32px;\n",
              "      padding: 0 0 0 0;\n",
              "      width: 32px;\n",
              "    }\n",
              "\n",
              "    .colab-df-convert:hover {\n",
              "      background-color: #E2EBFA;\n",
              "      box-shadow: 0px 1px 2px rgba(60, 64, 67, 0.3), 0px 1px 3px 1px rgba(60, 64, 67, 0.15);\n",
              "      fill: #174EA6;\n",
              "    }\n",
              "\n",
              "    .colab-df-buttons div {\n",
              "      margin-bottom: 4px;\n",
              "    }\n",
              "\n",
              "    [theme=dark] .colab-df-convert {\n",
              "      background-color: #3B4455;\n",
              "      fill: #D2E3FC;\n",
              "    }\n",
              "\n",
              "    [theme=dark] .colab-df-convert:hover {\n",
              "      background-color: #434B5C;\n",
              "      box-shadow: 0px 1px 3px 1px rgba(0, 0, 0, 0.15);\n",
              "      filter: drop-shadow(0px 1px 2px rgba(0, 0, 0, 0.3));\n",
              "      fill: #FFFFFF;\n",
              "    }\n",
              "  </style>\n",
              "\n",
              "    <script>\n",
              "      const buttonEl =\n",
              "        document.querySelector('#df-e80d3986-94d8-477e-a916-d3aaa595909f button.colab-df-convert');\n",
              "      buttonEl.style.display =\n",
              "        google.colab.kernel.accessAllowed ? 'block' : 'none';\n",
              "\n",
              "      async function convertToInteractive(key) {\n",
              "        const element = document.querySelector('#df-e80d3986-94d8-477e-a916-d3aaa595909f');\n",
              "        const dataTable =\n",
              "          await google.colab.kernel.invokeFunction('convertToInteractive',\n",
              "                                                    [key], {});\n",
              "        if (!dataTable) return;\n",
              "\n",
              "        const docLinkHtml = 'Like what you see? Visit the ' +\n",
              "          '<a target=\"_blank\" href=https://colab.research.google.com/notebooks/data_table.ipynb>data table notebook</a>'\n",
              "          + ' to learn more about interactive tables.';\n",
              "        element.innerHTML = '';\n",
              "        dataTable['output_type'] = 'display_data';\n",
              "        await google.colab.output.renderOutput(dataTable, element);\n",
              "        const docLink = document.createElement('div');\n",
              "        docLink.innerHTML = docLinkHtml;\n",
              "        element.appendChild(docLink);\n",
              "      }\n",
              "    </script>\n",
              "  </div>\n",
              "\n",
              "\n",
              "<div id=\"df-732a2e9c-9b64-469a-9ea9-fdc3cba7c1f9\">\n",
              "  <button class=\"colab-df-quickchart\" onclick=\"quickchart('df-732a2e9c-9b64-469a-9ea9-fdc3cba7c1f9')\"\n",
              "            title=\"Suggest charts.\"\n",
              "            style=\"display:none;\">\n",
              "\n",
              "<svg xmlns=\"http://www.w3.org/2000/svg\" height=\"24px\"viewBox=\"0 0 24 24\"\n",
              "     width=\"24px\">\n",
              "    <g>\n",
              "        <path d=\"M19 3H5c-1.1 0-2 .9-2 2v14c0 1.1.9 2 2 2h14c1.1 0 2-.9 2-2V5c0-1.1-.9-2-2-2zM9 17H7v-7h2v7zm4 0h-2V7h2v10zm4 0h-2v-4h2v4z\"/>\n",
              "    </g>\n",
              "</svg>\n",
              "  </button>\n",
              "\n",
              "<style>\n",
              "  .colab-df-quickchart {\n",
              "      --bg-color: #E8F0FE;\n",
              "      --fill-color: #1967D2;\n",
              "      --hover-bg-color: #E2EBFA;\n",
              "      --hover-fill-color: #174EA6;\n",
              "      --disabled-fill-color: #AAA;\n",
              "      --disabled-bg-color: #DDD;\n",
              "  }\n",
              "\n",
              "  [theme=dark] .colab-df-quickchart {\n",
              "      --bg-color: #3B4455;\n",
              "      --fill-color: #D2E3FC;\n",
              "      --hover-bg-color: #434B5C;\n",
              "      --hover-fill-color: #FFFFFF;\n",
              "      --disabled-bg-color: #3B4455;\n",
              "      --disabled-fill-color: #666;\n",
              "  }\n",
              "\n",
              "  .colab-df-quickchart {\n",
              "    background-color: var(--bg-color);\n",
              "    border: none;\n",
              "    border-radius: 50%;\n",
              "    cursor: pointer;\n",
              "    display: none;\n",
              "    fill: var(--fill-color);\n",
              "    height: 32px;\n",
              "    padding: 0;\n",
              "    width: 32px;\n",
              "  }\n",
              "\n",
              "  .colab-df-quickchart:hover {\n",
              "    background-color: var(--hover-bg-color);\n",
              "    box-shadow: 0 1px 2px rgba(60, 64, 67, 0.3), 0 1px 3px 1px rgba(60, 64, 67, 0.15);\n",
              "    fill: var(--button-hover-fill-color);\n",
              "  }\n",
              "\n",
              "  .colab-df-quickchart-complete:disabled,\n",
              "  .colab-df-quickchart-complete:disabled:hover {\n",
              "    background-color: var(--disabled-bg-color);\n",
              "    fill: var(--disabled-fill-color);\n",
              "    box-shadow: none;\n",
              "  }\n",
              "\n",
              "  .colab-df-spinner {\n",
              "    border: 2px solid var(--fill-color);\n",
              "    border-color: transparent;\n",
              "    border-bottom-color: var(--fill-color);\n",
              "    animation:\n",
              "      spin 1s steps(1) infinite;\n",
              "  }\n",
              "\n",
              "  @keyframes spin {\n",
              "    0% {\n",
              "      border-color: transparent;\n",
              "      border-bottom-color: var(--fill-color);\n",
              "      border-left-color: var(--fill-color);\n",
              "    }\n",
              "    20% {\n",
              "      border-color: transparent;\n",
              "      border-left-color: var(--fill-color);\n",
              "      border-top-color: var(--fill-color);\n",
              "    }\n",
              "    30% {\n",
              "      border-color: transparent;\n",
              "      border-left-color: var(--fill-color);\n",
              "      border-top-color: var(--fill-color);\n",
              "      border-right-color: var(--fill-color);\n",
              "    }\n",
              "    40% {\n",
              "      border-color: transparent;\n",
              "      border-right-color: var(--fill-color);\n",
              "      border-top-color: var(--fill-color);\n",
              "    }\n",
              "    60% {\n",
              "      border-color: transparent;\n",
              "      border-right-color: var(--fill-color);\n",
              "    }\n",
              "    80% {\n",
              "      border-color: transparent;\n",
              "      border-right-color: var(--fill-color);\n",
              "      border-bottom-color: var(--fill-color);\n",
              "    }\n",
              "    90% {\n",
              "      border-color: transparent;\n",
              "      border-bottom-color: var(--fill-color);\n",
              "    }\n",
              "  }\n",
              "</style>\n",
              "\n",
              "  <script>\n",
              "    async function quickchart(key) {\n",
              "      const quickchartButtonEl =\n",
              "        document.querySelector('#' + key + ' button');\n",
              "      quickchartButtonEl.disabled = true;  // To prevent multiple clicks.\n",
              "      quickchartButtonEl.classList.add('colab-df-spinner');\n",
              "      try {\n",
              "        const charts = await google.colab.kernel.invokeFunction(\n",
              "            'suggestCharts', [key], {});\n",
              "      } catch (error) {\n",
              "        console.error('Error during call to suggestCharts:', error);\n",
              "      }\n",
              "      quickchartButtonEl.classList.remove('colab-df-spinner');\n",
              "      quickchartButtonEl.classList.add('colab-df-quickchart-complete');\n",
              "    }\n",
              "    (() => {\n",
              "      let quickchartButtonEl =\n",
              "        document.querySelector('#df-732a2e9c-9b64-469a-9ea9-fdc3cba7c1f9 button');\n",
              "      quickchartButtonEl.style.display =\n",
              "        google.colab.kernel.accessAllowed ? 'block' : 'none';\n",
              "    })();\n",
              "  </script>\n",
              "</div>\n",
              "    </div>\n",
              "  </div>\n"
            ]
          },
          "metadata": {},
          "execution_count": 9
        }
      ]
    },
    {
      "cell_type": "markdown",
      "source": [
        "#Finding duplicate rows in Table:"
      ],
      "metadata": {
        "id": "N7o4Uk6q2XFb"
      }
    },
    {
      "cell_type": "code",
      "source": [
        "HRAnalytics.duplicated().sum()"
      ],
      "metadata": {
        "colab": {
          "base_uri": "https://localhost:8080/"
        },
        "id": "U6QM8NYu2XmG",
        "outputId": "17d14dd2-77b3-4f60-fdf1-b25d1a46acd4"
      },
      "execution_count": 10,
      "outputs": [
        {
          "output_type": "execute_result",
          "data": {
            "text/plain": [
              "0"
            ]
          },
          "metadata": {},
          "execution_count": 10
        }
      ]
    },
    {
      "cell_type": "markdown",
      "source": [
        "#Finding Zeros in Table:"
      ],
      "metadata": {
        "id": "2sjRIxkg2dlq"
      }
    },
    {
      "cell_type": "code",
      "source": [
        "# Sum of counts of zeros for each column\n",
        "zeros_sum = (HRAnalytics == 0).sum()\n",
        "\n",
        "print(zeros_sum)                          #All are Valid Zeros.no need of replacing any zeros."
      ],
      "metadata": {
        "colab": {
          "base_uri": "https://localhost:8080/"
        },
        "id": "yK_d9czh2eJX",
        "outputId": "f0a915f4-0ff4-4eaf-e4cc-281ee671b985"
      },
      "execution_count": 11,
      "outputs": [
        {
          "output_type": "stream",
          "name": "stdout",
          "text": [
            "Age                           0\n",
            "Attrition                     0\n",
            "BusinessTravel                0\n",
            "DailyRate                     0\n",
            "Department                    0\n",
            "DistanceFromHome              0\n",
            "Education                     0\n",
            "EducationField                0\n",
            "EmployeeCount                 0\n",
            "EmployeeNumber                0\n",
            "EnvironmentSatisfaction       0\n",
            "Gender                        0\n",
            "HourlyRate                    0\n",
            "JobInvolvement                0\n",
            "JobLevel                      0\n",
            "JobRole                       0\n",
            "JobSatisfaction               0\n",
            "MaritalStatus                 0\n",
            "MonthlyIncome                 0\n",
            "MonthlyRate                   0\n",
            "NumCompaniesWorked          197\n",
            "Over18                        0\n",
            "OverTime                      0\n",
            "PercentSalaryHike             0\n",
            "PerformanceRating             0\n",
            "RelationshipSatisfaction      0\n",
            "StandardHours                 0\n",
            "StockOptionLevel            631\n",
            "TotalWorkingYears            11\n",
            "TrainingTimesLastYear        54\n",
            "WorkLifeBalance               0\n",
            "YearsAtCompany               44\n",
            "YearsInCurrentRole          244\n",
            "YearsSinceLastPromotion     581\n",
            "YearsWithCurrManager        263\n",
            "dtype: int64\n"
          ]
        }
      ]
    },
    {
      "cell_type": "code",
      "source": [
        "HRAnalytics.hist(bins = 30,figsize = (20,20),edgecolor = 'darkblue')"
      ],
      "metadata": {
        "colab": {
          "base_uri": "https://localhost:8080/",
          "height": 1000
        },
        "id": "kJfOxKFo3vHZ",
        "outputId": "371fc329-ee76-4498-a0d9-c7b0657c7c00"
      },
      "execution_count": 12,
      "outputs": [
        {
          "output_type": "execute_result",
          "data": {
            "text/plain": [
              "array([[<Axes: title={'center': 'Age'}>,\n",
              "        <Axes: title={'center': 'DailyRate'}>,\n",
              "        <Axes: title={'center': 'DistanceFromHome'}>,\n",
              "        <Axes: title={'center': 'Education'}>,\n",
              "        <Axes: title={'center': 'EmployeeCount'}>],\n",
              "       [<Axes: title={'center': 'EmployeeNumber'}>,\n",
              "        <Axes: title={'center': 'EnvironmentSatisfaction'}>,\n",
              "        <Axes: title={'center': 'HourlyRate'}>,\n",
              "        <Axes: title={'center': 'JobInvolvement'}>,\n",
              "        <Axes: title={'center': 'JobLevel'}>],\n",
              "       [<Axes: title={'center': 'JobSatisfaction'}>,\n",
              "        <Axes: title={'center': 'MonthlyIncome'}>,\n",
              "        <Axes: title={'center': 'MonthlyRate'}>,\n",
              "        <Axes: title={'center': 'NumCompaniesWorked'}>,\n",
              "        <Axes: title={'center': 'PercentSalaryHike'}>],\n",
              "       [<Axes: title={'center': 'PerformanceRating'}>,\n",
              "        <Axes: title={'center': 'RelationshipSatisfaction'}>,\n",
              "        <Axes: title={'center': 'StandardHours'}>,\n",
              "        <Axes: title={'center': 'StockOptionLevel'}>,\n",
              "        <Axes: title={'center': 'TotalWorkingYears'}>],\n",
              "       [<Axes: title={'center': 'TrainingTimesLastYear'}>,\n",
              "        <Axes: title={'center': 'WorkLifeBalance'}>,\n",
              "        <Axes: title={'center': 'YearsAtCompany'}>,\n",
              "        <Axes: title={'center': 'YearsInCurrentRole'}>,\n",
              "        <Axes: title={'center': 'YearsSinceLastPromotion'}>],\n",
              "       [<Axes: title={'center': 'YearsWithCurrManager'}>, <Axes: >,\n",
              "        <Axes: >, <Axes: >, <Axes: >]], dtype=object)"
            ]
          },
          "metadata": {},
          "execution_count": 12
        },
        {
          "output_type": "display_data",
          "data": {
            "text/plain": [
              "<Figure size 2000x2000 with 30 Axes>"
            ],
            "image/png": "[encoded data removed]"
          },
          "metadata": {}
        }
      ]
    },
    {
      "cell_type": "code",
      "source": [
        "Avg_age_of_employees = HRAnalytics['Age'].mean()\n",
        "print('Avg_age_of_employees:',Avg_age_of_employees)"
      ],
      "metadata": {
        "colab": {
          "base_uri": "https://localhost:8080/"
        },
        "id": "bgQfUlU_-aZm",
        "outputId": "70f8609a-21bf-4250-bc87-60fbae1546af"
      },
      "execution_count": 13,
      "outputs": [
        {
          "output_type": "stream",
          "name": "stdout",
          "text": [
            "Avg_age_of_employees: 36.923809523809524\n"
          ]
        }
      ]
    },
    {
      "cell_type": "code",
      "source": [
        "Attrition_count = HRAnalytics['Attrition'].value_counts()\n",
        "print('Attrition_count:\\n',Attrition_count)"
      ],
      "metadata": {
        "colab": {
          "base_uri": "https://localhost:8080/"
        },
        "id": "N79WRJv3_fOZ",
        "outputId": "d3c4d4b9-2e4b-4e80-c0d5-9adad6473c37"
      },
      "execution_count": 14,
      "outputs": [
        {
          "output_type": "stream",
          "name": "stdout",
          "text": [
            "Attrition_count:\n",
            " No     1233\n",
            "Yes     237\n",
            "Name: Attrition, dtype: int64\n"
          ]
        }
      ]
    },
    {
      "cell_type": "code",
      "source": [
        "fig = px.pie(HRAnalytics,names='Attrition',title='Attrition_count: \\nYes:employee has left the company , \\nNo:employee has not left the company')\n",
        "fig.show()\n",
        "\n",
        "#only 16.1% people left the company\n",
        "#83.9% people are still with the company"
      ],
      "metadata": {
        "colab": {
          "base_uri": "https://localhost:8080/",
          "height": 542
        },
        "id": "WDNfQ8BCL47G",
        "outputId": "ff0bef7d-7881-4529-eee3-0d4bc734c72c"
      },
      "execution_count": 15,
      "outputs": [
        {
          "output_type": "display_data",
          "data": {
            "text/html": [
              "<html>\n",
              "<head><meta charset=\"utf-8\" /></head>\n",
              "<body>\n",
              "    <div>            <script src=\"https://cdnjs.cloudflare.com/ajax/libs/mathjax/2.7.5/MathJax.js?config=TeX-AMS-MML_SVG\"></script><script type=\"text/javascript\">if (window.MathJax && window.MathJax.Hub && window.MathJax.Hub.Config) {window.MathJax.Hub.Config({SVG: {font: \"STIX-Web\"}});}</script>                <script type=\"text/javascript\">window.PlotlyConfig = {MathJaxConfig: 'local'};</script>\n",
              "        <script charset=\"utf-8\" src=\"https://cdn.plot.ly/plotly-2.24.1.min.js\"></script>                <div id=\"b7789853-80c2-4ded-b1b9-ecf835e3e4c5\" class=\"plotly-graph-div\" style=\"height:525px; width:100%;\"></div>            <script type=\"text/javascript\">                                    window.PLOTLYENV=window.PLOTLYENV || {};                                    if (document.getElementById(\"b7789853-80c2-4ded-b1b9-ecf835e3e4c5\")) {                    Plotly.newPlot(                        \"b7789853-80c2-4ded-b1b9-ecf835e3e4c5\",                        [{\"domain\":{\"x\":[0.0,1.0],\"y\":[0.0,1.0]},\"hovertemplate\":\"Attrition=%{label}\\u003cextra\\u003e\\u003c\\u002fextra\\u003e\",\"labels\":[\"Yes\",\"No\",\"Yes\",\"No\",\"No\",\"No\",\"No\",\"No\",\"No\",\"No\",\"No\",\"No\",\"No\",\"No\",\"Yes\",\"No\",\"No\",\"No\",\"No\",\"No\",\"No\",\"Yes\",\"No\",\"No\",\"Yes\",\"No\",\"Yes\",\"No\",\"No\",\"No\",\"No\",\"No\",\"No\",\"Yes\",\"Yes\",\"No\",\"Yes\",\"No\",\"No\",\"No\",\"No\",\"No\",\"Yes\",\"No\",\"No\",\"Yes\",\"No\",\"No\",\"No\",\"No\",\"Yes\",\"Yes\",\"No\",\"No\",\"No\",\"No\",\"No\",\"No\",\"No\",\"No\",\"No\",\"No\",\"No\",\"No\",\"No\",\"No\",\"No\",\"No\",\"No\",\"Yes\",\"No\",\"No\",\"No\",\"No\",\"No\",\"No\",\"No\",\"No\",\"No\",\"No\",\"No\",\"No\",\"No\",\"No\",\"No\",\"No\",\"No\",\"No\",\"No\",\"Yes\",\"No\",\"No\",\"No\",\"No\",\"No\",\"No\",\"No\",\"No\",\"No\",\"No\",\"Yes\",\"No\",\"Yes\",\"No\",\"No\",\"No\",\"No\",\"Yes\",\"No\",\"No\",\"No\",\"Yes\",\"No\",\"No\",\"No\",\"No\",\"No\",\"No\",\"No\",\"No\",\"No\",\"No\",\"Yes\",\"No\",\"Yes\",\"No\",\"Yes\",\"Yes\",\"No\",\"No\",\"No\",\"No\",\"Yes\",\"No\",\"No\",\"No\",\"Yes\",\"No\",\"No\",\"No\",\"Yes\",\"No\",\"No\",\"No\",\"No\",\"No\",\"No\",\"No\",\"No\",\"No\",\"No\",\"No\",\"No\",\"No\",\"No\",\"No\",\"No\",\"No\",\"No\",\"No\",\"No\",\"No\",\"No\",\"No\",\"No\",\"No\",\"No\",\"No\",\"No\",\"No\",\"No\",\"Yes\",\"No\",\"No\",\"No\",\"No\",\"No\",\"Yes\",\"No\",\"No\",\"No\",\"No\",\"Yes\",\"No\",\"No\",\"No\",\"No\",\"No\",\"No\",\"No\",\"No\",\"No\",\"Yes\",\"No\",\"No\",\"No\",\"No\",\"No\",\"No\",\"No\",\"No\",\"No\",\"No\",\"No\",\"Yes\",\"Yes\",\"No\",\"No\",\"No\",\"No\",\"Yes\",\"No\",\"No\",\"No\",\"Yes\",\"No\",\"Yes\",\"Yes\",\"No\",\"No\",\"No\",\"No\",\"No\",\"No\",\"No\",\"No\",\"No\",\"No\",\"No\",\"Yes\",\"No\",\"No\",\"No\",\"No\",\"Yes\",\"No\",\"Yes\",\"No\",\"No\",\"Yes\",\"No\",\"No\",\"No\",\"No\",\"No\",\"No\",\"No\",\"No\",\"No\",\"No\",\"Yes\",\"No\",\"No\",\"No\",\"No\",\"No\",\"No\",\"No\",\"No\",\"Yes\",\"No\",\"No\",\"No\",\"No\",\"Yes\",\"No\",\"No\",\"No\",\"No\",\"No\",\"No\",\"Yes\",\"No\",\"No\",\"No\",\"No\",\"No\",\"No\",\"No\",\"No\",\"No\",\"No\",\"No\",\"No\",\"No\",\"No\",\"Yes\",\"No\",\"Yes\",\"No\",\"No\",\"No\",\"No\",\"Yes\",\"No\",\"No\",\"Yes\",\"No\",\"No\",\"No\",\"No\",\"No\",\"No\",\"No\",\"No\",\"No\",\"No\",\"No\",\"No\",\"No\",\"No\",\"No\",\"No\",\"No\",\"No\",\"No\",\"No\",\"Yes\",\"No\",\"No\",\"No\",\"No\",\"No\",\"Yes\",\"No\",\"No\",\"No\",\"Yes\",\"No\",\"No\",\"No\",\"No\",\"No\",\"No\",\"No\",\"No\",\"Yes\",\"No\",\"No\",\"No\",\"No\",\"No\",\"No\",\"No\",\"No\",\"No\",\"No\",\"No\",\"No\",\"No\",\"No\",\"No\",\"No\",\"No\",\"No\",\"No\",\"No\",\"Yes\",\"No\",\"No\",\"No\",\"No\",\"No\",\"Yes\",\"No\",\"No\",\"Yes\",\"No\",\"Yes\",\"No\",\"Yes\",\"No\",\"No\",\"No\",\"No\",\"No\",\"No\",\"No\",\"Yes\",\"No\",\"No\",\"No\",\"Yes\",\"No\",\"No\",\"Yes\",\"No\",\"No\",\"No\",\"No\",\"No\",\"No\",\"No\",\"No\",\"No\",\"No\",\"No\",\"No\",\"No\",\"No\",\"No\",\"No\",\"No\",\"No\",\"No\",\"Yes\",\"No\",\"No\",\"No\",\"No\",\"No\",\"No\",\"No\",\"No\",\"Yes\",\"Yes\",\"No\",\"No\",\"No\",\"No\",\"No\",\"Yes\",\"Yes\",\"No\",\"No\",\"No\",\"No\",\"No\",\"No\",\"No\",\"No\",\"No\",\"No\",\"No\",\"No\",\"Yes\",\"Yes\",\"No\",\"No\",\"Yes\",\"Yes\",\"No\",\"No\",\"Yes\",\"No\",\"No\",\"No\",\"No\",\"No\",\"No\",\"No\",\"No\",\"No\",\"Yes\",\"No\",\"No\",\"No\",\"Yes\",\"No\",\"No\",\"No\",\"No\",\"No\",\"Yes\",\"No\",\"No\",\"No\",\"No\",\"No\",\"Yes\",\"No\",\"No\",\"No\",\"No\",\"No\",\"No\",\"No\",\"No\",\"No\",\"Yes\",\"Yes\",\"No\",\"Yes\",\"No\",\"No\",\"No\",\"No\",\"No\",\"No\",\"No\",\"No\",\"No\",\"No\",\"No\",\"No\",\"Yes\",\"No\",\"No\",\"No\",\"No\",\"No\",\"No\",\"No\",\"No\",\"Yes\",\"No\",\"No\",\"No\",\"No\",\"No\",\"No\",\"No\",\"No\",\"Yes\",\"Yes\",\"No\",\"No\",\"No\",\"No\",\"No\",\"No\",\"No\",\"No\",\"No\",\"No\",\"Yes\",\"No\",\"No\",\"Yes\",\"No\",\"No\",\"No\",\"No\",\"No\",\"No\",\"No\",\"No\",\"No\",\"No\",\"No\",\"Yes\",\"No\",\"No\",\"No\",\"No\",\"No\",\"No\",\"Yes\",\"No\",\"No\",\"No\",\"No\",\"No\",\"No\",\"No\",\"No\",\"No\",\"No\",\"No\",\"No\",\"No\",\"No\",\"Yes\",\"No\",\"No\",\"No\",\"Yes\",\"No\",\"Yes\",\"No\",\"No\",\"No\",\"No\",\"Yes\",\"No\",\"No\",\"No\",\"No\",\"No\",\"No\",\"No\",\"No\",\"No\",\"No\",\"No\",\"Yes\",\"No\",\"No\",\"No\",\"Yes\",\"No\",\"Yes\",\"No\",\"No\",\"No\",\"Yes\",\"No\",\"No\",\"Yes\",\"No\",\"No\",\"No\",\"No\",\"No\",\"No\",\"No\",\"No\",\"Yes\",\"Yes\",\"No\",\"No\",\"No\",\"No\",\"No\",\"Yes\",\"No\",\"No\",\"No\",\"No\",\"No\",\"No\",\"No\",\"No\",\"No\",\"No\",\"No\",\"No\",\"No\",\"No\",\"No\",\"No\",\"No\",\"No\",\"No\",\"No\",\"No\",\"Yes\",\"No\",\"No\",\"No\",\"No\",\"No\",\"No\",\"No\",\"No\",\"Yes\",\"No\",\"No\",\"No\",\"No\",\"No\",\"No\",\"No\",\"No\",\"No\",\"No\",\"Yes\",\"No\",\"No\",\"No\",\"Yes\",\"No\",\"Yes\",\"Yes\",\"No\",\"No\",\"Yes\",\"Yes\",\"No\",\"Yes\",\"No\",\"No\",\"No\",\"No\",\"No\",\"No\",\"No\",\"No\",\"No\",\"No\",\"No\",\"No\",\"No\",\"Yes\",\"No\",\"No\",\"No\",\"No\",\"Yes\",\"Yes\",\"No\",\"No\",\"No\",\"Yes\",\"No\",\"Yes\",\"No\",\"No\",\"No\",\"No\",\"Yes\",\"No\",\"No\",\"No\",\"No\",\"No\",\"Yes\",\"No\",\"No\",\"Yes\",\"No\",\"Yes\",\"No\",\"No\",\"No\",\"No\",\"No\",\"No\",\"No\",\"No\",\"Yes\",\"No\",\"No\",\"No\",\"No\",\"Yes\",\"No\",\"No\",\"No\",\"No\",\"No\",\"Yes\",\"Yes\",\"No\",\"No\",\"No\",\"No\",\"No\",\"No\",\"No\",\"No\",\"No\",\"No\",\"No\",\"Yes\",\"No\",\"No\",\"No\",\"Yes\",\"Yes\",\"No\",\"No\",\"Yes\",\"No\",\"No\",\"No\",\"No\",\"No\",\"No\",\"No\",\"No\",\"Yes\",\"Yes\",\"No\",\"No\",\"No\",\"No\",\"No\",\"No\",\"No\",\"No\",\"No\",\"No\",\"No\",\"No\",\"No\",\"Yes\",\"Yes\",\"No\",\"Yes\",\"Yes\",\"No\",\"No\",\"No\",\"No\",\"No\",\"No\",\"No\",\"No\",\"Yes\",\"No\",\"Yes\",\"Yes\",\"No\",\"No\",\"No\",\"Yes\",\"Yes\",\"Yes\",\"No\",\"Yes\",\"Yes\",\"No\",\"No\",\"No\",\"No\",\"No\",\"No\",\"No\",\"No\",\"No\",\"No\",\"No\",\"Yes\",\"No\",\"No\",\"No\",\"No\",\"No\",\"No\",\"No\",\"No\",\"No\",\"No\",\"No\",\"No\",\"No\",\"No\",\"Yes\",\"Yes\",\"No\",\"Yes\",\"No\",\"No\",\"No\",\"No\",\"Yes\",\"No\",\"Yes\",\"No\",\"No\",\"No\",\"Yes\",\"No\",\"No\",\"No\",\"No\",\"No\",\"No\",\"Yes\",\"No\",\"No\",\"No\",\"No\",\"No\",\"No\",\"No\",\"Yes\",\"No\",\"No\",\"Yes\",\"No\",\"No\",\"No\",\"Yes\",\"No\",\"No\",\"No\",\"No\",\"No\",\"No\",\"Yes\",\"No\",\"No\",\"No\",\"No\",\"No\",\"No\",\"No\",\"No\",\"No\",\"No\",\"No\",\"No\",\"No\",\"No\",\"No\",\"No\",\"No\",\"No\",\"No\",\"No\",\"Yes\",\"No\",\"No\",\"No\",\"No\",\"No\",\"No\",\"No\",\"No\",\"No\",\"No\",\"No\",\"No\",\"No\",\"No\",\"No\",\"No\",\"No\",\"No\",\"Yes\",\"No\",\"Yes\",\"No\",\"Yes\",\"No\",\"No\",\"No\",\"No\",\"No\",\"No\",\"No\",\"No\",\"No\",\"No\",\"No\",\"No\",\"Yes\",\"No\",\"No\",\"No\",\"Yes\",\"No\",\"No\",\"No\",\"No\",\"No\",\"No\",\"Yes\",\"Yes\",\"No\",\"No\",\"No\",\"No\",\"No\",\"Yes\",\"Yes\",\"No\",\"No\",\"No\",\"No\",\"Yes\",\"Yes\",\"No\",\"No\",\"No\",\"No\",\"No\",\"No\",\"No\",\"No\",\"No\",\"No\",\"No\",\"No\",\"Yes\",\"No\",\"No\",\"No\",\"No\",\"No\",\"No\",\"No\",\"No\",\"Yes\",\"No\",\"No\",\"No\",\"No\",\"Yes\",\"Yes\",\"No\",\"No\",\"No\",\"Yes\",\"No\",\"No\",\"No\",\"No\",\"No\",\"No\",\"No\",\"No\",\"No\",\"No\",\"No\",\"Yes\",\"No\",\"No\",\"No\",\"No\",\"No\",\"No\",\"No\",\"No\",\"Yes\",\"Yes\",\"No\",\"No\",\"No\",\"No\",\"Yes\",\"No\",\"No\",\"No\",\"Yes\",\"No\",\"No\",\"No\",\"No\",\"Yes\",\"No\",\"No\",\"No\",\"No\",\"No\",\"No\",\"No\",\"No\",\"No\",\"Yes\",\"Yes\",\"Yes\",\"No\",\"No\",\"Yes\",\"No\",\"No\",\"Yes\",\"No\",\"No\",\"No\",\"No\",\"No\",\"No\",\"No\",\"No\",\"No\",\"No\",\"No\",\"No\",\"No\",\"No\",\"No\",\"No\",\"Yes\",\"Yes\",\"Yes\",\"No\",\"Yes\",\"No\",\"No\",\"No\",\"No\",\"No\",\"No\",\"No\",\"Yes\",\"No\",\"No\",\"No\",\"No\",\"No\",\"No\",\"No\",\"No\",\"Yes\",\"No\",\"No\",\"No\",\"No\",\"No\",\"Yes\",\"No\",\"Yes\",\"No\",\"No\",\"No\",\"No\",\"No\",\"No\",\"No\",\"No\",\"No\",\"No\",\"No\",\"No\",\"No\",\"No\",\"No\",\"No\",\"No\",\"No\",\"No\",\"No\",\"Yes\",\"No\",\"No\",\"No\",\"Yes\",\"Yes\",\"Yes\",\"No\",\"No\",\"No\",\"No\",\"No\",\"No\",\"No\",\"No\",\"No\",\"No\",\"No\",\"No\",\"No\",\"No\",\"No\",\"No\",\"No\",\"No\",\"No\",\"No\",\"No\",\"No\",\"No\",\"Yes\",\"No\",\"No\",\"No\",\"No\",\"No\",\"No\",\"No\",\"No\",\"No\",\"No\",\"No\",\"No\",\"No\",\"No\",\"No\",\"No\",\"Yes\",\"No\",\"No\",\"No\",\"No\",\"No\",\"No\",\"No\",\"No\",\"Yes\",\"No\",\"No\",\"No\",\"No\",\"Yes\",\"No\",\"No\",\"No\",\"Yes\",\"No\",\"No\",\"No\",\"No\",\"No\",\"No\",\"No\",\"No\",\"No\",\"No\",\"No\",\"No\",\"No\",\"No\",\"Yes\",\"No\",\"No\",\"No\",\"No\",\"No\",\"No\",\"No\",\"No\",\"No\",\"No\",\"No\",\"No\",\"No\",\"No\",\"Yes\",\"No\",\"No\",\"Yes\",\"Yes\",\"No\",\"No\",\"No\",\"No\",\"No\",\"No\",\"No\",\"Yes\",\"No\",\"No\",\"No\",\"No\",\"No\",\"No\",\"No\",\"No\",\"Yes\",\"Yes\",\"No\",\"No\",\"No\",\"No\",\"No\",\"No\",\"No\",\"No\",\"No\",\"No\",\"No\",\"No\",\"Yes\",\"Yes\",\"No\",\"No\",\"No\",\"No\",\"No\",\"No\",\"No\",\"No\",\"Yes\",\"No\",\"No\",\"Yes\",\"No\",\"No\",\"No\",\"No\",\"No\",\"Yes\",\"No\",\"Yes\",\"No\",\"No\",\"No\",\"No\",\"Yes\",\"No\",\"No\",\"No\",\"No\",\"No\",\"No\",\"No\",\"No\",\"Yes\",\"No\",\"Yes\",\"No\",\"No\",\"No\",\"No\",\"No\",\"Yes\",\"No\",\"Yes\",\"No\",\"No\",\"No\",\"No\",\"No\",\"No\",\"No\",\"No\",\"Yes\",\"Yes\",\"No\",\"No\",\"No\",\"No\",\"No\",\"Yes\",\"Yes\",\"No\",\"No\",\"No\",\"No\",\"No\",\"No\",\"No\",\"No\",\"No\",\"No\",\"No\",\"No\",\"No\",\"Yes\",\"Yes\",\"No\",\"No\",\"No\",\"No\",\"No\",\"No\",\"No\",\"No\",\"No\",\"No\",\"No\",\"No\",\"Yes\",\"No\",\"No\",\"No\",\"No\",\"No\",\"Yes\",\"Yes\",\"No\",\"No\",\"No\",\"No\",\"Yes\",\"Yes\",\"No\",\"No\",\"No\",\"No\",\"No\",\"No\",\"No\",\"No\",\"No\",\"No\",\"No\",\"No\",\"No\",\"Yes\",\"Yes\",\"No\",\"No\",\"No\",\"No\",\"No\",\"No\",\"No\",\"No\",\"No\",\"No\",\"Yes\",\"No\",\"No\",\"No\",\"Yes\",\"No\",\"No\",\"No\",\"No\",\"No\",\"Yes\",\"No\",\"No\",\"No\",\"Yes\",\"No\",\"No\",\"No\",\"No\",\"No\",\"No\",\"No\",\"No\",\"No\",\"No\",\"Yes\",\"No\",\"No\",\"No\",\"No\",\"Yes\",\"Yes\",\"No\",\"No\",\"No\",\"No\",\"No\",\"No\",\"No\",\"No\",\"No\",\"No\",\"No\",\"No\",\"No\",\"No\",\"No\",\"No\",\"No\",\"No\",\"No\",\"No\",\"No\",\"No\",\"No\",\"No\",\"No\",\"No\",\"No\",\"No\",\"No\",\"No\",\"No\",\"No\",\"No\",\"No\",\"No\",\"No\",\"No\",\"No\",\"No\",\"No\",\"No\",\"Yes\",\"No\",\"No\",\"No\",\"Yes\",\"No\",\"Yes\",\"No\",\"No\",\"No\",\"No\",\"No\",\"No\",\"No\",\"Yes\",\"No\",\"No\",\"No\",\"No\",\"No\",\"No\",\"No\",\"No\",\"Yes\",\"No\",\"No\",\"No\",\"No\",\"No\",\"No\",\"No\",\"No\"],\"legendgroup\":\"\",\"name\":\"\",\"showlegend\":true,\"type\":\"pie\"}],                        {\"template\":{\"data\":{\"histogram2dcontour\":[{\"type\":\"histogram2dcontour\",\"colorbar\":{\"outlinewidth\":0,\"ticks\":\"\"},\"colorscale\":[[0.0,\"#0d0887\"],[0.1111111111111111,\"#46039f\"],[0.2222222222222222,\"#7201a8\"],[0.3333333333333333,\"#9c179e\"],[0.4444444444444444,\"#bd3786\"],[0.5555555555555556,\"#d8576b\"],[0.6666666666666666,\"#ed7953\"],[0.7777777777777778,\"#fb9f3a\"],[0.8888888888888888,\"#fdca26\"],[1.0,\"#f0f921\"]]}],\"choropleth\":[{\"type\":\"choropleth\",\"colorbar\":{\"outlinewidth\":0,\"ticks\":\"\"}}],\"histogram2d\":[{\"type\":\"histogram2d\",\"colorbar\":{\"outlinewidth\":0,\"ticks\":\"\"},\"colorscale\":[[0.0,\"#0d0887\"],[0.1111111111111111,\"#46039f\"],[0.2222222222222222,\"#7201a8\"],[0.3333333333333333,\"#9c179e\"],[0.4444444444444444,\"#bd3786\"],[0.5555555555555556,\"#d8576b\"],[0.6666666666666666,\"#ed7953\"],[0.7777777777777778,\"#fb9f3a\"],[0.8888888888888888,\"#fdca26\"],[1.0,\"#f0f921\"]]}],\"heatmap\":[{\"type\":\"heatmap\",\"colorbar\":{\"outlinewidth\":0,\"ticks\":\"\"},\"colorscale\":[[0.0,\"#0d0887\"],[0.1111111111111111,\"#46039f\"],[0.2222222222222222,\"#7201a8\"],[0.3333333333333333,\"#9c179e\"],[0.4444444444444444,\"#bd3786\"],[0.5555555555555556,\"#d8576b\"],[0.6666666666666666,\"#ed7953\"],[0.7777777777777778,\"#fb9f3a\"],[0.8888888888888888,\"#fdca26\"],[1.0,\"#f0f921\"]]}],\"heatmapgl\":[{\"type\":\"heatmapgl\",\"colorbar\":{\"outlinewidth\":0,\"ticks\":\"\"},\"colorscale\":[[0.0,\"#0d0887\"],[0.1111111111111111,\"#46039f\"],[0.2222222222222222,\"#7201a8\"],[0.3333333333333333,\"#9c179e\"],[0.4444444444444444,\"#bd3786\"],[0.5555555555555556,\"#d8576b\"],[0.6666666666666666,\"#ed7953\"],[0.7777777777777778,\"#fb9f3a\"],[0.8888888888888888,\"#fdca26\"],[1.0,\"#f0f921\"]]}],\"contourcarpet\":[{\"type\":\"contourcarpet\",\"colorbar\":{\"outlinewidth\":0,\"ticks\":\"\"}}],\"contour\":[{\"type\":\"contour\",\"colorbar\":{\"outlinewidth\":0,\"ticks\":\"\"},\"colorscale\":[[0.0,\"#0d0887\"],[0.1111111111111111,\"#46039f\"],[0.2222222222222222,\"#7201a8\"],[0.3333333333333333,\"#9c179e\"],[0.4444444444444444,\"#bd3786\"],[0.5555555555555556,\"#d8576b\"],[0.6666666666666666,\"#ed7953\"],[0.7777777777777778,\"#fb9f3a\"],[0.8888888888888888,\"#fdca26\"],[1.0,\"#f0f921\"]]}],\"surface\":[{\"type\":\"surface\",\"colorbar\":{\"outlinewidth\":0,\"ticks\":\"\"},\"colorscale\":[[0.0,\"#0d0887\"],[0.1111111111111111,\"#46039f\"],[0.2222222222222222,\"#7201a8\"],[0.3333333333333333,\"#9c179e\"],[0.4444444444444444,\"#bd3786\"],[0.5555555555555556,\"#d8576b\"],[0.6666666666666666,\"#ed7953\"],[0.7777777777777778,\"#fb9f3a\"],[0.8888888888888888,\"#fdca26\"],[1.0,\"#f0f921\"]]}],\"mesh3d\":[{\"type\":\"mesh3d\",\"colorbar\":{\"outlinewidth\":0,\"ticks\":\"\"}}],\"scatter\":[{\"fillpattern\":{\"fillmode\":\"overlay\",\"size\":10,\"solidity\":0.2},\"type\":\"scatter\"}],\"parcoords\":[{\"type\":\"parcoords\",\"line\":{\"colorbar\":{\"outlinewidth\":0,\"ticks\":\"\"}}}],\"scatterpolargl\":[{\"type\":\"scatterpolargl\",\"marker\":{\"colorbar\":{\"outlinewidth\":0,\"ticks\":\"\"}}}],\"bar\":[{\"error_x\":{\"color\":\"#2a3f5f\"},\"error_y\":{\"color\":\"#2a3f5f\"},\"marker\":{\"line\":{\"color\":\"#E5ECF6\",\"width\":0.5},\"pattern\":{\"fillmode\":\"overlay\",\"size\":10,\"solidity\":0.2}},\"type\":\"bar\"}],\"scattergeo\":[{\"type\":\"scattergeo\",\"marker\":{\"colorbar\":{\"outlinewidth\":0,\"ticks\":\"\"}}}],\"scatterpolar\":[{\"type\":\"scatterpolar\",\"marker\":{\"colorbar\":{\"outlinewidth\":0,\"ticks\":\"\"}}}],\"histogram\":[{\"marker\":{\"pattern\":{\"fillmode\":\"overlay\",\"size\":10,\"solidity\":0.2}},\"type\":\"histogram\"}],\"scattergl\":[{\"type\":\"scattergl\",\"marker\":{\"colorbar\":{\"outlinewidth\":0,\"ticks\":\"\"}}}],\"scatter3d\":[{\"type\":\"scatter3d\",\"line\":{\"colorbar\":{\"outlinewidth\":0,\"ticks\":\"\"}},\"marker\":{\"colorbar\":{\"outlinewidth\":0,\"ticks\":\"\"}}}],\"scattermapbox\":[{\"type\":\"scattermapbox\",\"marker\":{\"colorbar\":{\"outlinewidth\":0,\"ticks\":\"\"}}}],\"scatterternary\":[{\"type\":\"scatterternary\",\"marker\":{\"colorbar\":{\"outlinewidth\":0,\"ticks\":\"\"}}}],\"scattercarpet\":[{\"type\":\"scattercarpet\",\"marker\":{\"colorbar\":{\"outlinewidth\":0,\"ticks\":\"\"}}}],\"carpet\":[{\"aaxis\":{\"endlinecolor\":\"#2a3f5f\",\"gridcolor\":\"white\",\"linecolor\":\"white\",\"minorgridcolor\":\"white\",\"startlinecolor\":\"#2a3f5f\"},\"baxis\":{\"endlinecolor\":\"#2a3f5f\",\"gridcolor\":\"white\",\"linecolor\":\"white\",\"minorgridcolor\":\"white\",\"startlinecolor\":\"#2a3f5f\"},\"type\":\"carpet\"}],\"table\":[{\"cells\":{\"fill\":{\"color\":\"#EBF0F8\"},\"line\":{\"color\":\"white\"}},\"header\":{\"fill\":{\"color\":\"#C8D4E3\"},\"line\":{\"color\":\"white\"}},\"type\":\"table\"}],\"barpolar\":[{\"marker\":{\"line\":{\"color\":\"#E5ECF6\",\"width\":0.5},\"pattern\":{\"fillmode\":\"overlay\",\"size\":10,\"solidity\":0.2}},\"type\":\"barpolar\"}],\"pie\":[{\"automargin\":true,\"type\":\"pie\"}]},\"layout\":{\"autotypenumbers\":\"strict\",\"colorway\":[\"#636efa\",\"#EF553B\",\"#00cc96\",\"#ab63fa\",\"#FFA15A\",\"#19d3f3\",\"#FF6692\",\"#B6E880\",\"#FF97FF\",\"#FECB52\"],\"font\":{\"color\":\"#2a3f5f\"},\"hovermode\":\"closest\",\"hoverlabel\":{\"align\":\"left\"},\"paper_bgcolor\":\"white\",\"plot_bgcolor\":\"#E5ECF6\",\"polar\":{\"bgcolor\":\"#E5ECF6\",\"angularaxis\":{\"gridcolor\":\"white\",\"linecolor\":\"white\",\"ticks\":\"\"},\"radialaxis\":{\"gridcolor\":\"white\",\"linecolor\":\"white\",\"ticks\":\"\"}},\"ternary\":{\"bgcolor\":\"#E5ECF6\",\"aaxis\":{\"gridcolor\":\"white\",\"linecolor\":\"white\",\"ticks\":\"\"},\"baxis\":{\"gridcolor\":\"white\",\"linecolor\":\"white\",\"ticks\":\"\"},\"caxis\":{\"gridcolor\":\"white\",\"linecolor\":\"white\",\"ticks\":\"\"}},\"coloraxis\":{\"colorbar\":{\"outlinewidth\":0,\"ticks\":\"\"}},\"colorscale\":{\"sequential\":[[0.0,\"#0d0887\"],[0.1111111111111111,\"#46039f\"],[0.2222222222222222,\"#7201a8\"],[0.3333333333333333,\"#9c179e\"],[0.4444444444444444,\"#bd3786\"],[0.5555555555555556,\"#d8576b\"],[0.6666666666666666,\"#ed7953\"],[0.7777777777777778,\"#fb9f3a\"],[0.8888888888888888,\"#fdca26\"],[1.0,\"#f0f921\"]],\"sequentialminus\":[[0.0,\"#0d0887\"],[0.1111111111111111,\"#46039f\"],[0.2222222222222222,\"#7201a8\"],[0.3333333333333333,\"#9c179e\"],[0.4444444444444444,\"#bd3786\"],[0.5555555555555556,\"#d8576b\"],[0.6666666666666666,\"#ed7953\"],[0.7777777777777778,\"#fb9f3a\"],[0.8888888888888888,\"#fdca26\"],[1.0,\"#f0f921\"]],\"diverging\":[[0,\"#8e0152\"],[0.1,\"#c51b7d\"],[0.2,\"#de77ae\"],[0.3,\"#f1b6da\"],[0.4,\"#fde0ef\"],[0.5,\"#f7f7f7\"],[0.6,\"#e6f5d0\"],[0.7,\"#b8e186\"],[0.8,\"#7fbc41\"],[0.9,\"#4d9221\"],[1,\"#276419\"]]},\"xaxis\":{\"gridcolor\":\"white\",\"linecolor\":\"white\",\"ticks\":\"\",\"title\":{\"standoff\":15},\"zerolinecolor\":\"white\",\"automargin\":true,\"zerolinewidth\":2},\"yaxis\":{\"gridcolor\":\"white\",\"linecolor\":\"white\",\"ticks\":\"\",\"title\":{\"standoff\":15},\"zerolinecolor\":\"white\",\"automargin\":true,\"zerolinewidth\":2},\"scene\":{\"xaxis\":{\"backgroundcolor\":\"#E5ECF6\",\"gridcolor\":\"white\",\"linecolor\":\"white\",\"showbackground\":true,\"ticks\":\"\",\"zerolinecolor\":\"white\",\"gridwidth\":2},\"yaxis\":{\"backgroundcolor\":\"#E5ECF6\",\"gridcolor\":\"white\",\"linecolor\":\"white\",\"showbackground\":true,\"ticks\":\"\",\"zerolinecolor\":\"white\",\"gridwidth\":2},\"zaxis\":{\"backgroundcolor\":\"#E5ECF6\",\"gridcolor\":\"white\",\"linecolor\":\"white\",\"showbackground\":true,\"ticks\":\"\",\"zerolinecolor\":\"white\",\"gridwidth\":2}},\"shapedefaults\":{\"line\":{\"color\":\"#2a3f5f\"}},\"annotationdefaults\":{\"arrowcolor\":\"#2a3f5f\",\"arrowhead\":0,\"arrowwidth\":1},\"geo\":{\"bgcolor\":\"white\",\"landcolor\":\"#E5ECF6\",\"subunitcolor\":\"white\",\"showland\":true,\"showlakes\":true,\"lakecolor\":\"white\"},\"title\":{\"x\":0.05},\"mapbox\":{\"style\":\"light\"}}},\"legend\":{\"tracegroupgap\":0},\"title\":{\"text\":\"Attrition_count: \\nYes:employee has left the company , \\nNo:employee has not left the company\"}},                        {\"responsive\": true}                    ).then(function(){\n",
              "                            \n",
              "var gd = document.getElementById('b7789853-80c2-4ded-b1b9-ecf835e3e4c5');\n",
              "var x = new MutationObserver(function (mutations, observer) {{\n",
              "        var display = window.getComputedStyle(gd).display;\n",
              "        if (!display || display === 'none') {{\n",
              "            console.log([gd, 'removed!']);\n",
              "            Plotly.purge(gd);\n",
              "            observer.disconnect();\n",
              "        }}\n",
              "}});\n",
              "\n",
              "// Listen for the removal of the full notebook cells\n",
              "var notebookContainer = gd.closest('#notebook-container');\n",
              "if (notebookContainer) {{\n",
              "    x.observe(notebookContainer, {childList: true});\n",
              "}}\n",
              "\n",
              "// Listen for the clearing of the current output cell\n",
              "var outputEl = gd.closest('.output');\n",
              "if (outputEl) {{\n",
              "    x.observe(outputEl, {childList: true});\n",
              "}}\n",
              "\n",
              "                        })                };                            </script>        </div>\n",
              "</body>\n",
              "</html>"
            ]
          },
          "metadata": {}
        }
      ]
    },
    {
      "cell_type": "code",
      "source": [
        "Types_Of_Department_counts = HRAnalytics['BusinessTravel'].value_counts()\n",
        "print('Number_of_people_by_BusinessTravel:\\n',Types_Of_Department_counts)"
      ],
      "metadata": {
        "colab": {
          "base_uri": "https://localhost:8080/"
        },
        "id": "xOuKY3_BccaV",
        "outputId": "b3e2555f-7ab1-4f63-ac56-e0ecb7192ea5"
      },
      "execution_count": 16,
      "outputs": [
        {
          "output_type": "stream",
          "name": "stdout",
          "text": [
            "Number_of_people_by_BusinessTravel:\n",
            " Travel_Rarely        1043\n",
            "Travel_Frequently     277\n",
            "Non-Travel            150\n",
            "Name: BusinessTravel, dtype: int64\n"
          ]
        }
      ]
    },
    {
      "cell_type": "code",
      "source": [
        "Avg_Dailyrate_of_employees = HRAnalytics['DailyRate'].mean()\n",
        "print('Avg_Dailyrate_of_employees:',Avg_Dailyrate_of_employees)"
      ],
      "metadata": {
        "colab": {
          "base_uri": "https://localhost:8080/"
        },
        "id": "6efmVEWWBVGJ",
        "outputId": "97e47c37-e0bd-482f-aa98-3332d85fddec"
      },
      "execution_count": 17,
      "outputs": [
        {
          "output_type": "stream",
          "name": "stdout",
          "text": [
            "Avg_Dailyrate_of_employees: 802.4857142857143\n"
          ]
        }
      ]
    },
    {
      "cell_type": "code",
      "source": [
        "Types_Of_Department_counts = HRAnalytics['Department'].value_counts()\n",
        "print('Number_of_people_by_department:\\n',Types_Of_Department_counts)"
      ],
      "metadata": {
        "colab": {
          "base_uri": "https://localhost:8080/"
        },
        "id": "-pyBUSsWBwRP",
        "outputId": "bca796d4-2a0a-4385-ed07-639fdf36918f"
      },
      "execution_count": 18,
      "outputs": [
        {
          "output_type": "stream",
          "name": "stdout",
          "text": [
            "Number_of_people_by_department:\n",
            " Research & Development    961\n",
            "Sales                     446\n",
            "Human Resources            63\n",
            "Name: Department, dtype: int64\n"
          ]
        }
      ]
    },
    {
      "cell_type": "code",
      "source": [
        "fig = px.pie(HRAnalytics,names='Department',title='Total Number of people by Department')\n",
        "fig.show()"
      ],
      "metadata": {
        "colab": {
          "base_uri": "https://localhost:8080/",
          "height": 542
        },
        "id": "OAiHxDsuP6UK",
        "outputId": "fd4b90a3-46a3-4732-fdeb-d936c75ab083"
      },
      "execution_count": 19,
      "outputs": [
        {
          "output_type": "display_data",
          "data": {
            "text/html": [
              "<html>\n",
              "<head><meta charset=\"utf-8\" /></head>\n",
              "<body>\n",
              "    <div>            <script src=\"https://cdnjs.cloudflare.com/ajax/libs/mathjax/2.7.5/MathJax.js?config=TeX-AMS-MML_SVG\"></script><script type=\"text/javascript\">if (window.MathJax && window.MathJax.Hub && window.MathJax.Hub.Config) {window.MathJax.Hub.Config({SVG: {font: \"STIX-Web\"}});}</script>                <script type=\"text/javascript\">window.PlotlyConfig = {MathJaxConfig: 'local'};</script>\n",
              "        <script charset=\"utf-8\" src=\"https://cdn.plot.ly/plotly-2.24.1.min.js\"></script>                <div id=\"e37bac1b-5512-4f13-b49b-985921c1f20b\" class=\"plotly-graph-div\" style=\"height:525px; width:100%;\"></div>            <script type=\"text/javascript\">                                    window.PLOTLYENV=window.PLOTLYENV || {};                                    if (document.getElementById(\"e37bac1b-5512-4f13-b49b-985921c1f20b\")) {                    Plotly.newPlot(                        \"e37bac1b-5512-4f13-b49b-985921c1f20b\",                        [{\"domain\":{\"x\":[0.0,1.0],\"y\":[0.0,1.0]},\"hovertemplate\":\"Department=%{label}\\u003cextra\\u003e\\u003c\\u002fextra\\u003e\",\"labels\":[\"Sales\",\"Research & Development\",\"Research & Development\",\"Research & Development\",\"Research & Development\",\"Research & Development\",\"Research & Development\",\"Research & Development\",\"Research & Development\",\"Research & Development\",\"Research & Development\",\"Research & Development\",\"Research & Development\",\"Research & Development\",\"Research & Development\",\"Research & Development\",\"Research & Development\",\"Research & Development\",\"Sales\",\"Research & Development\",\"Research & Development\",\"Sales\",\"Research & Development\",\"Research & Development\",\"Research & Development\",\"Research & Development\",\"Research & Development\",\"Sales\",\"Research & Development\",\"Sales\",\"Research & Development\",\"Research & Development\",\"Research & Development\",\"Sales\",\"Research & Development\",\"Research & Development\",\"Sales\",\"Sales\",\"Research & Development\",\"Sales\",\"Research & Development\",\"Research & Development\",\"Research & Development\",\"Sales\",\"Research & Development\",\"Research & Development\",\"Sales\",\"Research & Development\",\"Sales\",\"Research & Development\",\"Research & Development\",\"Research & Development\",\"Sales\",\"Research & Development\",\"Sales\",\"Research & Development\",\"Sales\",\"Research & Development\",\"Research & Development\",\"Research & Development\",\"Research & Development\",\"Research & Development\",\"Research & Development\",\"Sales\",\"Research & Development\",\"Research & Development\",\"Research & Development\",\"Research & Development\",\"Research & Development\",\"Research & Development\",\"Sales\",\"Research & Development\",\"Research & Development\",\"Research & Development\",\"Research & Development\",\"Research & Development\",\"Sales\",\"Research & Development\",\"Research & Development\",\"Human Resources\",\"Research & Development\",\"Research & Development\",\"Sales\",\"Research & Development\",\"Research & Development\",\"Research & Development\",\"Sales\",\"Research & Development\",\"Research & Development\",\"Sales\",\"Research & Development\",\"Sales\",\"Sales\",\"Research & Development\",\"Sales\",\"Research & Development\",\"Sales\",\"Sales\",\"Sales\",\"Research & Development\",\"Human Resources\",\"Research & Development\",\"Research & Development\",\"Research & Development\",\"Research & Development\",\"Human Resources\",\"Research & Development\",\"Sales\",\"Research & Development\",\"Research & Development\",\"Research & Development\",\"Research & Development\",\"Human Resources\",\"Research & Development\",\"Research & Development\",\"Sales\",\"Research & Development\",\"Sales\",\"Research & Development\",\"Sales\",\"Research & Development\",\"Sales\",\"Research & Development\",\"Research & Development\",\"Sales\",\"Research & Development\",\"Research & Development\",\"Sales\",\"Research & Development\",\"Research & Development\",\"Research & Development\",\"Sales\",\"Sales\",\"Sales\",\"Human Resources\",\"Research & Development\",\"Research & Development\",\"Sales\",\"Sales\",\"Human Resources\",\"Research & Development\",\"Research & Development\",\"Research & Development\",\"Research & Development\",\"Sales\",\"Research & Development\",\"Research & Development\",\"Research & Development\",\"Research & Development\",\"Research & Development\",\"Research & Development\",\"Sales\",\"Sales\",\"Research & Development\",\"Sales\",\"Research & Development\",\"Research & Development\",\"Research & Development\",\"Sales\",\"Sales\",\"Research & Development\",\"Research & Development\",\"Research & Development\",\"Research & Development\",\"Research & Development\",\"Research & Development\",\"Research & Development\",\"Sales\",\"Sales\",\"Research & Development\",\"Research & Development\",\"Sales\",\"Research & Development\",\"Research & Development\",\"Sales\",\"Research & Development\",\"Research & Development\",\"Research & Development\",\"Sales\",\"Research & Development\",\"Research & Development\",\"Research & Development\",\"Sales\",\"Research & Development\",\"Research & Development\",\"Research & Development\",\"Research & Development\",\"Research & Development\",\"Research & Development\",\"Research & Development\",\"Research & Development\",\"Research & Development\",\"Research & Development\",\"Research & Development\",\"Research & Development\",\"Research & Development\",\"Research & Development\",\"Research & Development\",\"Research & Development\",\"Research & Development\",\"Research & Development\",\"Research & Development\",\"Research & Development\",\"Research & Development\",\"Research & Development\",\"Sales\",\"Research & Development\",\"Research & Development\",\"Research & Development\",\"Research & Development\",\"Sales\",\"Research & Development\",\"Sales\",\"Research & Development\",\"Research & Development\",\"Sales\",\"Sales\",\"Research & Development\",\"Sales\",\"Sales\",\"Research & Development\",\"Research & Development\",\"Research & Development\",\"Sales\",\"Research & Development\",\"Research & Development\",\"Sales\",\"Sales\",\"Sales\",\"Research & Development\",\"Research & Development\",\"Research & Development\",\"Human Resources\",\"Sales\",\"Research & Development\",\"Sales\",\"Research & Development\",\"Sales\",\"Sales\",\"Research & Development\",\"Research & Development\",\"Sales\",\"Research & Development\",\"Research & Development\",\"Research & Development\",\"Research & Development\",\"Research & Development\",\"Research & Development\",\"Research & Development\",\"Research & Development\",\"Research & Development\",\"Research & Development\",\"Research & Development\",\"Research & Development\",\"Sales\",\"Research & Development\",\"Research & Development\",\"Research & Development\",\"Research & Development\",\"Research & Development\",\"Research & Development\",\"Sales\",\"Research & Development\",\"Sales\",\"Research & Development\",\"Sales\",\"Research & Development\",\"Research & Development\",\"Research & Development\",\"Research & Development\",\"Research & Development\",\"Research & Development\",\"Research & Development\",\"Sales\",\"Research & Development\",\"Research & Development\",\"Research & Development\",\"Sales\",\"Research & Development\",\"Research & Development\",\"Research & Development\",\"Sales\",\"Sales\",\"Research & Development\",\"Research & Development\",\"Research & Development\",\"Research & Development\",\"Research & Development\",\"Research & Development\",\"Research & Development\",\"Research & Development\",\"Research & Development\",\"Sales\",\"Sales\",\"Research & Development\",\"Sales\",\"Research & Development\",\"Sales\",\"Research & Development\",\"Research & Development\",\"Sales\",\"Sales\",\"Research & Development\",\"Sales\",\"Research & Development\",\"Research & Development\",\"Sales\",\"Research & Development\",\"Research & Development\",\"Research & Development\",\"Human Resources\",\"Research & Development\",\"Research & Development\",\"Research & Development\",\"Research & Development\",\"Research & Development\",\"Research & Development\",\"Research & Development\",\"Research & Development\",\"Sales\",\"Sales\",\"Sales\",\"Research & Development\",\"Research & Development\",\"Research & Development\",\"Research & Development\",\"Research & Development\",\"Sales\",\"Sales\",\"Research & Development\",\"Research & Development\",\"Sales\",\"Research & Development\",\"Research & Development\",\"Research & Development\",\"Sales\",\"Research & Development\",\"Research & Development\",\"Sales\",\"Sales\",\"Research & Development\",\"Research & Development\",\"Research & Development\",\"Sales\",\"Research & Development\",\"Research & Development\",\"Research & Development\",\"Sales\",\"Research & Development\",\"Sales\",\"Human Resources\",\"Research & Development\",\"Sales\",\"Research & Development\",\"Sales\",\"Sales\",\"Research & Development\",\"Sales\",\"Sales\",\"Sales\",\"Research & Development\",\"Research & Development\",\"Sales\",\"Sales\",\"Research & Development\",\"Research & Development\",\"Sales\",\"Research & Development\",\"Sales\",\"Research & Development\",\"Sales\",\"Research & Development\",\"Research & Development\",\"Research & Development\",\"Sales\",\"Research & Development\",\"Sales\",\"Research & Development\",\"Sales\",\"Research & Development\",\"Sales\",\"Sales\",\"Research & Development\",\"Research & Development\",\"Sales\",\"Research & Development\",\"Research & Development\",\"Sales\",\"Research & Development\",\"Research & Development\",\"Research & Development\",\"Research & Development\",\"Research & Development\",\"Sales\",\"Research & Development\",\"Research & Development\",\"Research & Development\",\"Sales\",\"Research & Development\",\"Research & Development\",\"Research & Development\",\"Sales\",\"Sales\",\"Sales\",\"Research & Development\",\"Research & Development\",\"Research & Development\",\"Research & Development\",\"Research & Development\",\"Research & Development\",\"Research & Development\",\"Research & Development\",\"Research & Development\",\"Research & Development\",\"Sales\",\"Sales\",\"Research & Development\",\"Sales\",\"Research & Development\",\"Research & Development\",\"Research & Development\",\"Research & Development\",\"Human Resources\",\"Sales\",\"Sales\",\"Research & Development\",\"Research & Development\",\"Sales\",\"Research & Development\",\"Research & Development\",\"Research & Development\",\"Research & Development\",\"Research & Development\",\"Sales\",\"Research & Development\",\"Research & Development\",\"Research & Development\",\"Sales\",\"Research & Development\",\"Research & Development\",\"Human Resources\",\"Research & Development\",\"Sales\",\"Research & Development\",\"Sales\",\"Sales\",\"Sales\",\"Sales\",\"Research & Development\",\"Research & Development\",\"Sales\",\"Research & Development\",\"Sales\",\"Human Resources\",\"Research & Development\",\"Research & Development\",\"Sales\",\"Sales\",\"Sales\",\"Research & Development\",\"Sales\",\"Sales\",\"Sales\",\"Research & Development\",\"Research & Development\",\"Research & Development\",\"Sales\",\"Sales\",\"Research & Development\",\"Sales\",\"Sales\",\"Research & Development\",\"Research & Development\",\"Research & Development\",\"Research & Development\",\"Sales\",\"Research & Development\",\"Human Resources\",\"Sales\",\"Research & Development\",\"Sales\",\"Research & Development\",\"Sales\",\"Research & Development\",\"Sales\",\"Research & Development\",\"Sales\",\"Research & Development\",\"Research & Development\",\"Research & Development\",\"Research & Development\",\"Research & Development\",\"Research & Development\",\"Human Resources\",\"Sales\",\"Sales\",\"Sales\",\"Research & Development\",\"Research & Development\",\"Sales\",\"Research & Development\",\"Research & Development\",\"Sales\",\"Research & Development\",\"Sales\",\"Research & Development\",\"Research & Development\",\"Sales\",\"Research & Development\",\"Research & Development\",\"Human Resources\",\"Research & Development\",\"Research & Development\",\"Research & Development\",\"Research & Development\",\"Research & Development\",\"Research & Development\",\"Sales\",\"Sales\",\"Research & Development\",\"Sales\",\"Sales\",\"Research & Development\",\"Research & Development\",\"Research & Development\",\"Sales\",\"Research & Development\",\"Sales\",\"Sales\",\"Research & Development\",\"Research & Development\",\"Research & Development\",\"Sales\",\"Sales\",\"Research & Development\",\"Human Resources\",\"Sales\",\"Research & Development\",\"Human Resources\",\"Sales\",\"Research & Development\",\"Research & Development\",\"Research & Development\",\"Research & Development\",\"Sales\",\"Sales\",\"Sales\",\"Research & Development\",\"Sales\",\"Research & Development\",\"Research & Development\",\"Human Resources\",\"Research & Development\",\"Research & Development\",\"Research & Development\",\"Sales\",\"Research & Development\",\"Research & Development\",\"Research & Development\",\"Research & Development\",\"Research & Development\",\"Sales\",\"Research & Development\",\"Sales\",\"Sales\",\"Research & Development\",\"Sales\",\"Sales\",\"Research & Development\",\"Sales\",\"Research & Development\",\"Research & Development\",\"Research & Development\",\"Sales\",\"Research & Development\",\"Research & Development\",\"Sales\",\"Research & Development\",\"Research & Development\",\"Research & Development\",\"Sales\",\"Research & Development\",\"Research & Development\",\"Sales\",\"Research & Development\",\"Research & Development\",\"Research & Development\",\"Research & Development\",\"Research & Development\",\"Research & Development\",\"Research & Development\",\"Sales\",\"Research & Development\",\"Research & Development\",\"Research & Development\",\"Research & Development\",\"Research & Development\",\"Research & Development\",\"Research & Development\",\"Human Resources\",\"Research & Development\",\"Research & Development\",\"Research & Development\",\"Research & Development\",\"Research & Development\",\"Research & Development\",\"Research & Development\",\"Sales\",\"Sales\",\"Research & Development\",\"Research & Development\",\"Research & Development\",\"Sales\",\"Human Resources\",\"Research & Development\",\"Research & Development\",\"Sales\",\"Research & Development\",\"Research & Development\",\"Sales\",\"Research & Development\",\"Sales\",\"Sales\",\"Research & Development\",\"Sales\",\"Sales\",\"Research & Development\",\"Research & Development\",\"Sales\",\"Human Resources\",\"Research & Development\",\"Research & Development\",\"Research & Development\",\"Human Resources\",\"Sales\",\"Research & Development\",\"Research & Development\",\"Research & Development\",\"Sales\",\"Research & Development\",\"Research & Development\",\"Sales\",\"Sales\",\"Research & Development\",\"Research & Development\",\"Sales\",\"Sales\",\"Research & Development\",\"Sales\",\"Research & Development\",\"Research & Development\",\"Sales\",\"Sales\",\"Research & Development\",\"Human Resources\",\"Human Resources\",\"Research & Development\",\"Research & Development\",\"Research & Development\",\"Sales\",\"Research & Development\",\"Research & Development\",\"Sales\",\"Research & Development\",\"Research & Development\",\"Sales\",\"Research & Development\",\"Research & Development\",\"Research & Development\",\"Research & Development\",\"Research & Development\",\"Research & Development\",\"Sales\",\"Research & Development\",\"Research & Development\",\"Sales\",\"Research & Development\",\"Research & Development\",\"Research & Development\",\"Sales\",\"Research & Development\",\"Research & Development\",\"Research & Development\",\"Sales\",\"Sales\",\"Sales\",\"Research & Development\",\"Research & Development\",\"Sales\",\"Research & Development\",\"Research & Development\",\"Research & Development\",\"Research & Development\",\"Sales\",\"Research & Development\",\"Sales\",\"Research & Development\",\"Sales\",\"Sales\",\"Research & Development\",\"Research & Development\",\"Sales\",\"Sales\",\"Sales\",\"Sales\",\"Sales\",\"Sales\",\"Research & Development\",\"Sales\",\"Research & Development\",\"Sales\",\"Research & Development\",\"Research & Development\",\"Research & Development\",\"Research & Development\",\"Research & Development\",\"Research & Development\",\"Research & Development\",\"Research & Development\",\"Sales\",\"Research & Development\",\"Research & Development\",\"Research & Development\",\"Research & Development\",\"Research & Development\",\"Research & Development\",\"Research & Development\",\"Research & Development\",\"Research & Development\",\"Research & Development\",\"Research & Development\",\"Research & Development\",\"Research & Development\",\"Research & Development\",\"Research & Development\",\"Research & Development\",\"Research & Development\",\"Research & Development\",\"Research & Development\",\"Research & Development\",\"Research & Development\",\"Sales\",\"Research & Development\",\"Research & Development\",\"Research & Development\",\"Research & Development\",\"Research & Development\",\"Sales\",\"Sales\",\"Sales\",\"Sales\",\"Sales\",\"Research & Development\",\"Research & Development\",\"Sales\",\"Sales\",\"Research & Development\",\"Sales\",\"Sales\",\"Human Resources\",\"Sales\",\"Research & Development\",\"Research & Development\",\"Sales\",\"Sales\",\"Research & Development\",\"Research & Development\",\"Research & Development\",\"Sales\",\"Research & Development\",\"Research & Development\",\"Sales\",\"Research & Development\",\"Research & Development\",\"Research & Development\",\"Sales\",\"Sales\",\"Research & Development\",\"Research & Development\",\"Research & Development\",\"Research & Development\",\"Research & Development\",\"Research & Development\",\"Research & Development\",\"Research & Development\",\"Research & Development\",\"Research & Development\",\"Research & Development\",\"Research & Development\",\"Human Resources\",\"Research & Development\",\"Sales\",\"Research & Development\",\"Research & Development\",\"Research & Development\",\"Sales\",\"Research & Development\",\"Research & Development\",\"Research & Development\",\"Research & Development\",\"Research & Development\",\"Sales\",\"Sales\",\"Research & Development\",\"Research & Development\",\"Sales\",\"Research & Development\",\"Sales\",\"Research & Development\",\"Research & Development\",\"Sales\",\"Sales\",\"Research & Development\",\"Research & Development\",\"Research & Development\",\"Research & Development\",\"Research & Development\",\"Research & Development\",\"Sales\",\"Research & Development\",\"Sales\",\"Sales\",\"Research & Development\",\"Research & Development\",\"Research & Development\",\"Research & Development\",\"Human Resources\",\"Research & Development\",\"Research & Development\",\"Sales\",\"Research & Development\",\"Research & Development\",\"Research & Development\",\"Research & Development\",\"Sales\",\"Human Resources\",\"Sales\",\"Research & Development\",\"Sales\",\"Sales\",\"Research & Development\",\"Research & Development\",\"Research & Development\",\"Research & Development\",\"Sales\",\"Research & Development\",\"Research & Development\",\"Research & Development\",\"Research & Development\",\"Sales\",\"Sales\",\"Research & Development\",\"Research & Development\",\"Research & Development\",\"Research & Development\",\"Research & Development\",\"Research & Development\",\"Research & Development\",\"Research & Development\",\"Research & Development\",\"Research & Development\",\"Sales\",\"Research & Development\",\"Human Resources\",\"Research & Development\",\"Sales\",\"Sales\",\"Research & Development\",\"Research & Development\",\"Research & Development\",\"Sales\",\"Research & Development\",\"Sales\",\"Research & Development\",\"Research & Development\",\"Research & Development\",\"Sales\",\"Research & Development\",\"Human Resources\",\"Sales\",\"Research & Development\",\"Research & Development\",\"Research & Development\",\"Research & Development\",\"Sales\",\"Sales\",\"Research & Development\",\"Research & Development\",\"Sales\",\"Research & Development\",\"Research & Development\",\"Research & Development\",\"Research & Development\",\"Research & Development\",\"Research & Development\",\"Research & Development\",\"Research & Development\",\"Sales\",\"Research & Development\",\"Research & Development\",\"Research & Development\",\"Research & Development\",\"Research & Development\",\"Research & Development\",\"Research & Development\",\"Research & Development\",\"Research & Development\",\"Sales\",\"Sales\",\"Research & Development\",\"Research & Development\",\"Sales\",\"Research & Development\",\"Sales\",\"Research & Development\",\"Research & Development\",\"Sales\",\"Sales\",\"Sales\",\"Research & Development\",\"Research & Development\",\"Research & Development\",\"Research & Development\",\"Human Resources\",\"Research & Development\",\"Research & Development\",\"Sales\",\"Research & Development\",\"Research & Development\",\"Research & Development\",\"Research & Development\",\"Research & Development\",\"Research & Development\",\"Research & Development\",\"Research & Development\",\"Sales\",\"Research & Development\",\"Research & Development\",\"Research & Development\",\"Research & Development\",\"Research & Development\",\"Research & Development\",\"Research & Development\",\"Human Resources\",\"Research & Development\",\"Research & Development\",\"Sales\",\"Sales\",\"Research & Development\",\"Research & Development\",\"Sales\",\"Sales\",\"Sales\",\"Research & Development\",\"Research & Development\",\"Research & Development\",\"Human Resources\",\"Research & Development\",\"Research & Development\",\"Research & Development\",\"Sales\",\"Research & Development\",\"Human Resources\",\"Sales\",\"Sales\",\"Research & Development\",\"Research & Development\",\"Research & Development\",\"Sales\",\"Research & Development\",\"Sales\",\"Research & Development\",\"Research & Development\",\"Research & Development\",\"Sales\",\"Sales\",\"Research & Development\",\"Research & Development\",\"Research & Development\",\"Research & Development\",\"Sales\",\"Sales\",\"Research & Development\",\"Research & Development\",\"Sales\",\"Research & Development\",\"Sales\",\"Sales\",\"Research & Development\",\"Research & Development\",\"Sales\",\"Sales\",\"Research & Development\",\"Sales\",\"Research & Development\",\"Research & Development\",\"Sales\",\"Research & Development\",\"Research & Development\",\"Human Resources\",\"Research & Development\",\"Research & Development\",\"Research & Development\",\"Research & Development\",\"Research & Development\",\"Human Resources\",\"Research & Development\",\"Research & Development\",\"Research & Development\",\"Research & Development\",\"Research & Development\",\"Sales\",\"Sales\",\"Sales\",\"Research & Development\",\"Research & Development\",\"Research & Development\",\"Research & Development\",\"Research & Development\",\"Sales\",\"Research & Development\",\"Sales\",\"Research & Development\",\"Research & Development\",\"Research & Development\",\"Sales\",\"Sales\",\"Research & Development\",\"Research & Development\",\"Research & Development\",\"Sales\",\"Sales\",\"Research & Development\",\"Research & Development\",\"Research & Development\",\"Human Resources\",\"Research & Development\",\"Research & Development\",\"Sales\",\"Human Resources\",\"Research & Development\",\"Sales\",\"Research & Development\",\"Research & Development\",\"Research & Development\",\"Research & Development\",\"Research & Development\",\"Sales\",\"Sales\",\"Sales\",\"Research & Development\",\"Sales\",\"Research & Development\",\"Research & Development\",\"Research & Development\",\"Research & Development\",\"Sales\",\"Sales\",\"Sales\",\"Sales\",\"Research & Development\",\"Sales\",\"Research & Development\",\"Sales\",\"Human Resources\",\"Research & Development\",\"Research & Development\",\"Sales\",\"Research & Development\",\"Research & Development\",\"Sales\",\"Research & Development\",\"Research & Development\",\"Research & Development\",\"Research & Development\",\"Research & Development\",\"Research & Development\",\"Research & Development\",\"Research & Development\",\"Research & Development\",\"Sales\",\"Research & Development\",\"Research & Development\",\"Research & Development\",\"Sales\",\"Research & Development\",\"Research & Development\",\"Sales\",\"Research & Development\",\"Research & Development\",\"Research & Development\",\"Research & Development\",\"Research & Development\",\"Research & Development\",\"Sales\",\"Research & Development\",\"Human Resources\",\"Research & Development\",\"Research & Development\",\"Research & Development\",\"Sales\",\"Research & Development\",\"Sales\",\"Sales\",\"Research & Development\",\"Sales\",\"Sales\",\"Human Resources\",\"Research & Development\",\"Sales\",\"Research & Development\",\"Research & Development\",\"Research & Development\",\"Research & Development\",\"Research & Development\",\"Research & Development\",\"Sales\",\"Research & Development\",\"Research & Development\",\"Sales\",\"Sales\",\"Sales\",\"Research & Development\",\"Research & Development\",\"Sales\",\"Research & Development\",\"Sales\",\"Research & Development\",\"Research & Development\",\"Research & Development\",\"Research & Development\",\"Research & Development\",\"Sales\",\"Research & Development\",\"Research & Development\",\"Sales\",\"Research & Development\",\"Research & Development\",\"Research & Development\",\"Research & Development\",\"Research & Development\",\"Research & Development\",\"Research & Development\",\"Sales\",\"Sales\",\"Research & Development\",\"Research & Development\",\"Research & Development\",\"Research & Development\",\"Research & Development\",\"Research & Development\",\"Research & Development\",\"Research & Development\",\"Sales\",\"Human Resources\",\"Research & Development\",\"Research & Development\",\"Research & Development\",\"Research & Development\",\"Research & Development\",\"Research & Development\",\"Research & Development\",\"Sales\",\"Research & Development\",\"Research & Development\",\"Human Resources\",\"Research & Development\",\"Sales\",\"Research & Development\",\"Research & Development\",\"Research & Development\",\"Research & Development\",\"Sales\",\"Research & Development\",\"Research & Development\",\"Research & Development\",\"Research & Development\",\"Research & Development\",\"Sales\",\"Research & Development\",\"Research & Development\",\"Research & Development\",\"Research & Development\",\"Research & Development\",\"Research & Development\",\"Research & Development\",\"Sales\",\"Research & Development\",\"Sales\",\"Sales\",\"Research & Development\",\"Sales\",\"Research & Development\",\"Research & Development\",\"Sales\",\"Research & Development\",\"Sales\",\"Sales\",\"Sales\",\"Research & Development\",\"Human Resources\",\"Research & Development\",\"Research & Development\",\"Research & Development\",\"Sales\",\"Research & Development\",\"Research & Development\",\"Research & Development\",\"Research & Development\",\"Research & Development\",\"Research & Development\",\"Sales\",\"Research & Development\",\"Sales\",\"Research & Development\",\"Research & Development\",\"Sales\",\"Research & Development\",\"Sales\",\"Research & Development\",\"Sales\",\"Research & Development\",\"Human Resources\",\"Sales\",\"Research & Development\",\"Research & Development\",\"Research & Development\",\"Research & Development\",\"Human Resources\",\"Research & Development\",\"Research & Development\",\"Research & Development\",\"Research & Development\",\"Research & Development\",\"Sales\",\"Sales\",\"Sales\",\"Sales\",\"Research & Development\",\"Research & Development\",\"Research & Development\",\"Sales\",\"Sales\",\"Human Resources\",\"Research & Development\",\"Human Resources\",\"Human Resources\",\"Sales\",\"Research & Development\",\"Sales\",\"Research & Development\",\"Sales\",\"Research & Development\",\"Sales\",\"Sales\",\"Sales\",\"Research & Development\",\"Sales\",\"Research & Development\",\"Research & Development\",\"Research & Development\",\"Research & Development\",\"Research & Development\",\"Research & Development\",\"Research & Development\",\"Research & Development\",\"Research & Development\",\"Sales\",\"Research & Development\",\"Human Resources\",\"Sales\",\"Sales\",\"Research & Development\",\"Research & Development\",\"Sales\",\"Research & Development\",\"Sales\",\"Research & Development\",\"Research & Development\",\"Research & Development\",\"Human Resources\",\"Sales\",\"Research & Development\",\"Research & Development\",\"Research & Development\",\"Sales\",\"Research & Development\",\"Research & Development\",\"Research & Development\",\"Human Resources\",\"Research & Development\",\"Research & Development\",\"Sales\",\"Research & Development\",\"Research & Development\",\"Sales\",\"Research & Development\",\"Human Resources\",\"Research & Development\",\"Research & Development\",\"Sales\",\"Sales\",\"Research & Development\",\"Research & Development\",\"Research & Development\",\"Research & Development\",\"Sales\",\"Research & Development\",\"Sales\",\"Sales\",\"Research & Development\",\"Research & Development\",\"Human Resources\",\"Human Resources\",\"Sales\",\"Research & Development\",\"Sales\",\"Research & Development\",\"Research & Development\",\"Sales\",\"Research & Development\",\"Research & Development\",\"Research & Development\",\"Human Resources\",\"Research & Development\",\"Research & Development\",\"Sales\",\"Sales\",\"Sales\",\"Human Resources\",\"Research & Development\",\"Research & Development\",\"Research & Development\",\"Sales\",\"Research & Development\",\"Research & Development\",\"Research & Development\",\"Sales\",\"Sales\",\"Research & Development\",\"Sales\",\"Research & Development\",\"Sales\",\"Research & Development\",\"Research & Development\",\"Research & Development\",\"Research & Development\",\"Human Resources\",\"Research & Development\",\"Research & Development\",\"Sales\",\"Research & Development\",\"Research & Development\",\"Research & Development\",\"Research & Development\",\"Sales\",\"Sales\",\"Research & Development\",\"Sales\",\"Sales\",\"Research & Development\",\"Research & Development\",\"Research & Development\",\"Sales\",\"Sales\",\"Sales\",\"Sales\",\"Research & Development\",\"Research & Development\",\"Sales\",\"Research & Development\",\"Sales\",\"Research & Development\",\"Research & Development\",\"Sales\",\"Research & Development\",\"Research & Development\",\"Research & Development\",\"Sales\",\"Human Resources\",\"Sales\",\"Research & Development\",\"Research & Development\",\"Research & Development\",\"Sales\",\"Sales\",\"Research & Development\",\"Research & Development\",\"Research & Development\",\"Research & Development\",\"Research & Development\",\"Sales\",\"Sales\",\"Sales\",\"Research & Development\",\"Sales\",\"Sales\",\"Research & Development\",\"Research & Development\",\"Research & Development\",\"Human Resources\",\"Human Resources\",\"Research & Development\",\"Sales\",\"Research & Development\",\"Research & Development\",\"Research & Development\",\"Research & Development\",\"Research & Development\",\"Research & Development\",\"Sales\",\"Human Resources\",\"Research & Development\",\"Research & Development\",\"Research & Development\",\"Research & Development\",\"Sales\",\"Sales\",\"Research & Development\",\"Research & Development\",\"Research & Development\",\"Research & Development\",\"Research & Development\",\"Research & Development\",\"Research & Development\",\"Research & Development\",\"Research & Development\",\"Research & Development\",\"Sales\",\"Research & Development\",\"Research & Development\",\"Sales\",\"Research & Development\",\"Sales\",\"Sales\",\"Research & Development\",\"Sales\",\"Research & Development\",\"Sales\",\"Sales\",\"Research & Development\",\"Research & Development\",\"Research & Development\",\"Research & Development\",\"Research & Development\",\"Research & Development\",\"Sales\",\"Sales\",\"Sales\",\"Research & Development\",\"Human Resources\",\"Sales\",\"Sales\",\"Sales\",\"Sales\",\"Research & Development\",\"Research & Development\",\"Research & Development\",\"Research & Development\",\"Research & Development\",\"Research & Development\",\"Sales\",\"Sales\",\"Research & Development\",\"Sales\",\"Research & Development\",\"Research & Development\",\"Research & Development\",\"Sales\",\"Research & Development\"],\"legendgroup\":\"\",\"name\":\"\",\"showlegend\":true,\"type\":\"pie\"}],                        {\"template\":{\"data\":{\"histogram2dcontour\":[{\"type\":\"histogram2dcontour\",\"colorbar\":{\"outlinewidth\":0,\"ticks\":\"\"},\"colorscale\":[[0.0,\"#0d0887\"],[0.1111111111111111,\"#46039f\"],[0.2222222222222222,\"#7201a8\"],[0.3333333333333333,\"#9c179e\"],[0.4444444444444444,\"#bd3786\"],[0.5555555555555556,\"#d8576b\"],[0.6666666666666666,\"#ed7953\"],[0.7777777777777778,\"#fb9f3a\"],[0.8888888888888888,\"#fdca26\"],[1.0,\"#f0f921\"]]}],\"choropleth\":[{\"type\":\"choropleth\",\"colorbar\":{\"outlinewidth\":0,\"ticks\":\"\"}}],\"histogram2d\":[{\"type\":\"histogram2d\",\"colorbar\":{\"outlinewidth\":0,\"ticks\":\"\"},\"colorscale\":[[0.0,\"#0d0887\"],[0.1111111111111111,\"#46039f\"],[0.2222222222222222,\"#7201a8\"],[0.3333333333333333,\"#9c179e\"],[0.4444444444444444,\"#bd3786\"],[0.5555555555555556,\"#d8576b\"],[0.6666666666666666,\"#ed7953\"],[0.7777777777777778,\"#fb9f3a\"],[0.8888888888888888,\"#fdca26\"],[1.0,\"#f0f921\"]]}],\"heatmap\":[{\"type\":\"heatmap\",\"colorbar\":{\"outlinewidth\":0,\"ticks\":\"\"},\"colorscale\":[[0.0,\"#0d0887\"],[0.1111111111111111,\"#46039f\"],[0.2222222222222222,\"#7201a8\"],[0.3333333333333333,\"#9c179e\"],[0.4444444444444444,\"#bd3786\"],[0.5555555555555556,\"#d8576b\"],[0.6666666666666666,\"#ed7953\"],[0.7777777777777778,\"#fb9f3a\"],[0.8888888888888888,\"#fdca26\"],[1.0,\"#f0f921\"]]}],\"heatmapgl\":[{\"type\":\"heatmapgl\",\"colorbar\":{\"outlinewidth\":0,\"ticks\":\"\"},\"colorscale\":[[0.0,\"#0d0887\"],[0.1111111111111111,\"#46039f\"],[0.2222222222222222,\"#7201a8\"],[0.3333333333333333,\"#9c179e\"],[0.4444444444444444,\"#bd3786\"],[0.5555555555555556,\"#d8576b\"],[0.6666666666666666,\"#ed7953\"],[0.7777777777777778,\"#fb9f3a\"],[0.8888888888888888,\"#fdca26\"],[1.0,\"#f0f921\"]]}],\"contourcarpet\":[{\"type\":\"contourcarpet\",\"colorbar\":{\"outlinewidth\":0,\"ticks\":\"\"}}],\"contour\":[{\"type\":\"contour\",\"colorbar\":{\"outlinewidth\":0,\"ticks\":\"\"},\"colorscale\":[[0.0,\"#0d0887\"],[0.1111111111111111,\"#46039f\"],[0.2222222222222222,\"#7201a8\"],[0.3333333333333333,\"#9c179e\"],[0.4444444444444444,\"#bd3786\"],[0.5555555555555556,\"#d8576b\"],[0.6666666666666666,\"#ed7953\"],[0.7777777777777778,\"#fb9f3a\"],[0.8888888888888888,\"#fdca26\"],[1.0,\"#f0f921\"]]}],\"surface\":[{\"type\":\"surface\",\"colorbar\":{\"outlinewidth\":0,\"ticks\":\"\"},\"colorscale\":[[0.0,\"#0d0887\"],[0.1111111111111111,\"#46039f\"],[0.2222222222222222,\"#7201a8\"],[0.3333333333333333,\"#9c179e\"],[0.4444444444444444,\"#bd3786\"],[0.5555555555555556,\"#d8576b\"],[0.6666666666666666,\"#ed7953\"],[0.7777777777777778,\"#fb9f3a\"],[0.8888888888888888,\"#fdca26\"],[1.0,\"#f0f921\"]]}],\"mesh3d\":[{\"type\":\"mesh3d\",\"colorbar\":{\"outlinewidth\":0,\"ticks\":\"\"}}],\"scatter\":[{\"fillpattern\":{\"fillmode\":\"overlay\",\"size\":10,\"solidity\":0.2},\"type\":\"scatter\"}],\"parcoords\":[{\"type\":\"parcoords\",\"line\":{\"colorbar\":{\"outlinewidth\":0,\"ticks\":\"\"}}}],\"scatterpolargl\":[{\"type\":\"scatterpolargl\",\"marker\":{\"colorbar\":{\"outlinewidth\":0,\"ticks\":\"\"}}}],\"bar\":[{\"error_x\":{\"color\":\"#2a3f5f\"},\"error_y\":{\"color\":\"#2a3f5f\"},\"marker\":{\"line\":{\"color\":\"#E5ECF6\",\"width\":0.5},\"pattern\":{\"fillmode\":\"overlay\",\"size\":10,\"solidity\":0.2}},\"type\":\"bar\"}],\"scattergeo\":[{\"type\":\"scattergeo\",\"marker\":{\"colorbar\":{\"outlinewidth\":0,\"ticks\":\"\"}}}],\"scatterpolar\":[{\"type\":\"scatterpolar\",\"marker\":{\"colorbar\":{\"outlinewidth\":0,\"ticks\":\"\"}}}],\"histogram\":[{\"marker\":{\"pattern\":{\"fillmode\":\"overlay\",\"size\":10,\"solidity\":0.2}},\"type\":\"histogram\"}],\"scattergl\":[{\"type\":\"scattergl\",\"marker\":{\"colorbar\":{\"outlinewidth\":0,\"ticks\":\"\"}}}],\"scatter3d\":[{\"type\":\"scatter3d\",\"line\":{\"colorbar\":{\"outlinewidth\":0,\"ticks\":\"\"}},\"marker\":{\"colorbar\":{\"outlinewidth\":0,\"ticks\":\"\"}}}],\"scattermapbox\":[{\"type\":\"scattermapbox\",\"marker\":{\"colorbar\":{\"outlinewidth\":0,\"ticks\":\"\"}}}],\"scatterternary\":[{\"type\":\"scatterternary\",\"marker\":{\"colorbar\":{\"outlinewidth\":0,\"ticks\":\"\"}}}],\"scattercarpet\":[{\"type\":\"scattercarpet\",\"marker\":{\"colorbar\":{\"outlinewidth\":0,\"ticks\":\"\"}}}],\"carpet\":[{\"aaxis\":{\"endlinecolor\":\"#2a3f5f\",\"gridcolor\":\"white\",\"linecolor\":\"white\",\"minorgridcolor\":\"white\",\"startlinecolor\":\"#2a3f5f\"},\"baxis\":{\"endlinecolor\":\"#2a3f5f\",\"gridcolor\":\"white\",\"linecolor\":\"white\",\"minorgridcolor\":\"white\",\"startlinecolor\":\"#2a3f5f\"},\"type\":\"carpet\"}],\"table\":[{\"cells\":{\"fill\":{\"color\":\"#EBF0F8\"},\"line\":{\"color\":\"white\"}},\"header\":{\"fill\":{\"color\":\"#C8D4E3\"},\"line\":{\"color\":\"white\"}},\"type\":\"table\"}],\"barpolar\":[{\"marker\":{\"line\":{\"color\":\"#E5ECF6\",\"width\":0.5},\"pattern\":{\"fillmode\":\"overlay\",\"size\":10,\"solidity\":0.2}},\"type\":\"barpolar\"}],\"pie\":[{\"automargin\":true,\"type\":\"pie\"}]},\"layout\":{\"autotypenumbers\":\"strict\",\"colorway\":[\"#636efa\",\"#EF553B\",\"#00cc96\",\"#ab63fa\",\"#FFA15A\",\"#19d3f3\",\"#FF6692\",\"#B6E880\",\"#FF97FF\",\"#FECB52\"],\"font\":{\"color\":\"#2a3f5f\"},\"hovermode\":\"closest\",\"hoverlabel\":{\"align\":\"left\"},\"paper_bgcolor\":\"white\",\"plot_bgcolor\":\"#E5ECF6\",\"polar\":{\"bgcolor\":\"#E5ECF6\",\"angularaxis\":{\"gridcolor\":\"white\",\"linecolor\":\"white\",\"ticks\":\"\"},\"radialaxis\":{\"gridcolor\":\"white\",\"linecolor\":\"white\",\"ticks\":\"\"}},\"ternary\":{\"bgcolor\":\"#E5ECF6\",\"aaxis\":{\"gridcolor\":\"white\",\"linecolor\":\"white\",\"ticks\":\"\"},\"baxis\":{\"gridcolor\":\"white\",\"linecolor\":\"white\",\"ticks\":\"\"},\"caxis\":{\"gridcolor\":\"white\",\"linecolor\":\"white\",\"ticks\":\"\"}},\"coloraxis\":{\"colorbar\":{\"outlinewidth\":0,\"ticks\":\"\"}},\"colorscale\":{\"sequential\":[[0.0,\"#0d0887\"],[0.1111111111111111,\"#46039f\"],[0.2222222222222222,\"#7201a8\"],[0.3333333333333333,\"#9c179e\"],[0.4444444444444444,\"#bd3786\"],[0.5555555555555556,\"#d8576b\"],[0.6666666666666666,\"#ed7953\"],[0.7777777777777778,\"#fb9f3a\"],[0.8888888888888888,\"#fdca26\"],[1.0,\"#f0f921\"]],\"sequentialminus\":[[0.0,\"#0d0887\"],[0.1111111111111111,\"#46039f\"],[0.2222222222222222,\"#7201a8\"],[0.3333333333333333,\"#9c179e\"],[0.4444444444444444,\"#bd3786\"],[0.5555555555555556,\"#d8576b\"],[0.6666666666666666,\"#ed7953\"],[0.7777777777777778,\"#fb9f3a\"],[0.8888888888888888,\"#fdca26\"],[1.0,\"#f0f921\"]],\"diverging\":[[0,\"#8e0152\"],[0.1,\"#c51b7d\"],[0.2,\"#de77ae\"],[0.3,\"#f1b6da\"],[0.4,\"#fde0ef\"],[0.5,\"#f7f7f7\"],[0.6,\"#e6f5d0\"],[0.7,\"#b8e186\"],[0.8,\"#7fbc41\"],[0.9,\"#4d9221\"],[1,\"#276419\"]]},\"xaxis\":{\"gridcolor\":\"white\",\"linecolor\":\"white\",\"ticks\":\"\",\"title\":{\"standoff\":15},\"zerolinecolor\":\"white\",\"automargin\":true,\"zerolinewidth\":2},\"yaxis\":{\"gridcolor\":\"white\",\"linecolor\":\"white\",\"ticks\":\"\",\"title\":{\"standoff\":15},\"zerolinecolor\":\"white\",\"automargin\":true,\"zerolinewidth\":2},\"scene\":{\"xaxis\":{\"backgroundcolor\":\"#E5ECF6\",\"gridcolor\":\"white\",\"linecolor\":\"white\",\"showbackground\":true,\"ticks\":\"\",\"zerolinecolor\":\"white\",\"gridwidth\":2},\"yaxis\":{\"backgroundcolor\":\"#E5ECF6\",\"gridcolor\":\"white\",\"linecolor\":\"white\",\"showbackground\":true,\"ticks\":\"\",\"zerolinecolor\":\"white\",\"gridwidth\":2},\"zaxis\":{\"backgroundcolor\":\"#E5ECF6\",\"gridcolor\":\"white\",\"linecolor\":\"white\",\"showbackground\":true,\"ticks\":\"\",\"zerolinecolor\":\"white\",\"gridwidth\":2}},\"shapedefaults\":{\"line\":{\"color\":\"#2a3f5f\"}},\"annotationdefaults\":{\"arrowcolor\":\"#2a3f5f\",\"arrowhead\":0,\"arrowwidth\":1},\"geo\":{\"bgcolor\":\"white\",\"landcolor\":\"#E5ECF6\",\"subunitcolor\":\"white\",\"showland\":true,\"showlakes\":true,\"lakecolor\":\"white\"},\"title\":{\"x\":0.05},\"mapbox\":{\"style\":\"light\"}}},\"legend\":{\"tracegroupgap\":0},\"title\":{\"text\":\"Total Number of people by Department\"}},                        {\"responsive\": true}                    ).then(function(){\n",
              "                            \n",
              "var gd = document.getElementById('e37bac1b-5512-4f13-b49b-985921c1f20b');\n",
              "var x = new MutationObserver(function (mutations, observer) {{\n",
              "        var display = window.getComputedStyle(gd).display;\n",
              "        if (!display || display === 'none') {{\n",
              "            console.log([gd, 'removed!']);\n",
              "            Plotly.purge(gd);\n",
              "            observer.disconnect();\n",
              "        }}\n",
              "}});\n",
              "\n",
              "// Listen for the removal of the full notebook cells\n",
              "var notebookContainer = gd.closest('#notebook-container');\n",
              "if (notebookContainer) {{\n",
              "    x.observe(notebookContainer, {childList: true});\n",
              "}}\n",
              "\n",
              "// Listen for the clearing of the current output cell\n",
              "var outputEl = gd.closest('.output');\n",
              "if (outputEl) {{\n",
              "    x.observe(outputEl, {childList: true});\n",
              "}}\n",
              "\n",
              "                        })                };                            </script>        </div>\n",
              "</body>\n",
              "</html>"
            ]
          },
          "metadata": {}
        }
      ]
    },
    {
      "cell_type": "code",
      "source": [
        "Types_Of_Education_counts = HRAnalytics['Education'].value_counts()\n",
        "print('Number_of_people_by_education:\\n',Types_Of_Education_counts)\n",
        "#here education is in number format.\n",
        "#1:High School\n",
        "#2:College\n",
        "#3:Bachelor's Degree\n",
        "#4:Master's Degree or Higher"
      ],
      "metadata": {
        "colab": {
          "base_uri": "https://localhost:8080/"
        },
        "id": "6xVLzvavCa1e",
        "outputId": "a80f8115-339c-4c6f-ec0c-2fe0a6ae3969"
      },
      "execution_count": 20,
      "outputs": [
        {
          "output_type": "stream",
          "name": "stdout",
          "text": [
            "Number_of_people_by_education:\n",
            " 3    572\n",
            "4    398\n",
            "2    282\n",
            "1    170\n",
            "5     48\n",
            "Name: Education, dtype: int64\n"
          ]
        }
      ]
    },
    {
      "cell_type": "code",
      "source": [
        "Types_Of_EducationField_counts = HRAnalytics['EducationField'].value_counts()\n",
        "print('Number_of_people_By_EducationField:\\n',Types_Of_EducationField_counts)"
      ],
      "metadata": {
        "colab": {
          "base_uri": "https://localhost:8080/"
        },
        "id": "QPStmTTPCmfu",
        "outputId": "61f2b801-72b0-4b43-c400-9f65e3b12253"
      },
      "execution_count": 21,
      "outputs": [
        {
          "output_type": "stream",
          "name": "stdout",
          "text": [
            "Number_of_people_By_EducationField:\n",
            " Life Sciences       606\n",
            "Medical             464\n",
            "Marketing           159\n",
            "Technical Degree    132\n",
            "Other                82\n",
            "Human Resources      27\n",
            "Name: EducationField, dtype: int64\n"
          ]
        }
      ]
    },
    {
      "cell_type": "code",
      "source": [
        "fig = px.pie(HRAnalytics,names='EducationField',title='Total Number of people by EducationField')\n",
        "fig.show()"
      ],
      "metadata": {
        "colab": {
          "base_uri": "https://localhost:8080/",
          "height": 542
        },
        "id": "LnlT4zksQQk8",
        "outputId": "9d75754d-d13e-4409-ebf4-1d8054f26275"
      },
      "execution_count": 22,
      "outputs": [
        {
          "output_type": "display_data",
          "data": {
            "text/html": [
              "<html>\n",
              "<head><meta charset=\"utf-8\" /></head>\n",
              "<body>\n",
              "    <div>            <script src=\"https://cdnjs.cloudflare.com/ajax/libs/mathjax/2.7.5/MathJax.js?config=TeX-AMS-MML_SVG\"></script><script type=\"text/javascript\">if (window.MathJax && window.MathJax.Hub && window.MathJax.Hub.Config) {window.MathJax.Hub.Config({SVG: {font: \"STIX-Web\"}});}</script>                <script type=\"text/javascript\">window.PlotlyConfig = {MathJaxConfig: 'local'};</script>\n",
              "        <script charset=\"utf-8\" src=\"https://cdn.plot.ly/plotly-2.24.1.min.js\"></script>                <div id=\"c3ff8682-4a83-4f4d-bec5-9d5262fd6e22\" class=\"plotly-graph-div\" style=\"height:525px; width:100%;\"></div>            <script type=\"text/javascript\">                                    window.PLOTLYENV=window.PLOTLYENV || {};                                    if (document.getElementById(\"c3ff8682-4a83-4f4d-bec5-9d5262fd6e22\")) {                    Plotly.newPlot(                        \"c3ff8682-4a83-4f4d-bec5-9d5262fd6e22\",                        [{\"domain\":{\"x\":[0.0,1.0],\"y\":[0.0,1.0]},\"hovertemplate\":\"EducationField=%{label}\\u003cextra\\u003e\\u003c\\u002fextra\\u003e\",\"labels\":[\"Life Sciences\",\"Life Sciences\",\"Other\",\"Life Sciences\",\"Medical\",\"Life Sciences\",\"Medical\",\"Life Sciences\",\"Life Sciences\",\"Medical\",\"Medical\",\"Life Sciences\",\"Life Sciences\",\"Medical\",\"Life Sciences\",\"Life Sciences\",\"Life Sciences\",\"Medical\",\"Life Sciences\",\"Life Sciences\",\"Other\",\"Life Sciences\",\"Life Sciences\",\"Life Sciences\",\"Medical\",\"Other\",\"Life Sciences\",\"Marketing\",\"Medical\",\"Marketing\",\"Medical\",\"Other\",\"Medical\",\"Technical Degree\",\"Medical\",\"Medical\",\"Marketing\",\"Marketing\",\"Life Sciences\",\"Life Sciences\",\"Other\",\"Life Sciences\",\"Life Sciences\",\"Life Sciences\",\"Medical\",\"Technical Degree\",\"Marketing\",\"Life Sciences\",\"Marketing\",\"Life Sciences\",\"Life Sciences\",\"Technical Degree\",\"Marketing\",\"Medical\",\"Marketing\",\"Life Sciences\",\"Life Sciences\",\"Medical\",\"Life Sciences\",\"Life Sciences\",\"Medical\",\"Life Sciences\",\"Medical\",\"Life Sciences\",\"Technical Degree\",\"Medical\",\"Life Sciences\",\"Life Sciences\",\"Medical\",\"Medical\",\"Life Sciences\",\"Life Sciences\",\"Medical\",\"Life Sciences\",\"Life Sciences\",\"Life Sciences\",\"Marketing\",\"Other\",\"Medical\",\"Medical\",\"Life Sciences\",\"Medical\",\"Life Sciences\",\"Medical\",\"Medical\",\"Life Sciences\",\"Technical Degree\",\"Life Sciences\",\"Life Sciences\",\"Medical\",\"Life Sciences\",\"Marketing\",\"Medical\",\"Medical\",\"Medical\",\"Technical Degree\",\"Other\",\"Medical\",\"Medical\",\"Medical\",\"Human Resources\",\"Life Sciences\",\"Life Sciences\",\"Other\",\"Life Sciences\",\"Human Resources\",\"Life Sciences\",\"Marketing\",\"Medical\",\"Medical\",\"Medical\",\"Life Sciences\",\"Human Resources\",\"Life Sciences\",\"Life Sciences\",\"Life Sciences\",\"Medical\",\"Technical Degree\",\"Life Sciences\",\"Life Sciences\",\"Life Sciences\",\"Marketing\",\"Life Sciences\",\"Life Sciences\",\"Life Sciences\",\"Other\",\"Medical\",\"Marketing\",\"Technical Degree\",\"Medical\",\"Medical\",\"Marketing\",\"Life Sciences\",\"Life Sciences\",\"Life Sciences\",\"Medical\",\"Life Sciences\",\"Life Sciences\",\"Life Sciences\",\"Human Resources\",\"Medical\",\"Medical\",\"Technical Degree\",\"Life Sciences\",\"Medical\",\"Technical Degree\",\"Medical\",\"Life Sciences\",\"Life Sciences\",\"Medical\",\"Medical\",\"Marketing\",\"Marketing\",\"Life Sciences\",\"Marketing\",\"Technical Degree\",\"Medical\",\"Medical\",\"Marketing\",\"Marketing\",\"Medical\",\"Medical\",\"Medical\",\"Life Sciences\",\"Medical\",\"Life Sciences\",\"Life Sciences\",\"Life Sciences\",\"Life Sciences\",\"Life Sciences\",\"Technical Degree\",\"Technical Degree\",\"Medical\",\"Medical\",\"Life Sciences\",\"Life Sciences\",\"Life Sciences\",\"Life Sciences\",\"Marketing\",\"Life Sciences\",\"Medical\",\"Medical\",\"Marketing\",\"Medical\",\"Medical\",\"Medical\",\"Medical\",\"Medical\",\"Life Sciences\",\"Medical\",\"Life Sciences\",\"Medical\",\"Life Sciences\",\"Medical\",\"Medical\",\"Life Sciences\",\"Medical\",\"Medical\",\"Life Sciences\",\"Technical Degree\",\"Technical Degree\",\"Life Sciences\",\"Medical\",\"Medical\",\"Medical\",\"Marketing\",\"Life Sciences\",\"Medical\",\"Life Sciences\",\"Medical\",\"Medical\",\"Life Sciences\",\"Life Sciences\",\"Life Sciences\",\"Technical Degree\",\"Life Sciences\",\"Marketing\",\"Technical Degree\",\"Medical\",\"Marketing\",\"Life Sciences\",\"Medical\",\"Other\",\"Life Sciences\",\"Medical\",\"Life Sciences\",\"Marketing\",\"Medical\",\"Marketing\",\"Medical\",\"Life Sciences\",\"Technical Degree\",\"Medical\",\"Medical\",\"Medical\",\"Marketing\",\"Life Sciences\",\"Life Sciences\",\"Life Sciences\",\"Life Sciences\",\"Medical\",\"Marketing\",\"Life Sciences\",\"Technical Degree\",\"Other\",\"Medical\",\"Life Sciences\",\"Life Sciences\",\"Medical\",\"Life Sciences\",\"Medical\",\"Technical Degree\",\"Life Sciences\",\"Life Sciences\",\"Marketing\",\"Life Sciences\",\"Medical\",\"Medical\",\"Life Sciences\",\"Medical\",\"Life Sciences\",\"Life Sciences\",\"Technical Degree\",\"Technical Degree\",\"Life Sciences\",\"Medical\",\"Medical\",\"Life Sciences\",\"Medical\",\"Life Sciences\",\"Medical\",\"Life Sciences\",\"Medical\",\"Medical\",\"Medical\",\"Medical\",\"Life Sciences\",\"Medical\",\"Life Sciences\",\"Life Sciences\",\"Medical\",\"Life Sciences\",\"Life Sciences\",\"Technical Degree\",\"Medical\",\"Life Sciences\",\"Life Sciences\",\"Life Sciences\",\"Medical\",\"Life Sciences\",\"Life Sciences\",\"Technical Degree\",\"Marketing\",\"Marketing\",\"Medical\",\"Marketing\",\"Life Sciences\",\"Marketing\",\"Life Sciences\",\"Medical\",\"Life Sciences\",\"Medical\",\"Medical\",\"Technical Degree\",\"Medical\",\"Life Sciences\",\"Life Sciences\",\"Life Sciences\",\"Life Sciences\",\"Technical Degree\",\"Human Resources\",\"Life Sciences\",\"Life Sciences\",\"Life Sciences\",\"Medical\",\"Life Sciences\",\"Technical Degree\",\"Medical\",\"Life Sciences\",\"Technical Degree\",\"Life Sciences\",\"Marketing\",\"Medical\",\"Medical\",\"Medical\",\"Life Sciences\",\"Medical\",\"Medical\",\"Marketing\",\"Life Sciences\",\"Life Sciences\",\"Marketing\",\"Life Sciences\",\"Life Sciences\",\"Other\",\"Medical\",\"Other\",\"Other\",\"Marketing\",\"Marketing\",\"Medical\",\"Life Sciences\",\"Medical\",\"Marketing\",\"Technical Degree\",\"Life Sciences\",\"Medical\",\"Medical\",\"Life Sciences\",\"Life Sciences\",\"Technical Degree\",\"Medical\",\"Medical\",\"Medical\",\"Technical Degree\",\"Life Sciences\",\"Other\",\"Technical Degree\",\"Medical\",\"Medical\",\"Medical\",\"Life Sciences\",\"Medical\",\"Marketing\",\"Medical\",\"Medical\",\"Marketing\",\"Technical Degree\",\"Marketing\",\"Life Sciences\",\"Life Sciences\",\"Life Sciences\",\"Life Sciences\",\"Medical\",\"Life Sciences\",\"Other\",\"Life Sciences\",\"Life Sciences\",\"Marketing\",\"Life Sciences\",\"Marketing\",\"Technical Degree\",\"Technical Degree\",\"Medical\",\"Medical\",\"Technical Degree\",\"Life Sciences\",\"Marketing\",\"Life Sciences\",\"Life Sciences\",\"Life Sciences\",\"Medical\",\"Medical\",\"Marketing\",\"Medical\",\"Medical\",\"Other\",\"Life Sciences\",\"Medical\",\"Life Sciences\",\"Life Sciences\",\"Life Sciences\",\"Technical Degree\",\"Marketing\",\"Medical\",\"Medical\",\"Medical\",\"Life Sciences\",\"Life Sciences\",\"Life Sciences\",\"Life Sciences\",\"Life Sciences\",\"Medical\",\"Technical Degree\",\"Technical Degree\",\"Marketing\",\"Life Sciences\",\"Life Sciences\",\"Life Sciences\",\"Life Sciences\",\"Medical\",\"Technical Degree\",\"Technical Degree\",\"Other\",\"Marketing\",\"Life Sciences\",\"Medical\",\"Marketing\",\"Medical\",\"Life Sciences\",\"Life Sciences\",\"Life Sciences\",\"Life Sciences\",\"Marketing\",\"Life Sciences\",\"Medical\",\"Medical\",\"Marketing\",\"Life Sciences\",\"Life Sciences\",\"Human Resources\",\"Other\",\"Medical\",\"Technical Degree\",\"Marketing\",\"Life Sciences\",\"Life Sciences\",\"Marketing\",\"Life Sciences\",\"Life Sciences\",\"Life Sciences\",\"Medical\",\"Other\",\"Life Sciences\",\"Technical Degree\",\"Medical\",\"Life Sciences\",\"Marketing\",\"Other\",\"Other\",\"Medical\",\"Medical\",\"Life Sciences\",\"Technical Degree\",\"Technical Degree\",\"Medical\",\"Life Sciences\",\"Medical\",\"Technical Degree\",\"Other\",\"Medical\",\"Medical\",\"Life Sciences\",\"Life Sciences\",\"Medical\",\"Marketing\",\"Other\",\"Medical\",\"Medical\",\"Life Sciences\",\"Life Sciences\",\"Life Sciences\",\"Medical\",\"Other\",\"Medical\",\"Medical\",\"Marketing\",\"Life Sciences\",\"Life Sciences\",\"Other\",\"Life Sciences\",\"Medical\",\"Life Sciences\",\"Life Sciences\",\"Technical Degree\",\"Marketing\",\"Technical Degree\",\"Other\",\"Medical\",\"Marketing\",\"Life Sciences\",\"Medical\",\"Medical\",\"Life Sciences\",\"Life Sciences\",\"Life Sciences\",\"Other\",\"Medical\",\"Life Sciences\",\"Life Sciences\",\"Medical\",\"Medical\",\"Medical\",\"Medical\",\"Life Sciences\",\"Life Sciences\",\"Medical\",\"Life Sciences\",\"Marketing\",\"Life Sciences\",\"Marketing\",\"Medical\",\"Life Sciences\",\"Medical\",\"Medical\",\"Life Sciences\",\"Technical Degree\",\"Marketing\",\"Technical Degree\",\"Life Sciences\",\"Life Sciences\",\"Life Sciences\",\"Marketing\",\"Life Sciences\",\"Life Sciences\",\"Human Resources\",\"Marketing\",\"Life Sciences\",\"Human Resources\",\"Marketing\",\"Life Sciences\",\"Life Sciences\",\"Life Sciences\",\"Medical\",\"Medical\",\"Marketing\",\"Life Sciences\",\"Medical\",\"Life Sciences\",\"Medical\",\"Medical\",\"Human Resources\",\"Medical\",\"Medical\",\"Medical\",\"Marketing\",\"Life Sciences\",\"Life Sciences\",\"Life Sciences\",\"Medical\",\"Life Sciences\",\"Marketing\",\"Other\",\"Medical\",\"Technical Degree\",\"Medical\",\"Life Sciences\",\"Other\",\"Medical\",\"Life Sciences\",\"Medical\",\"Life Sciences\",\"Medical\",\"Technical Degree\",\"Life Sciences\",\"Medical\",\"Marketing\",\"Life Sciences\",\"Life Sciences\",\"Medical\",\"Life Sciences\",\"Life Sciences\",\"Medical\",\"Life Sciences\",\"Life Sciences\",\"Life Sciences\",\"Life Sciences\",\"Life Sciences\",\"Medical\",\"Life Sciences\",\"Medical\",\"Marketing\",\"Other\",\"Other\",\"Life Sciences\",\"Life Sciences\",\"Life Sciences\",\"Life Sciences\",\"Medical\",\"Human Resources\",\"Life Sciences\",\"Medical\",\"Medical\",\"Life Sciences\",\"Life Sciences\",\"Life Sciences\",\"Life Sciences\",\"Marketing\",\"Medical\",\"Life Sciences\",\"Technical Degree\",\"Other\",\"Marketing\",\"Human Resources\",\"Medical\",\"Medical\",\"Marketing\",\"Medical\",\"Medical\",\"Medical\",\"Medical\",\"Life Sciences\",\"Life Sciences\",\"Life Sciences\",\"Marketing\",\"Marketing\",\"Medical\",\"Medical\",\"Marketing\",\"Medical\",\"Life Sciences\",\"Life Sciences\",\"Medical\",\"Life Sciences\",\"Other\",\"Life Sciences\",\"Life Sciences\",\"Life Sciences\",\"Marketing\",\"Technical Degree\",\"Life Sciences\",\"Life Sciences\",\"Marketing\",\"Life Sciences\",\"Life Sciences\",\"Medical\",\"Marketing\",\"Technical Degree\",\"Medical\",\"Life Sciences\",\"Life Sciences\",\"Marketing\",\"Medical\",\"Life Sciences\",\"Life Sciences\",\"Human Resources\",\"Life Sciences\",\"Medical\",\"Life Sciences\",\"Medical\",\"Life Sciences\",\"Life Sciences\",\"Medical\",\"Other\",\"Life Sciences\",\"Life Sciences\",\"Life Sciences\",\"Life Sciences\",\"Medical\",\"Medical\",\"Life Sciences\",\"Life Sciences\",\"Medical\",\"Other\",\"Technical Degree\",\"Life Sciences\",\"Life Sciences\",\"Other\",\"Medical\",\"Marketing\",\"Other\",\"Technical Degree\",\"Life Sciences\",\"Marketing\",\"Marketing\",\"Medical\",\"Medical\",\"Medical\",\"Other\",\"Technical Degree\",\"Medical\",\"Medical\",\"Medical\",\"Life Sciences\",\"Life Sciences\",\"Life Sciences\",\"Life Sciences\",\"Technical Degree\",\"Medical\",\"Life Sciences\",\"Technical Degree\",\"Medical\",\"Other\",\"Technical Degree\",\"Life Sciences\",\"Life Sciences\",\"Life Sciences\",\"Medical\",\"Technical Degree\",\"Medical\",\"Life Sciences\",\"Life Sciences\",\"Life Sciences\",\"Medical\",\"Medical\",\"Other\",\"Medical\",\"Technical Degree\",\"Life Sciences\",\"Life Sciences\",\"Life Sciences\",\"Life Sciences\",\"Medical\",\"Medical\",\"Medical\",\"Other\",\"Life Sciences\",\"Life Sciences\",\"Technical Degree\",\"Medical\",\"Life Sciences\",\"Medical\",\"Medical\",\"Medical\",\"Life Sciences\",\"Life Sciences\",\"Life Sciences\",\"Medical\",\"Life Sciences\",\"Life Sciences\",\"Other\",\"Marketing\",\"Life Sciences\",\"Life Sciences\",\"Medical\",\"Medical\",\"Life Sciences\",\"Life Sciences\",\"Medical\",\"Marketing\",\"Medical\",\"Life Sciences\",\"Life Sciences\",\"Medical\",\"Life Sciences\",\"Life Sciences\",\"Medical\",\"Marketing\",\"Technical Degree\",\"Medical\",\"Marketing\",\"Other\",\"Life Sciences\",\"Life Sciences\",\"Medical\",\"Other\",\"Medical\",\"Other\",\"Marketing\",\"Medical\",\"Medical\",\"Life Sciences\",\"Medical\",\"Medical\",\"Medical\",\"Medical\",\"Marketing\",\"Life Sciences\",\"Life Sciences\",\"Life Sciences\",\"Technical Degree\",\"Medical\",\"Other\",\"Technical Degree\",\"Life Sciences\",\"Technical Degree\",\"Life Sciences\",\"Life Sciences\",\"Other\",\"Medical\",\"Life Sciences\",\"Technical Degree\",\"Medical\",\"Life Sciences\",\"Life Sciences\",\"Life Sciences\",\"Technical Degree\",\"Medical\",\"Medical\",\"Medical\",\"Medical\",\"Other\",\"Life Sciences\",\"Life Sciences\",\"Medical\",\"Life Sciences\",\"Life Sciences\",\"Marketing\",\"Life Sciences\",\"Medical\",\"Marketing\",\"Marketing\",\"Life Sciences\",\"Life Sciences\",\"Medical\",\"Technical Degree\",\"Life Sciences\",\"Life Sciences\",\"Life Sciences\",\"Life Sciences\",\"Marketing\",\"Technical Degree\",\"Life Sciences\",\"Life Sciences\",\"Medical\",\"Medical\",\"Human Resources\",\"Life Sciences\",\"Medical\",\"Marketing\",\"Life Sciences\",\"Medical\",\"Medical\",\"Life Sciences\",\"Life Sciences\",\"Technical Degree\",\"Life Sciences\",\"Medical\",\"Life Sciences\",\"Marketing\",\"Medical\",\"Medical\",\"Life Sciences\",\"Medical\",\"Marketing\",\"Medical\",\"Life Sciences\",\"Medical\",\"Other\",\"Marketing\",\"Life Sciences\",\"Technical Degree\",\"Medical\",\"Life Sciences\",\"Medical\",\"Life Sciences\",\"Life Sciences\",\"Life Sciences\",\"Medical\",\"Life Sciences\",\"Life Sciences\",\"Marketing\",\"Life Sciences\",\"Human Resources\",\"Life Sciences\",\"Life Sciences\",\"Medical\",\"Medical\",\"Medical\",\"Life Sciences\",\"Life Sciences\",\"Life Sciences\",\"Medical\",\"Life Sciences\",\"Life Sciences\",\"Other\",\"Marketing\",\"Technical Degree\",\"Medical\",\"Marketing\",\"Other\",\"Life Sciences\",\"Technical Degree\",\"Medical\",\"Technical Degree\",\"Life Sciences\",\"Medical\",\"Medical\",\"Marketing\",\"Life Sciences\",\"Life Sciences\",\"Life Sciences\",\"Medical\",\"Life Sciences\",\"Life Sciences\",\"Medical\",\"Medical\",\"Life Sciences\",\"Life Sciences\",\"Medical\",\"Technical Degree\",\"Technical Degree\",\"Life Sciences\",\"Life Sciences\",\"Life Sciences\",\"Life Sciences\",\"Technical Degree\",\"Marketing\",\"Marketing\",\"Life Sciences\",\"Life Sciences\",\"Life Sciences\",\"Life Sciences\",\"Marketing\",\"Medical\",\"Life Sciences\",\"Marketing\",\"Marketing\",\"Life Sciences\",\"Medical\",\"Medical\",\"Medical\",\"Life Sciences\",\"Life Sciences\",\"Life Sciences\",\"Medical\",\"Marketing\",\"Life Sciences\",\"Medical\",\"Life Sciences\",\"Medical\",\"Medical\",\"Technical Degree\",\"Technical Degree\",\"Medical\",\"Medical\",\"Medical\",\"Medical\",\"Life Sciences\",\"Life Sciences\",\"Medical\",\"Technical Degree\",\"Technical Degree\",\"Life Sciences\",\"Life Sciences\",\"Life Sciences\",\"Marketing\",\"Life Sciences\",\"Medical\",\"Life Sciences\",\"Life Sciences\",\"Medical\",\"Life Sciences\",\"Life Sciences\",\"Life Sciences\",\"Medical\",\"Life Sciences\",\"Life Sciences\",\"Life Sciences\",\"Life Sciences\",\"Marketing\",\"Life Sciences\",\"Life Sciences\",\"Life Sciences\",\"Medical\",\"Medical\",\"Medical\",\"Life Sciences\",\"Marketing\",\"Life Sciences\",\"Medical\",\"Technical Degree\",\"Life Sciences\",\"Medical\",\"Life Sciences\",\"Marketing\",\"Life Sciences\",\"Technical Degree\",\"Medical\",\"Medical\",\"Life Sciences\",\"Marketing\",\"Life Sciences\",\"Technical Degree\",\"Life Sciences\",\"Medical\",\"Life Sciences\",\"Marketing\",\"Life Sciences\",\"Life Sciences\",\"Life Sciences\",\"Marketing\",\"Life Sciences\",\"Life Sciences\",\"Medical\",\"Medical\",\"Marketing\",\"Life Sciences\",\"Medical\",\"Human Resources\",\"Other\",\"Medical\",\"Life Sciences\",\"Technical Degree\",\"Other\",\"Other\",\"Life Sciences\",\"Other\",\"Medical\",\"Medical\",\"Medical\",\"Marketing\",\"Life Sciences\",\"Marketing\",\"Life Sciences\",\"Other\",\"Life Sciences\",\"Life Sciences\",\"Life Sciences\",\"Marketing\",\"Technical Degree\",\"Life Sciences\",\"Technical Degree\",\"Life Sciences\",\"Medical\",\"Medical\",\"Marketing\",\"Life Sciences\",\"Medical\",\"Other\",\"Life Sciences\",\"Marketing\",\"Life Sciences\",\"Life Sciences\",\"Medical\",\"Medical\",\"Life Sciences\",\"Technical Degree\",\"Marketing\",\"Technical Degree\",\"Medical\",\"Medical\",\"Life Sciences\",\"Medical\",\"Technical Degree\",\"Medical\",\"Life Sciences\",\"Medical\",\"Other\",\"Life Sciences\",\"Medical\",\"Marketing\",\"Technical Degree\",\"Life Sciences\",\"Life Sciences\",\"Medical\",\"Technical Degree\",\"Technical Degree\",\"Medical\",\"Life Sciences\",\"Medical\",\"Life Sciences\",\"Medical\",\"Life Sciences\",\"Life Sciences\",\"Life Sciences\",\"Medical\",\"Medical\",\"Medical\",\"Life Sciences\",\"Life Sciences\",\"Medical\",\"Life Sciences\",\"Life Sciences\",\"Life Sciences\",\"Medical\",\"Medical\",\"Technical Degree\",\"Life Sciences\",\"Life Sciences\",\"Life Sciences\",\"Life Sciences\",\"Life Sciences\",\"Life Sciences\",\"Technical Degree\",\"Life Sciences\",\"Medical\",\"Technical Degree\",\"Medical\",\"Medical\",\"Other\",\"Life Sciences\",\"Technical Degree\",\"Life Sciences\",\"Medical\",\"Life Sciences\",\"Medical\",\"Technical Degree\",\"Life Sciences\",\"Technical Degree\",\"Life Sciences\",\"Life Sciences\",\"Life Sciences\",\"Life Sciences\",\"Life Sciences\",\"Life Sciences\",\"Life Sciences\",\"Human Resources\",\"Medical\",\"Technical Degree\",\"Life Sciences\",\"Technical Degree\",\"Medical\",\"Technical Degree\",\"Other\",\"Medical\",\"Marketing\",\"Life Sciences\",\"Life Sciences\",\"Life Sciences\",\"Life Sciences\",\"Life Sciences\",\"Medical\",\"Medical\",\"Medical\",\"Life Sciences\",\"Marketing\",\"Technical Degree\",\"Life Sciences\",\"Other\",\"Life Sciences\",\"Technical Degree\",\"Life Sciences\",\"Technical Degree\",\"Life Sciences\",\"Life Sciences\",\"Medical\",\"Other\",\"Medical\",\"Other\",\"Medical\",\"Medical\",\"Medical\",\"Marketing\",\"Other\",\"Life Sciences\",\"Life Sciences\",\"Life Sciences\",\"Medical\",\"Other\",\"Life Sciences\",\"Medical\",\"Medical\",\"Medical\",\"Life Sciences\",\"Medical\",\"Life Sciences\",\"Life Sciences\",\"Life Sciences\",\"Medical\",\"Other\",\"Medical\",\"Medical\",\"Medical\",\"Life Sciences\",\"Human Resources\",\"Medical\",\"Medical\",\"Technical Degree\",\"Medical\",\"Medical\",\"Life Sciences\",\"Medical\",\"Life Sciences\",\"Life Sciences\",\"Medical\",\"Other\",\"Life Sciences\",\"Medical\",\"Life Sciences\",\"Life Sciences\",\"Life Sciences\",\"Medical\",\"Life Sciences\",\"Medical\",\"Life Sciences\",\"Other\",\"Life Sciences\",\"Medical\",\"Medical\",\"Medical\",\"Life Sciences\",\"Medical\",\"Medical\",\"Life Sciences\",\"Life Sciences\",\"Life Sciences\",\"Life Sciences\",\"Life Sciences\",\"Life Sciences\",\"Life Sciences\",\"Medical\",\"Medical\",\"Medical\",\"Medical\",\"Life Sciences\",\"Medical\",\"Technical Degree\",\"Medical\",\"Medical\",\"Medical\",\"Medical\",\"Life Sciences\",\"Life Sciences\",\"Life Sciences\",\"Medical\",\"Medical\",\"Medical\",\"Marketing\",\"Medical\",\"Life Sciences\",\"Life Sciences\",\"Human Resources\",\"Life Sciences\",\"Medical\",\"Technical Degree\",\"Life Sciences\",\"Life Sciences\",\"Human Resources\",\"Life Sciences\",\"Medical\",\"Life Sciences\",\"Life Sciences\",\"Life Sciences\",\"Marketing\",\"Life Sciences\",\"Marketing\",\"Life Sciences\",\"Medical\",\"Technical Degree\",\"Life Sciences\",\"Life Sciences\",\"Medical\",\"Life Sciences\",\"Technical Degree\",\"Medical\",\"Human Resources\",\"Technical Degree\",\"Medical\",\"Marketing\",\"Life Sciences\",\"Marketing\",\"Medical\",\"Marketing\",\"Marketing\",\"Life Sciences\",\"Medical\",\"Marketing\",\"Technical Degree\",\"Life Sciences\",\"Technical Degree\",\"Medical\",\"Technical Degree\",\"Medical\",\"Medical\",\"Technical Degree\",\"Life Sciences\",\"Life Sciences\",\"Medical\",\"Life Sciences\",\"Life Sciences\",\"Marketing\",\"Other\",\"Medical\",\"Marketing\",\"Technical Degree\",\"Marketing\",\"Medical\",\"Life Sciences\",\"Medical\",\"Other\",\"Life Sciences\",\"Life Sciences\",\"Life Sciences\",\"Medical\",\"Life Sciences\",\"Life Sciences\",\"Medical\",\"Medical\",\"Human Resources\",\"Life Sciences\",\"Medical\",\"Life Sciences\",\"Life Sciences\",\"Life Sciences\",\"Marketing\",\"Medical\",\"Medical\",\"Medical\",\"Life Sciences\",\"Technical Degree\",\"Medical\",\"Medical\",\"Life Sciences\",\"Life Sciences\",\"Medical\",\"Marketing\",\"Medical\",\"Marketing\",\"Medical\",\"Life Sciences\",\"Medical\",\"Human Resources\",\"Human Resources\",\"Life Sciences\",\"Other\",\"Life Sciences\",\"Life Sciences\",\"Medical\",\"Marketing\",\"Technical Degree\",\"Life Sciences\",\"Life Sciences\",\"Life Sciences\",\"Life Sciences\",\"Life Sciences\",\"Marketing\",\"Technical Degree\",\"Medical\",\"Medical\",\"Medical\",\"Life Sciences\",\"Life Sciences\",\"Life Sciences\",\"Life Sciences\",\"Other\",\"Technical Degree\",\"Medical\",\"Medical\",\"Life Sciences\",\"Technical Degree\",\"Life Sciences\",\"Life Sciences\",\"Life Sciences\",\"Medical\",\"Other\",\"Life Sciences\",\"Human Resources\",\"Life Sciences\",\"Life Sciences\",\"Medical\",\"Medical\",\"Life Sciences\",\"Technical Degree\",\"Life Sciences\",\"Marketing\",\"Marketing\",\"Medical\",\"Medical\",\"Medical\",\"Medical\",\"Other\",\"Medical\",\"Marketing\",\"Life Sciences\",\"Technical Degree\",\"Life Sciences\",\"Technical Degree\",\"Other\",\"Marketing\",\"Technical Degree\",\"Marketing\",\"Medical\",\"Medical\",\"Life Sciences\",\"Life Sciences\",\"Life Sciences\",\"Life Sciences\",\"Marketing\",\"Human Resources\",\"Medical\",\"Medical\",\"Medical\",\"Life Sciences\",\"Marketing\",\"Medical\",\"Medical\",\"Life Sciences\",\"Medical\",\"Life Sciences\",\"Technical Degree\",\"Life Sciences\",\"Life Sciences\",\"Marketing\",\"Life Sciences\",\"Marketing\",\"Life Sciences\",\"Life Sciences\",\"Life Sciences\",\"Life Sciences\",\"Other\",\"Human Resources\",\"Medical\",\"Marketing\",\"Life Sciences\",\"Medical\",\"Medical\",\"Life Sciences\",\"Other\",\"Technical Degree\",\"Marketing\",\"Human Resources\",\"Medical\",\"Other\",\"Medical\",\"Medical\",\"Life Sciences\",\"Life Sciences\",\"Life Sciences\",\"Life Sciences\",\"Life Sciences\",\"Medical\",\"Medical\",\"Life Sciences\",\"Medical\",\"Medical\",\"Life Sciences\",\"Life Sciences\",\"Medical\",\"Life Sciences\",\"Medical\",\"Marketing\",\"Life Sciences\",\"Other\",\"Life Sciences\",\"Medical\",\"Medical\",\"Life Sciences\",\"Marketing\",\"Medical\",\"Life Sciences\",\"Life Sciences\",\"Medical\",\"Life Sciences\",\"Technical Degree\",\"Life Sciences\",\"Marketing\",\"Marketing\",\"Life Sciences\",\"Technical Degree\",\"Life Sciences\",\"Life Sciences\",\"Life Sciences\",\"Marketing\",\"Life Sciences\",\"Life Sciences\",\"Life Sciences\",\"Medical\",\"Life Sciences\",\"Other\",\"Medical\",\"Marketing\",\"Marketing\",\"Medical\",\"Other\",\"Medical\",\"Medical\",\"Life Sciences\",\"Medical\",\"Medical\"],\"legendgroup\":\"\",\"name\":\"\",\"showlegend\":true,\"type\":\"pie\"}],                        {\"template\":{\"data\":{\"histogram2dcontour\":[{\"type\":\"histogram2dcontour\",\"colorbar\":{\"outlinewidth\":0,\"ticks\":\"\"},\"colorscale\":[[0.0,\"#0d0887\"],[0.1111111111111111,\"#46039f\"],[0.2222222222222222,\"#7201a8\"],[0.3333333333333333,\"#9c179e\"],[0.4444444444444444,\"#bd3786\"],[0.5555555555555556,\"#d8576b\"],[0.6666666666666666,\"#ed7953\"],[0.7777777777777778,\"#fb9f3a\"],[0.8888888888888888,\"#fdca26\"],[1.0,\"#f0f921\"]]}],\"choropleth\":[{\"type\":\"choropleth\",\"colorbar\":{\"outlinewidth\":0,\"ticks\":\"\"}}],\"histogram2d\":[{\"type\":\"histogram2d\",\"colorbar\":{\"outlinewidth\":0,\"ticks\":\"\"},\"colorscale\":[[0.0,\"#0d0887\"],[0.1111111111111111,\"#46039f\"],[0.2222222222222222,\"#7201a8\"],[0.3333333333333333,\"#9c179e\"],[0.4444444444444444,\"#bd3786\"],[0.5555555555555556,\"#d8576b\"],[0.6666666666666666,\"#ed7953\"],[0.7777777777777778,\"#fb9f3a\"],[0.8888888888888888,\"#fdca26\"],[1.0,\"#f0f921\"]]}],\"heatmap\":[{\"type\":\"heatmap\",\"colorbar\":{\"outlinewidth\":0,\"ticks\":\"\"},\"colorscale\":[[0.0,\"#0d0887\"],[0.1111111111111111,\"#46039f\"],[0.2222222222222222,\"#7201a8\"],[0.3333333333333333,\"#9c179e\"],[0.4444444444444444,\"#bd3786\"],[0.5555555555555556,\"#d8576b\"],[0.6666666666666666,\"#ed7953\"],[0.7777777777777778,\"#fb9f3a\"],[0.8888888888888888,\"#fdca26\"],[1.0,\"#f0f921\"]]}],\"heatmapgl\":[{\"type\":\"heatmapgl\",\"colorbar\":{\"outlinewidth\":0,\"ticks\":\"\"},\"colorscale\":[[0.0,\"#0d0887\"],[0.1111111111111111,\"#46039f\"],[0.2222222222222222,\"#7201a8\"],[0.3333333333333333,\"#9c179e\"],[0.4444444444444444,\"#bd3786\"],[0.5555555555555556,\"#d8576b\"],[0.6666666666666666,\"#ed7953\"],[0.7777777777777778,\"#fb9f3a\"],[0.8888888888888888,\"#fdca26\"],[1.0,\"#f0f921\"]]}],\"contourcarpet\":[{\"type\":\"contourcarpet\",\"colorbar\":{\"outlinewidth\":0,\"ticks\":\"\"}}],\"contour\":[{\"type\":\"contour\",\"colorbar\":{\"outlinewidth\":0,\"ticks\":\"\"},\"colorscale\":[[0.0,\"#0d0887\"],[0.1111111111111111,\"#46039f\"],[0.2222222222222222,\"#7201a8\"],[0.3333333333333333,\"#9c179e\"],[0.4444444444444444,\"#bd3786\"],[0.5555555555555556,\"#d8576b\"],[0.6666666666666666,\"#ed7953\"],[0.7777777777777778,\"#fb9f3a\"],[0.8888888888888888,\"#fdca26\"],[1.0,\"#f0f921\"]]}],\"surface\":[{\"type\":\"surface\",\"colorbar\":{\"outlinewidth\":0,\"ticks\":\"\"},\"colorscale\":[[0.0,\"#0d0887\"],[0.1111111111111111,\"#46039f\"],[0.2222222222222222,\"#7201a8\"],[0.3333333333333333,\"#9c179e\"],[0.4444444444444444,\"#bd3786\"],[0.5555555555555556,\"#d8576b\"],[0.6666666666666666,\"#ed7953\"],[0.7777777777777778,\"#fb9f3a\"],[0.8888888888888888,\"#fdca26\"],[1.0,\"#f0f921\"]]}],\"mesh3d\":[{\"type\":\"mesh3d\",\"colorbar\":{\"outlinewidth\":0,\"ticks\":\"\"}}],\"scatter\":[{\"fillpattern\":{\"fillmode\":\"overlay\",\"size\":10,\"solidity\":0.2},\"type\":\"scatter\"}],\"parcoords\":[{\"type\":\"parcoords\",\"line\":{\"colorbar\":{\"outlinewidth\":0,\"ticks\":\"\"}}}],\"scatterpolargl\":[{\"type\":\"scatterpolargl\",\"marker\":{\"colorbar\":{\"outlinewidth\":0,\"ticks\":\"\"}}}],\"bar\":[{\"error_x\":{\"color\":\"#2a3f5f\"},\"error_y\":{\"color\":\"#2a3f5f\"},\"marker\":{\"line\":{\"color\":\"#E5ECF6\",\"width\":0.5},\"pattern\":{\"fillmode\":\"overlay\",\"size\":10,\"solidity\":0.2}},\"type\":\"bar\"}],\"scattergeo\":[{\"type\":\"scattergeo\",\"marker\":{\"colorbar\":{\"outlinewidth\":0,\"ticks\":\"\"}}}],\"scatterpolar\":[{\"type\":\"scatterpolar\",\"marker\":{\"colorbar\":{\"outlinewidth\":0,\"ticks\":\"\"}}}],\"histogram\":[{\"marker\":{\"pattern\":{\"fillmode\":\"overlay\",\"size\":10,\"solidity\":0.2}},\"type\":\"histogram\"}],\"scattergl\":[{\"type\":\"scattergl\",\"marker\":{\"colorbar\":{\"outlinewidth\":0,\"ticks\":\"\"}}}],\"scatter3d\":[{\"type\":\"scatter3d\",\"line\":{\"colorbar\":{\"outlinewidth\":0,\"ticks\":\"\"}},\"marker\":{\"colorbar\":{\"outlinewidth\":0,\"ticks\":\"\"}}}],\"scattermapbox\":[{\"type\":\"scattermapbox\",\"marker\":{\"colorbar\":{\"outlinewidth\":0,\"ticks\":\"\"}}}],\"scatterternary\":[{\"type\":\"scatterternary\",\"marker\":{\"colorbar\":{\"outlinewidth\":0,\"ticks\":\"\"}}}],\"scattercarpet\":[{\"type\":\"scattercarpet\",\"marker\":{\"colorbar\":{\"outlinewidth\":0,\"ticks\":\"\"}}}],\"carpet\":[{\"aaxis\":{\"endlinecolor\":\"#2a3f5f\",\"gridcolor\":\"white\",\"linecolor\":\"white\",\"minorgridcolor\":\"white\",\"startlinecolor\":\"#2a3f5f\"},\"baxis\":{\"endlinecolor\":\"#2a3f5f\",\"gridcolor\":\"white\",\"linecolor\":\"white\",\"minorgridcolor\":\"white\",\"startlinecolor\":\"#2a3f5f\"},\"type\":\"carpet\"}],\"table\":[{\"cells\":{\"fill\":{\"color\":\"#EBF0F8\"},\"line\":{\"color\":\"white\"}},\"header\":{\"fill\":{\"color\":\"#C8D4E3\"},\"line\":{\"color\":\"white\"}},\"type\":\"table\"}],\"barpolar\":[{\"marker\":{\"line\":{\"color\":\"#E5ECF6\",\"width\":0.5},\"pattern\":{\"fillmode\":\"overlay\",\"size\":10,\"solidity\":0.2}},\"type\":\"barpolar\"}],\"pie\":[{\"automargin\":true,\"type\":\"pie\"}]},\"layout\":{\"autotypenumbers\":\"strict\",\"colorway\":[\"#636efa\",\"#EF553B\",\"#00cc96\",\"#ab63fa\",\"#FFA15A\",\"#19d3f3\",\"#FF6692\",\"#B6E880\",\"#FF97FF\",\"#FECB52\"],\"font\":{\"color\":\"#2a3f5f\"},\"hovermode\":\"closest\",\"hoverlabel\":{\"align\":\"left\"},\"paper_bgcolor\":\"white\",\"plot_bgcolor\":\"#E5ECF6\",\"polar\":{\"bgcolor\":\"#E5ECF6\",\"angularaxis\":{\"gridcolor\":\"white\",\"linecolor\":\"white\",\"ticks\":\"\"},\"radialaxis\":{\"gridcolor\":\"white\",\"linecolor\":\"white\",\"ticks\":\"\"}},\"ternary\":{\"bgcolor\":\"#E5ECF6\",\"aaxis\":{\"gridcolor\":\"white\",\"linecolor\":\"white\",\"ticks\":\"\"},\"baxis\":{\"gridcolor\":\"white\",\"linecolor\":\"white\",\"ticks\":\"\"},\"caxis\":{\"gridcolor\":\"white\",\"linecolor\":\"white\",\"ticks\":\"\"}},\"coloraxis\":{\"colorbar\":{\"outlinewidth\":0,\"ticks\":\"\"}},\"colorscale\":{\"sequential\":[[0.0,\"#0d0887\"],[0.1111111111111111,\"#46039f\"],[0.2222222222222222,\"#7201a8\"],[0.3333333333333333,\"#9c179e\"],[0.4444444444444444,\"#bd3786\"],[0.5555555555555556,\"#d8576b\"],[0.6666666666666666,\"#ed7953\"],[0.7777777777777778,\"#fb9f3a\"],[0.8888888888888888,\"#fdca26\"],[1.0,\"#f0f921\"]],\"sequentialminus\":[[0.0,\"#0d0887\"],[0.1111111111111111,\"#46039f\"],[0.2222222222222222,\"#7201a8\"],[0.3333333333333333,\"#9c179e\"],[0.4444444444444444,\"#bd3786\"],[0.5555555555555556,\"#d8576b\"],[0.6666666666666666,\"#ed7953\"],[0.7777777777777778,\"#fb9f3a\"],[0.8888888888888888,\"#fdca26\"],[1.0,\"#f0f921\"]],\"diverging\":[[0,\"#8e0152\"],[0.1,\"#c51b7d\"],[0.2,\"#de77ae\"],[0.3,\"#f1b6da\"],[0.4,\"#fde0ef\"],[0.5,\"#f7f7f7\"],[0.6,\"#e6f5d0\"],[0.7,\"#b8e186\"],[0.8,\"#7fbc41\"],[0.9,\"#4d9221\"],[1,\"#276419\"]]},\"xaxis\":{\"gridcolor\":\"white\",\"linecolor\":\"white\",\"ticks\":\"\",\"title\":{\"standoff\":15},\"zerolinecolor\":\"white\",\"automargin\":true,\"zerolinewidth\":2},\"yaxis\":{\"gridcolor\":\"white\",\"linecolor\":\"white\",\"ticks\":\"\",\"title\":{\"standoff\":15},\"zerolinecolor\":\"white\",\"automargin\":true,\"zerolinewidth\":2},\"scene\":{\"xaxis\":{\"backgroundcolor\":\"#E5ECF6\",\"gridcolor\":\"white\",\"linecolor\":\"white\",\"showbackground\":true,\"ticks\":\"\",\"zerolinecolor\":\"white\",\"gridwidth\":2},\"yaxis\":{\"backgroundcolor\":\"#E5ECF6\",\"gridcolor\":\"white\",\"linecolor\":\"white\",\"showbackground\":true,\"ticks\":\"\",\"zerolinecolor\":\"white\",\"gridwidth\":2},\"zaxis\":{\"backgroundcolor\":\"#E5ECF6\",\"gridcolor\":\"white\",\"linecolor\":\"white\",\"showbackground\":true,\"ticks\":\"\",\"zerolinecolor\":\"white\",\"gridwidth\":2}},\"shapedefaults\":{\"line\":{\"color\":\"#2a3f5f\"}},\"annotationdefaults\":{\"arrowcolor\":\"#2a3f5f\",\"arrowhead\":0,\"arrowwidth\":1},\"geo\":{\"bgcolor\":\"white\",\"landcolor\":\"#E5ECF6\",\"subunitcolor\":\"white\",\"showland\":true,\"showlakes\":true,\"lakecolor\":\"white\"},\"title\":{\"x\":0.05},\"mapbox\":{\"style\":\"light\"}}},\"legend\":{\"tracegroupgap\":0},\"title\":{\"text\":\"Total Number of people by EducationField\"}},                        {\"responsive\": true}                    ).then(function(){\n",
              "                            \n",
              "var gd = document.getElementById('c3ff8682-4a83-4f4d-bec5-9d5262fd6e22');\n",
              "var x = new MutationObserver(function (mutations, observer) {{\n",
              "        var display = window.getComputedStyle(gd).display;\n",
              "        if (!display || display === 'none') {{\n",
              "            console.log([gd, 'removed!']);\n",
              "            Plotly.purge(gd);\n",
              "            observer.disconnect();\n",
              "        }}\n",
              "}});\n",
              "\n",
              "// Listen for the removal of the full notebook cells\n",
              "var notebookContainer = gd.closest('#notebook-container');\n",
              "if (notebookContainer) {{\n",
              "    x.observe(notebookContainer, {childList: true});\n",
              "}}\n",
              "\n",
              "// Listen for the clearing of the current output cell\n",
              "var outputEl = gd.closest('.output');\n",
              "if (outputEl) {{\n",
              "    x.observe(outputEl, {childList: true});\n",
              "}}\n",
              "\n",
              "                        })                };                            </script>        </div>\n",
              "</body>\n",
              "</html>"
            ]
          },
          "metadata": {}
        }
      ]
    },
    {
      "cell_type": "code",
      "source": [
        "Types_Of_EnvironmentSatisfaction_counts = HRAnalytics['EnvironmentSatisfaction'].value_counts()\n",
        "print('Number of people_by_EnvironmentSatisfaction:\\n',Types_Of_EnvironmentSatisfaction_counts)\n",
        "#here EnvironmentSatisfaction is in number format\n",
        "#1: Low satisfaction\n",
        "#2: Medium-Low satisfaction\n",
        "#3: Medium-High satisfaction\n",
        "#4: High satisfaction"
      ],
      "metadata": {
        "colab": {
          "base_uri": "https://localhost:8080/"
        },
        "id": "Zqf7CcnJC12f",
        "outputId": "ccad418b-800b-4644-c57d-b5c6c51fde47"
      },
      "execution_count": 23,
      "outputs": [
        {
          "output_type": "stream",
          "name": "stdout",
          "text": [
            "Number of people_by_EnvironmentSatisfaction:\n",
            " 3    453\n",
            "4    446\n",
            "2    287\n",
            "1    284\n",
            "Name: EnvironmentSatisfaction, dtype: int64\n"
          ]
        }
      ]
    },
    {
      "cell_type": "code",
      "source": [
        "Types_Of_Gender_counts = HRAnalytics['Gender'].value_counts()\n",
        "print('Number of people by Gender:\\n',Types_Of_Gender_counts)"
      ],
      "metadata": {
        "colab": {
          "base_uri": "https://localhost:8080/"
        },
        "id": "_Spa8asWDJTd",
        "outputId": "b40bb29b-1618-4f17-c551-35a34976eb48"
      },
      "execution_count": 24,
      "outputs": [
        {
          "output_type": "stream",
          "name": "stdout",
          "text": [
            "Number of people by Gender:\n",
            " Male      882\n",
            "Female    588\n",
            "Name: Gender, dtype: int64\n"
          ]
        }
      ]
    },
    {
      "cell_type": "code",
      "source": [
        "fig = px.pie(HRAnalytics,names='Gender',title='Total Number of people by Gender')\n",
        "fig.show()"
      ],
      "metadata": {
        "colab": {
          "base_uri": "https://localhost:8080/",
          "height": 542
        },
        "id": "BN0FZPz8QYuf",
        "outputId": "241eede4-94dc-4721-ffd5-316c271c04dd"
      },
      "execution_count": 25,
      "outputs": [
        {
          "output_type": "display_data",
          "data": {
            "text/html": [
              "<html>\n",
              "<head><meta charset=\"utf-8\" /></head>\n",
              "<body>\n",
              "    <div>            <script src=\"https://cdnjs.cloudflare.com/ajax/libs/mathjax/2.7.5/MathJax.js?config=TeX-AMS-MML_SVG\"></script><script type=\"text/javascript\">if (window.MathJax && window.MathJax.Hub && window.MathJax.Hub.Config) {window.MathJax.Hub.Config({SVG: {font: \"STIX-Web\"}});}</script>                <script type=\"text/javascript\">window.PlotlyConfig = {MathJaxConfig: 'local'};</script>\n",
              "        <script charset=\"utf-8\" src=\"https://cdn.plot.ly/plotly-2.24.1.min.js\"></script>                <div id=\"6f94601e-3f84-455e-af9c-80129fbf74e6\" class=\"plotly-graph-div\" style=\"height:525px; width:100%;\"></div>            <script type=\"text/javascript\">                                    window.PLOTLYENV=window.PLOTLYENV || {};                                    if (document.getElementById(\"6f94601e-3f84-455e-af9c-80129fbf74e6\")) {                    Plotly.newPlot(                        \"6f94601e-3f84-455e-af9c-80129fbf74e6\",                        [{\"domain\":{\"x\":[0.0,1.0],\"y\":[0.0,1.0]},\"hovertemplate\":\"Gender=%{label}\\u003cextra\\u003e\\u003c\\u002fextra\\u003e\",\"labels\":[\"Female\",\"Male\",\"Male\",\"Female\",\"Male\",\"Male\",\"Female\",\"Male\",\"Male\",\"Male\",\"Male\",\"Female\",\"Male\",\"Male\",\"Male\",\"Female\",\"Male\",\"Male\",\"Female\",\"Male\",\"Female\",\"Male\",\"Female\",\"Male\",\"Male\",\"Female\",\"Female\",\"Male\",\"Female\",\"Female\",\"Male\",\"Male\",\"Male\",\"Male\",\"Male\",\"Female\",\"Male\",\"Female\",\"Female\",\"Female\",\"Male\",\"Female\",\"Male\",\"Male\",\"Female\",\"Female\",\"Male\",\"Male\",\"Male\",\"Male\",\"Male\",\"Male\",\"Female\",\"Male\",\"Female\",\"Female\",\"Male\",\"Female\",\"Male\",\"Male\",\"Male\",\"Female\",\"Female\",\"Female\",\"Female\",\"Female\",\"Male\",\"Male\",\"Male\",\"Male\",\"Female\",\"Male\",\"Male\",\"Male\",\"Female\",\"Female\",\"Male\",\"Male\",\"Male\",\"Male\",\"Male\",\"Male\",\"Male\",\"Female\",\"Male\",\"Male\",\"Male\",\"Male\",\"Male\",\"Male\",\"Male\",\"Male\",\"Female\",\"Male\",\"Male\",\"Female\",\"Female\",\"Male\",\"Male\",\"Male\",\"Male\",\"Male\",\"Female\",\"Female\",\"Male\",\"Female\",\"Female\",\"Male\",\"Male\",\"Female\",\"Female\",\"Male\",\"Female\",\"Male\",\"Female\",\"Male\",\"Female\",\"Female\",\"Female\",\"Male\",\"Male\",\"Male\",\"Female\",\"Male\",\"Male\",\"Female\",\"Female\",\"Male\",\"Male\",\"Female\",\"Female\",\"Female\",\"Female\",\"Male\",\"Female\",\"Male\",\"Male\",\"Female\",\"Male\",\"Male\",\"Female\",\"Male\",\"Female\",\"Female\",\"Male\",\"Female\",\"Male\",\"Male\",\"Male\",\"Female\",\"Female\",\"Male\",\"Male\",\"Male\",\"Female\",\"Male\",\"Male\",\"Female\",\"Male\",\"Female\",\"Male\",\"Male\",\"Male\",\"Male\",\"Male\",\"Female\",\"Male\",\"Female\",\"Female\",\"Male\",\"Male\",\"Female\",\"Male\",\"Male\",\"Female\",\"Female\",\"Male\",\"Male\",\"Female\",\"Female\",\"Female\",\"Female\",\"Female\",\"Male\",\"Female\",\"Female\",\"Female\",\"Male\",\"Male\",\"Female\",\"Male\",\"Female\",\"Male\",\"Male\",\"Male\",\"Male\",\"Female\",\"Female\",\"Male\",\"Male\",\"Male\",\"Male\",\"Male\",\"Male\",\"Male\",\"Female\",\"Male\",\"Female\",\"Male\",\"Male\",\"Male\",\"Male\",\"Female\",\"Male\",\"Female\",\"Female\",\"Female\",\"Male\",\"Female\",\"Female\",\"Male\",\"Female\",\"Male\",\"Male\",\"Male\",\"Male\",\"Male\",\"Female\",\"Female\",\"Male\",\"Female\",\"Male\",\"Male\",\"Female\",\"Male\",\"Female\",\"Female\",\"Male\",\"Female\",\"Male\",\"Female\",\"Male\",\"Male\",\"Male\",\"Male\",\"Male\",\"Female\",\"Male\",\"Female\",\"Male\",\"Male\",\"Female\",\"Male\",\"Female\",\"Male\",\"Female\",\"Female\",\"Male\",\"Male\",\"Male\",\"Male\",\"Male\",\"Male\",\"Female\",\"Male\",\"Male\",\"Male\",\"Male\",\"Male\",\"Male\",\"Male\",\"Male\",\"Male\",\"Male\",\"Male\",\"Female\",\"Female\",\"Female\",\"Female\",\"Male\",\"Male\",\"Male\",\"Male\",\"Male\",\"Male\",\"Female\",\"Male\",\"Male\",\"Male\",\"Female\",\"Female\",\"Male\",\"Female\",\"Male\",\"Male\",\"Female\",\"Male\",\"Male\",\"Male\",\"Male\",\"Male\",\"Female\",\"Male\",\"Male\",\"Male\",\"Female\",\"Male\",\"Female\",\"Male\",\"Male\",\"Male\",\"Male\",\"Male\",\"Female\",\"Male\",\"Female\",\"Female\",\"Male\",\"Female\",\"Female\",\"Male\",\"Male\",\"Female\",\"Male\",\"Female\",\"Female\",\"Male\",\"Female\",\"Male\",\"Male\",\"Female\",\"Male\",\"Female\",\"Female\",\"Male\",\"Male\",\"Male\",\"Male\",\"Female\",\"Female\",\"Male\",\"Male\",\"Female\",\"Female\",\"Male\",\"Male\",\"Male\",\"Male\",\"Female\",\"Male\",\"Male\",\"Female\",\"Female\",\"Male\",\"Female\",\"Male\",\"Male\",\"Female\",\"Female\",\"Male\",\"Male\",\"Female\",\"Male\",\"Female\",\"Female\",\"Female\",\"Male\",\"Male\",\"Male\",\"Male\",\"Female\",\"Male\",\"Male\",\"Male\",\"Male\",\"Male\",\"Female\",\"Female\",\"Male\",\"Female\",\"Female\",\"Male\",\"Male\",\"Female\",\"Male\",\"Male\",\"Female\",\"Female\",\"Female\",\"Male\",\"Male\",\"Female\",\"Male\",\"Female\",\"Female\",\"Male\",\"Female\",\"Female\",\"Female\",\"Male\",\"Male\",\"Female\",\"Female\",\"Male\",\"Male\",\"Male\",\"Male\",\"Male\",\"Female\",\"Female\",\"Female\",\"Female\",\"Female\",\"Female\",\"Female\",\"Female\",\"Male\",\"Female\",\"Female\",\"Male\",\"Male\",\"Female\",\"Male\",\"Female\",\"Male\",\"Male\",\"Female\",\"Female\",\"Female\",\"Male\",\"Male\",\"Female\",\"Male\",\"Female\",\"Male\",\"Male\",\"Male\",\"Male\",\"Male\",\"Male\",\"Female\",\"Male\",\"Male\",\"Male\",\"Female\",\"Female\",\"Male\",\"Male\",\"Female\",\"Female\",\"Male\",\"Male\",\"Male\",\"Female\",\"Male\",\"Female\",\"Male\",\"Male\",\"Male\",\"Female\",\"Male\",\"Female\",\"Male\",\"Male\",\"Female\",\"Female\",\"Female\",\"Male\",\"Male\",\"Male\",\"Male\",\"Female\",\"Female\",\"Male\",\"Male\",\"Male\",\"Male\",\"Male\",\"Male\",\"Female\",\"Male\",\"Male\",\"Male\",\"Male\",\"Male\",\"Female\",\"Male\",\"Female\",\"Female\",\"Male\",\"Female\",\"Male\",\"Female\",\"Female\",\"Female\",\"Male\",\"Male\",\"Male\",\"Male\",\"Male\",\"Female\",\"Female\",\"Female\",\"Male\",\"Female\",\"Female\",\"Male\",\"Female\",\"Male\",\"Male\",\"Male\",\"Male\",\"Male\",\"Male\",\"Male\",\"Male\",\"Male\",\"Male\",\"Female\",\"Male\",\"Male\",\"Female\",\"Male\",\"Male\",\"Female\",\"Female\",\"Female\",\"Male\",\"Male\",\"Female\",\"Female\",\"Female\",\"Male\",\"Male\",\"Male\",\"Male\",\"Male\",\"Male\",\"Male\",\"Male\",\"Female\",\"Female\",\"Female\",\"Male\",\"Female\",\"Male\",\"Male\",\"Male\",\"Male\",\"Female\",\"Male\",\"Female\",\"Male\",\"Female\",\"Female\",\"Male\",\"Male\",\"Female\",\"Male\",\"Male\",\"Female\",\"Male\",\"Male\",\"Female\",\"Male\",\"Male\",\"Female\",\"Male\",\"Male\",\"Male\",\"Male\",\"Female\",\"Female\",\"Male\",\"Female\",\"Female\",\"Male\",\"Female\",\"Female\",\"Female\",\"Female\",\"Male\",\"Female\",\"Female\",\"Male\",\"Male\",\"Male\",\"Female\",\"Male\",\"Female\",\"Male\",\"Female\",\"Female\",\"Female\",\"Male\",\"Male\",\"Female\",\"Female\",\"Male\",\"Male\",\"Female\",\"Male\",\"Female\",\"Female\",\"Male\",\"Male\",\"Female\",\"Female\",\"Male\",\"Male\",\"Male\",\"Male\",\"Female\",\"Male\",\"Female\",\"Male\",\"Female\",\"Male\",\"Male\",\"Male\",\"Female\",\"Male\",\"Male\",\"Male\",\"Female\",\"Male\",\"Female\",\"Female\",\"Male\",\"Male\",\"Male\",\"Male\",\"Male\",\"Male\",\"Male\",\"Female\",\"Female\",\"Male\",\"Male\",\"Female\",\"Male\",\"Male\",\"Male\",\"Female\",\"Male\",\"Female\",\"Male\",\"Male\",\"Female\",\"Female\",\"Female\",\"Female\",\"Male\",\"Male\",\"Female\",\"Male\",\"Male\",\"Female\",\"Male\",\"Male\",\"Male\",\"Female\",\"Female\",\"Female\",\"Male\",\"Female\",\"Female\",\"Female\",\"Female\",\"Male\",\"Female\",\"Male\",\"Female\",\"Male\",\"Female\",\"Male\",\"Female\",\"Female\",\"Male\",\"Female\",\"Male\",\"Female\",\"Female\",\"Male\",\"Male\",\"Male\",\"Male\",\"Male\",\"Male\",\"Male\",\"Female\",\"Male\",\"Female\",\"Male\",\"Female\",\"Male\",\"Male\",\"Female\",\"Female\",\"Male\",\"Male\",\"Male\",\"Male\",\"Female\",\"Male\",\"Male\",\"Female\",\"Male\",\"Male\",\"Male\",\"Male\",\"Female\",\"Female\",\"Female\",\"Male\",\"Female\",\"Male\",\"Female\",\"Male\",\"Female\",\"Female\",\"Male\",\"Male\",\"Male\",\"Female\",\"Male\",\"Female\",\"Male\",\"Female\",\"Female\",\"Female\",\"Female\",\"Female\",\"Male\",\"Male\",\"Male\",\"Male\",\"Female\",\"Female\",\"Female\",\"Male\",\"Male\",\"Male\",\"Female\",\"Female\",\"Male\",\"Female\",\"Male\",\"Male\",\"Female\",\"Female\",\"Female\",\"Female\",\"Female\",\"Female\",\"Female\",\"Female\",\"Male\",\"Male\",\"Male\",\"Female\",\"Male\",\"Male\",\"Female\",\"Male\",\"Male\",\"Male\",\"Female\",\"Male\",\"Female\",\"Male\",\"Female\",\"Female\",\"Female\",\"Male\",\"Male\",\"Female\",\"Female\",\"Female\",\"Male\",\"Male\",\"Male\",\"Male\",\"Female\",\"Female\",\"Male\",\"Male\",\"Male\",\"Female\",\"Male\",\"Male\",\"Male\",\"Female\",\"Male\",\"Male\",\"Female\",\"Male\",\"Male\",\"Male\",\"Male\",\"Male\",\"Male\",\"Female\",\"Male\",\"Male\",\"Female\",\"Male\",\"Male\",\"Female\",\"Female\",\"Male\",\"Male\",\"Female\",\"Male\",\"Male\",\"Female\",\"Male\",\"Male\",\"Male\",\"Male\",\"Male\",\"Male\",\"Male\",\"Female\",\"Male\",\"Male\",\"Male\",\"Male\",\"Male\",\"Female\",\"Male\",\"Male\",\"Female\",\"Male\",\"Female\",\"Male\",\"Female\",\"Female\",\"Male\",\"Male\",\"Male\",\"Male\",\"Female\",\"Male\",\"Male\",\"Female\",\"Male\",\"Male\",\"Male\",\"Female\",\"Female\",\"Female\",\"Female\",\"Male\",\"Female\",\"Female\",\"Male\",\"Male\",\"Female\",\"Female\",\"Male\",\"Female\",\"Male\",\"Male\",\"Male\",\"Male\",\"Male\",\"Female\",\"Male\",\"Male\",\"Male\",\"Female\",\"Female\",\"Male\",\"Male\",\"Male\",\"Male\",\"Male\",\"Male\",\"Male\",\"Female\",\"Female\",\"Female\",\"Male\",\"Female\",\"Male\",\"Male\",\"Female\",\"Female\",\"Male\",\"Female\",\"Female\",\"Female\",\"Female\",\"Male\",\"Male\",\"Female\",\"Female\",\"Male\",\"Male\",\"Male\",\"Male\",\"Male\",\"Male\",\"Male\",\"Female\",\"Female\",\"Male\",\"Male\",\"Female\",\"Male\",\"Male\",\"Male\",\"Female\",\"Male\",\"Female\",\"Female\",\"Female\",\"Male\",\"Male\",\"Female\",\"Male\",\"Male\",\"Male\",\"Male\",\"Female\",\"Female\",\"Female\",\"Female\",\"Male\",\"Female\",\"Female\",\"Female\",\"Male\",\"Female\",\"Male\",\"Female\",\"Female\",\"Male\",\"Male\",\"Male\",\"Female\",\"Female\",\"Female\",\"Female\",\"Female\",\"Male\",\"Male\",\"Female\",\"Male\",\"Female\",\"Male\",\"Female\",\"Male\",\"Male\",\"Female\",\"Male\",\"Male\",\"Male\",\"Male\",\"Female\",\"Male\",\"Male\",\"Female\",\"Female\",\"Male\",\"Female\",\"Male\",\"Female\",\"Male\",\"Female\",\"Female\",\"Female\",\"Female\",\"Male\",\"Male\",\"Male\",\"Female\",\"Female\",\"Male\",\"Female\",\"Female\",\"Male\",\"Female\",\"Male\",\"Male\",\"Male\",\"Male\",\"Female\",\"Male\",\"Male\",\"Male\",\"Male\",\"Male\",\"Female\",\"Female\",\"Female\",\"Female\",\"Male\",\"Female\",\"Female\",\"Female\",\"Male\",\"Male\",\"Male\",\"Male\",\"Male\",\"Female\",\"Female\",\"Female\",\"Male\",\"Female\",\"Female\",\"Female\",\"Female\",\"Male\",\"Female\",\"Male\",\"Male\",\"Female\",\"Male\",\"Male\",\"Male\",\"Female\",\"Female\",\"Female\",\"Male\",\"Female\",\"Male\",\"Male\",\"Male\",\"Male\",\"Female\",\"Female\",\"Male\",\"Female\",\"Male\",\"Male\",\"Male\",\"Female\",\"Male\",\"Male\",\"Male\",\"Male\",\"Male\",\"Male\",\"Male\",\"Male\",\"Male\",\"Male\",\"Female\",\"Female\",\"Male\",\"Male\",\"Male\",\"Male\",\"Male\",\"Female\",\"Female\",\"Male\",\"Male\",\"Female\",\"Male\",\"Male\",\"Male\",\"Male\",\"Female\",\"Female\",\"Male\",\"Male\",\"Male\",\"Female\",\"Female\",\"Male\",\"Male\",\"Male\",\"Female\",\"Male\",\"Male\",\"Female\",\"Female\",\"Female\",\"Male\",\"Male\",\"Male\",\"Female\",\"Male\",\"Male\",\"Male\",\"Male\",\"Female\",\"Male\",\"Male\",\"Male\",\"Male\",\"Male\",\"Male\",\"Male\",\"Male\",\"Male\",\"Female\",\"Female\",\"Male\",\"Female\",\"Male\",\"Male\",\"Male\",\"Male\",\"Male\",\"Male\",\"Female\",\"Female\",\"Male\",\"Male\",\"Female\",\"Male\",\"Male\",\"Male\",\"Female\",\"Male\",\"Female\",\"Female\",\"Male\",\"Female\",\"Male\",\"Male\",\"Male\",\"Male\",\"Male\",\"Male\",\"Male\",\"Male\",\"Female\",\"Male\",\"Male\",\"Male\",\"Male\",\"Female\",\"Male\",\"Female\",\"Female\",\"Male\",\"Female\",\"Male\",\"Male\",\"Female\",\"Male\",\"Female\",\"Male\",\"Male\",\"Male\",\"Female\",\"Male\",\"Female\",\"Female\",\"Male\",\"Female\",\"Female\",\"Male\",\"Female\",\"Female\",\"Female\",\"Male\",\"Female\",\"Female\",\"Male\",\"Male\",\"Male\",\"Female\",\"Female\",\"Male\",\"Male\",\"Male\",\"Female\",\"Male\",\"Male\",\"Female\",\"Female\",\"Female\",\"Female\",\"Male\",\"Female\",\"Female\",\"Male\",\"Female\",\"Male\",\"Male\",\"Male\",\"Male\",\"Male\",\"Male\",\"Female\",\"Female\",\"Female\",\"Female\",\"Male\",\"Male\",\"Male\",\"Female\",\"Male\",\"Female\",\"Male\",\"Female\",\"Male\",\"Female\",\"Male\",\"Male\",\"Male\",\"Male\",\"Male\",\"Male\",\"Male\",\"Female\",\"Male\",\"Female\",\"Male\",\"Male\",\"Male\",\"Male\",\"Female\",\"Female\",\"Male\",\"Male\",\"Male\",\"Male\",\"Female\",\"Male\",\"Male\",\"Male\",\"Female\",\"Male\",\"Male\",\"Male\",\"Male\",\"Male\",\"Male\",\"Male\",\"Male\",\"Female\",\"Female\",\"Male\",\"Male\",\"Male\",\"Female\",\"Female\",\"Male\",\"Female\",\"Male\",\"Female\",\"Female\",\"Male\",\"Male\",\"Male\",\"Female\",\"Female\",\"Female\",\"Female\",\"Male\",\"Female\",\"Male\",\"Male\",\"Male\",\"Male\",\"Male\",\"Male\",\"Male\",\"Male\",\"Male\",\"Female\",\"Male\",\"Female\",\"Male\",\"Female\",\"Female\",\"Female\",\"Female\",\"Male\",\"Male\",\"Male\",\"Male\",\"Male\",\"Male\",\"Male\",\"Male\",\"Male\",\"Male\",\"Female\",\"Male\",\"Male\",\"Male\",\"Male\",\"Male\",\"Male\",\"Male\",\"Male\",\"Female\",\"Female\",\"Female\",\"Female\",\"Female\",\"Male\",\"Male\",\"Male\",\"Female\",\"Female\",\"Female\",\"Female\",\"Female\",\"Female\",\"Male\",\"Male\",\"Female\",\"Male\",\"Male\",\"Female\",\"Female\",\"Male\",\"Female\",\"Male\",\"Male\",\"Male\",\"Female\",\"Male\",\"Male\",\"Male\",\"Male\",\"Male\",\"Female\",\"Female\",\"Male\",\"Female\",\"Male\",\"Male\",\"Female\",\"Female\",\"Male\",\"Male\",\"Female\",\"Male\",\"Male\",\"Female\",\"Male\",\"Male\",\"Male\",\"Male\",\"Female\",\"Female\",\"Male\",\"Male\",\"Female\",\"Female\",\"Female\",\"Male\",\"Male\",\"Male\",\"Male\",\"Female\",\"Male\",\"Female\",\"Female\",\"Female\",\"Male\",\"Male\",\"Male\",\"Male\",\"Male\",\"Female\",\"Male\",\"Male\",\"Female\",\"Male\",\"Female\",\"Male\",\"Female\",\"Female\",\"Female\",\"Male\",\"Male\",\"Male\",\"Female\",\"Male\",\"Male\",\"Male\",\"Male\",\"Male\",\"Male\",\"Male\",\"Male\",\"Female\",\"Male\",\"Male\",\"Male\",\"Female\",\"Male\",\"Male\",\"Male\",\"Male\",\"Female\",\"Male\",\"Male\",\"Male\",\"Male\",\"Female\",\"Male\",\"Male\",\"Female\",\"Female\",\"Male\",\"Male\",\"Female\",\"Female\",\"Female\",\"Male\",\"Male\",\"Male\",\"Male\",\"Male\",\"Male\",\"Male\",\"Male\",\"Male\",\"Female\",\"Male\",\"Male\",\"Male\",\"Female\",\"Female\",\"Male\",\"Male\",\"Male\",\"Female\",\"Female\",\"Female\",\"Female\",\"Male\",\"Male\",\"Male\",\"Male\",\"Male\",\"Female\",\"Female\",\"Male\",\"Male\",\"Male\",\"Male\",\"Female\",\"Female\",\"Male\",\"Male\",\"Male\",\"Female\",\"Female\",\"Male\",\"Female\",\"Female\",\"Male\",\"Male\",\"Female\",\"Female\",\"Male\",\"Female\",\"Male\",\"Female\",\"Male\",\"Female\",\"Male\",\"Male\",\"Male\",\"Male\",\"Male\"],\"legendgroup\":\"\",\"name\":\"\",\"showlegend\":true,\"type\":\"pie\"}],                        {\"template\":{\"data\":{\"histogram2dcontour\":[{\"type\":\"histogram2dcontour\",\"colorbar\":{\"outlinewidth\":0,\"ticks\":\"\"},\"colorscale\":[[0.0,\"#0d0887\"],[0.1111111111111111,\"#46039f\"],[0.2222222222222222,\"#7201a8\"],[0.3333333333333333,\"#9c179e\"],[0.4444444444444444,\"#bd3786\"],[0.5555555555555556,\"#d8576b\"],[0.6666666666666666,\"#ed7953\"],[0.7777777777777778,\"#fb9f3a\"],[0.8888888888888888,\"#fdca26\"],[1.0,\"#f0f921\"]]}],\"choropleth\":[{\"type\":\"choropleth\",\"colorbar\":{\"outlinewidth\":0,\"ticks\":\"\"}}],\"histogram2d\":[{\"type\":\"histogram2d\",\"colorbar\":{\"outlinewidth\":0,\"ticks\":\"\"},\"colorscale\":[[0.0,\"#0d0887\"],[0.1111111111111111,\"#46039f\"],[0.2222222222222222,\"#7201a8\"],[0.3333333333333333,\"#9c179e\"],[0.4444444444444444,\"#bd3786\"],[0.5555555555555556,\"#d8576b\"],[0.6666666666666666,\"#ed7953\"],[0.7777777777777778,\"#fb9f3a\"],[0.8888888888888888,\"#fdca26\"],[1.0,\"#f0f921\"]]}],\"heatmap\":[{\"type\":\"heatmap\",\"colorbar\":{\"outlinewidth\":0,\"ticks\":\"\"},\"colorscale\":[[0.0,\"#0d0887\"],[0.1111111111111111,\"#46039f\"],[0.2222222222222222,\"#7201a8\"],[0.3333333333333333,\"#9c179e\"],[0.4444444444444444,\"#bd3786\"],[0.5555555555555556,\"#d8576b\"],[0.6666666666666666,\"#ed7953\"],[0.7777777777777778,\"#fb9f3a\"],[0.8888888888888888,\"#fdca26\"],[1.0,\"#f0f921\"]]}],\"heatmapgl\":[{\"type\":\"heatmapgl\",\"colorbar\":{\"outlinewidth\":0,\"ticks\":\"\"},\"colorscale\":[[0.0,\"#0d0887\"],[0.1111111111111111,\"#46039f\"],[0.2222222222222222,\"#7201a8\"],[0.3333333333333333,\"#9c179e\"],[0.4444444444444444,\"#bd3786\"],[0.5555555555555556,\"#d8576b\"],[0.6666666666666666,\"#ed7953\"],[0.7777777777777778,\"#fb9f3a\"],[0.8888888888888888,\"#fdca26\"],[1.0,\"#f0f921\"]]}],\"contourcarpet\":[{\"type\":\"contourcarpet\",\"colorbar\":{\"outlinewidth\":0,\"ticks\":\"\"}}],\"contour\":[{\"type\":\"contour\",\"colorbar\":{\"outlinewidth\":0,\"ticks\":\"\"},\"colorscale\":[[0.0,\"#0d0887\"],[0.1111111111111111,\"#46039f\"],[0.2222222222222222,\"#7201a8\"],[0.3333333333333333,\"#9c179e\"],[0.4444444444444444,\"#bd3786\"],[0.5555555555555556,\"#d8576b\"],[0.6666666666666666,\"#ed7953\"],[0.7777777777777778,\"#fb9f3a\"],[0.8888888888888888,\"#fdca26\"],[1.0,\"#f0f921\"]]}],\"surface\":[{\"type\":\"surface\",\"colorbar\":{\"outlinewidth\":0,\"ticks\":\"\"},\"colorscale\":[[0.0,\"#0d0887\"],[0.1111111111111111,\"#46039f\"],[0.2222222222222222,\"#7201a8\"],[0.3333333333333333,\"#9c179e\"],[0.4444444444444444,\"#bd3786\"],[0.5555555555555556,\"#d8576b\"],[0.6666666666666666,\"#ed7953\"],[0.7777777777777778,\"#fb9f3a\"],[0.8888888888888888,\"#fdca26\"],[1.0,\"#f0f921\"]]}],\"mesh3d\":[{\"type\":\"mesh3d\",\"colorbar\":{\"outlinewidth\":0,\"ticks\":\"\"}}],\"scatter\":[{\"fillpattern\":{\"fillmode\":\"overlay\",\"size\":10,\"solidity\":0.2},\"type\":\"scatter\"}],\"parcoords\":[{\"type\":\"parcoords\",\"line\":{\"colorbar\":{\"outlinewidth\":0,\"ticks\":\"\"}}}],\"scatterpolargl\":[{\"type\":\"scatterpolargl\",\"marker\":{\"colorbar\":{\"outlinewidth\":0,\"ticks\":\"\"}}}],\"bar\":[{\"error_x\":{\"color\":\"#2a3f5f\"},\"error_y\":{\"color\":\"#2a3f5f\"},\"marker\":{\"line\":{\"color\":\"#E5ECF6\",\"width\":0.5},\"pattern\":{\"fillmode\":\"overlay\",\"size\":10,\"solidity\":0.2}},\"type\":\"bar\"}],\"scattergeo\":[{\"type\":\"scattergeo\",\"marker\":{\"colorbar\":{\"outlinewidth\":0,\"ticks\":\"\"}}}],\"scatterpolar\":[{\"type\":\"scatterpolar\",\"marker\":{\"colorbar\":{\"outlinewidth\":0,\"ticks\":\"\"}}}],\"histogram\":[{\"marker\":{\"pattern\":{\"fillmode\":\"overlay\",\"size\":10,\"solidity\":0.2}},\"type\":\"histogram\"}],\"scattergl\":[{\"type\":\"scattergl\",\"marker\":{\"colorbar\":{\"outlinewidth\":0,\"ticks\":\"\"}}}],\"scatter3d\":[{\"type\":\"scatter3d\",\"line\":{\"colorbar\":{\"outlinewidth\":0,\"ticks\":\"\"}},\"marker\":{\"colorbar\":{\"outlinewidth\":0,\"ticks\":\"\"}}}],\"scattermapbox\":[{\"type\":\"scattermapbox\",\"marker\":{\"colorbar\":{\"outlinewidth\":0,\"ticks\":\"\"}}}],\"scatterternary\":[{\"type\":\"scatterternary\",\"marker\":{\"colorbar\":{\"outlinewidth\":0,\"ticks\":\"\"}}}],\"scattercarpet\":[{\"type\":\"scattercarpet\",\"marker\":{\"colorbar\":{\"outlinewidth\":0,\"ticks\":\"\"}}}],\"carpet\":[{\"aaxis\":{\"endlinecolor\":\"#2a3f5f\",\"gridcolor\":\"white\",\"linecolor\":\"white\",\"minorgridcolor\":\"white\",\"startlinecolor\":\"#2a3f5f\"},\"baxis\":{\"endlinecolor\":\"#2a3f5f\",\"gridcolor\":\"white\",\"linecolor\":\"white\",\"minorgridcolor\":\"white\",\"startlinecolor\":\"#2a3f5f\"},\"type\":\"carpet\"}],\"table\":[{\"cells\":{\"fill\":{\"color\":\"#EBF0F8\"},\"line\":{\"color\":\"white\"}},\"header\":{\"fill\":{\"color\":\"#C8D4E3\"},\"line\":{\"color\":\"white\"}},\"type\":\"table\"}],\"barpolar\":[{\"marker\":{\"line\":{\"color\":\"#E5ECF6\",\"width\":0.5},\"pattern\":{\"fillmode\":\"overlay\",\"size\":10,\"solidity\":0.2}},\"type\":\"barpolar\"}],\"pie\":[{\"automargin\":true,\"type\":\"pie\"}]},\"layout\":{\"autotypenumbers\":\"strict\",\"colorway\":[\"#636efa\",\"#EF553B\",\"#00cc96\",\"#ab63fa\",\"#FFA15A\",\"#19d3f3\",\"#FF6692\",\"#B6E880\",\"#FF97FF\",\"#FECB52\"],\"font\":{\"color\":\"#2a3f5f\"},\"hovermode\":\"closest\",\"hoverlabel\":{\"align\":\"left\"},\"paper_bgcolor\":\"white\",\"plot_bgcolor\":\"#E5ECF6\",\"polar\":{\"bgcolor\":\"#E5ECF6\",\"angularaxis\":{\"gridcolor\":\"white\",\"linecolor\":\"white\",\"ticks\":\"\"},\"radialaxis\":{\"gridcolor\":\"white\",\"linecolor\":\"white\",\"ticks\":\"\"}},\"ternary\":{\"bgcolor\":\"#E5ECF6\",\"aaxis\":{\"gridcolor\":\"white\",\"linecolor\":\"white\",\"ticks\":\"\"},\"baxis\":{\"gridcolor\":\"white\",\"linecolor\":\"white\",\"ticks\":\"\"},\"caxis\":{\"gridcolor\":\"white\",\"linecolor\":\"white\",\"ticks\":\"\"}},\"coloraxis\":{\"colorbar\":{\"outlinewidth\":0,\"ticks\":\"\"}},\"colorscale\":{\"sequential\":[[0.0,\"#0d0887\"],[0.1111111111111111,\"#46039f\"],[0.2222222222222222,\"#7201a8\"],[0.3333333333333333,\"#9c179e\"],[0.4444444444444444,\"#bd3786\"],[0.5555555555555556,\"#d8576b\"],[0.6666666666666666,\"#ed7953\"],[0.7777777777777778,\"#fb9f3a\"],[0.8888888888888888,\"#fdca26\"],[1.0,\"#f0f921\"]],\"sequentialminus\":[[0.0,\"#0d0887\"],[0.1111111111111111,\"#46039f\"],[0.2222222222222222,\"#7201a8\"],[0.3333333333333333,\"#9c179e\"],[0.4444444444444444,\"#bd3786\"],[0.5555555555555556,\"#d8576b\"],[0.6666666666666666,\"#ed7953\"],[0.7777777777777778,\"#fb9f3a\"],[0.8888888888888888,\"#fdca26\"],[1.0,\"#f0f921\"]],\"diverging\":[[0,\"#8e0152\"],[0.1,\"#c51b7d\"],[0.2,\"#de77ae\"],[0.3,\"#f1b6da\"],[0.4,\"#fde0ef\"],[0.5,\"#f7f7f7\"],[0.6,\"#e6f5d0\"],[0.7,\"#b8e186\"],[0.8,\"#7fbc41\"],[0.9,\"#4d9221\"],[1,\"#276419\"]]},\"xaxis\":{\"gridcolor\":\"white\",\"linecolor\":\"white\",\"ticks\":\"\",\"title\":{\"standoff\":15},\"zerolinecolor\":\"white\",\"automargin\":true,\"zerolinewidth\":2},\"yaxis\":{\"gridcolor\":\"white\",\"linecolor\":\"white\",\"ticks\":\"\",\"title\":{\"standoff\":15},\"zerolinecolor\":\"white\",\"automargin\":true,\"zerolinewidth\":2},\"scene\":{\"xaxis\":{\"backgroundcolor\":\"#E5ECF6\",\"gridcolor\":\"white\",\"linecolor\":\"white\",\"showbackground\":true,\"ticks\":\"\",\"zerolinecolor\":\"white\",\"gridwidth\":2},\"yaxis\":{\"backgroundcolor\":\"#E5ECF6\",\"gridcolor\":\"white\",\"linecolor\":\"white\",\"showbackground\":true,\"ticks\":\"\",\"zerolinecolor\":\"white\",\"gridwidth\":2},\"zaxis\":{\"backgroundcolor\":\"#E5ECF6\",\"gridcolor\":\"white\",\"linecolor\":\"white\",\"showbackground\":true,\"ticks\":\"\",\"zerolinecolor\":\"white\",\"gridwidth\":2}},\"shapedefaults\":{\"line\":{\"color\":\"#2a3f5f\"}},\"annotationdefaults\":{\"arrowcolor\":\"#2a3f5f\",\"arrowhead\":0,\"arrowwidth\":1},\"geo\":{\"bgcolor\":\"white\",\"landcolor\":\"#E5ECF6\",\"subunitcolor\":\"white\",\"showland\":true,\"showlakes\":true,\"lakecolor\":\"white\"},\"title\":{\"x\":0.05},\"mapbox\":{\"style\":\"light\"}}},\"legend\":{\"tracegroupgap\":0},\"title\":{\"text\":\"Total Number of people by Gender\"}},                        {\"responsive\": true}                    ).then(function(){\n",
              "                            \n",
              "var gd = document.getElementById('6f94601e-3f84-455e-af9c-80129fbf74e6');\n",
              "var x = new MutationObserver(function (mutations, observer) {{\n",
              "        var display = window.getComputedStyle(gd).display;\n",
              "        if (!display || display === 'none') {{\n",
              "            console.log([gd, 'removed!']);\n",
              "            Plotly.purge(gd);\n",
              "            observer.disconnect();\n",
              "        }}\n",
              "}});\n",
              "\n",
              "// Listen for the removal of the full notebook cells\n",
              "var notebookContainer = gd.closest('#notebook-container');\n",
              "if (notebookContainer) {{\n",
              "    x.observe(notebookContainer, {childList: true});\n",
              "}}\n",
              "\n",
              "// Listen for the clearing of the current output cell\n",
              "var outputEl = gd.closest('.output');\n",
              "if (outputEl) {{\n",
              "    x.observe(outputEl, {childList: true});\n",
              "}}\n",
              "\n",
              "                        })                };                            </script>        </div>\n",
              "</body>\n",
              "</html>"
            ]
          },
          "metadata": {}
        }
      ]
    },
    {
      "cell_type": "code",
      "source": [
        "Avg_HourlyRate_of_employees = HRAnalytics['HourlyRate'].mean()\n",
        "print('Avg_HourlyRate_of_employees:',Avg_HourlyRate_of_employees)"
      ],
      "metadata": {
        "colab": {
          "base_uri": "https://localhost:8080/"
        },
        "id": "kfkvemu6DaBy",
        "outputId": "ac0e7820-43b5-49dc-c60a-b6ba684c7cf8"
      },
      "execution_count": 26,
      "outputs": [
        {
          "output_type": "stream",
          "name": "stdout",
          "text": [
            "Avg_HourlyRate_of_employees: 65.89115646258503\n"
          ]
        }
      ]
    },
    {
      "cell_type": "code",
      "source": [
        "Types_Of_JobInvolvement_counts = HRAnalytics['JobInvolvement'].value_counts()\n",
        "print('Number_of_people_by_JobInvolvement:\\n',Types_Of_JobInvolvement_counts)\n",
        "#Here JobInvolvement is in number format\n",
        "#1: Low job involvement\n",
        "#2: Medium-Low job involvement\n",
        "#3: Medium-High job involvement\n",
        "#4: High job involvement"
      ],
      "metadata": {
        "colab": {
          "base_uri": "https://localhost:8080/"
        },
        "id": "uWPIkLkPmSWC",
        "outputId": "c77b7e22-314e-4fd8-b823-3f76429ad0a9"
      },
      "execution_count": 27,
      "outputs": [
        {
          "output_type": "stream",
          "name": "stdout",
          "text": [
            "Number_of_people_by_JobInvolvement:\n",
            " 3    868\n",
            "2    375\n",
            "4    144\n",
            "1     83\n",
            "Name: JobInvolvement, dtype: int64\n"
          ]
        }
      ]
    },
    {
      "cell_type": "code",
      "source": [
        "Types_Of_JobLevel_counts = HRAnalytics['JobLevel'].value_counts()\n",
        "print('Number_of_people_by_JobLevel:\\n',Types_Of_JobLevel_counts)\n",
        "#Here JobLevel is in Number Format\n",
        "#1: Entry-level or Junior\n",
        "#2: Intermediate or Associate\n",
        "#3: Mid-level or Senior\n",
        "#4: Upper mid-level or Managerial\n",
        "#5: Top-level or Executive"
      ],
      "metadata": {
        "colab": {
          "base_uri": "https://localhost:8080/"
        },
        "id": "sOvoAgzMDmqG",
        "outputId": "7b3a72cc-e333-4812-f797-4c0d68273ffe"
      },
      "execution_count": 28,
      "outputs": [
        {
          "output_type": "stream",
          "name": "stdout",
          "text": [
            "Number_of_people_by_JobLevel:\n",
            " 1    543\n",
            "2    534\n",
            "3    218\n",
            "4    106\n",
            "5     69\n",
            "Name: JobLevel, dtype: int64\n"
          ]
        }
      ]
    },
    {
      "cell_type": "code",
      "source": [
        "Types_Of_JobRole_counts = HRAnalytics['JobRole'].value_counts()\n",
        "print('Number_of_people_by_JobRole:\\n',Types_Of_JobRole_counts)"
      ],
      "metadata": {
        "colab": {
          "base_uri": "https://localhost:8080/"
        },
        "id": "tg8yCvGMDulq",
        "outputId": "e7d9d2b8-359a-43a4-9370-3950dc22ed2d"
      },
      "execution_count": 29,
      "outputs": [
        {
          "output_type": "stream",
          "name": "stdout",
          "text": [
            "Number_of_people_by_JobRole:\n",
            " Sales Executive              326\n",
            "Research Scientist           292\n",
            "Laboratory Technician        259\n",
            "Manufacturing Director       145\n",
            "Healthcare Representative    131\n",
            "Manager                      102\n",
            "Sales Representative          83\n",
            "Research Director             80\n",
            "Human Resources               52\n",
            "Name: JobRole, dtype: int64\n"
          ]
        }
      ]
    },
    {
      "cell_type": "code",
      "source": [
        "fig = px.pie(HRAnalytics,names='JobRole',title='Total Number of people by JobRole')\n",
        "fig.show()"
      ],
      "metadata": {
        "colab": {
          "base_uri": "https://localhost:8080/",
          "height": 542
        },
        "id": "LMiSk5VYQlVS",
        "outputId": "4894dac7-e96d-4724-8687-861573d6a528"
      },
      "execution_count": 30,
      "outputs": [
        {
          "output_type": "display_data",
          "data": {
            "text/html": [
              "<html>\n",
              "<head><meta charset=\"utf-8\" /></head>\n",
              "<body>\n",
              "    <div>            <script src=\"https://cdnjs.cloudflare.com/ajax/libs/mathjax/2.7.5/MathJax.js?config=TeX-AMS-MML_SVG\"></script><script type=\"text/javascript\">if (window.MathJax && window.MathJax.Hub && window.MathJax.Hub.Config) {window.MathJax.Hub.Config({SVG: {font: \"STIX-Web\"}});}</script>                <script type=\"text/javascript\">window.PlotlyConfig = {MathJaxConfig: 'local'};</script>\n",
              "        <script charset=\"utf-8\" src=\"https://cdn.plot.ly/plotly-2.24.1.min.js\"></script>                <div id=\"0ae8a5c8-53ca-4cff-b761-a5b6da590ca8\" class=\"plotly-graph-div\" style=\"height:525px; width:100%;\"></div>            <script type=\"text/javascript\">                                    window.PLOTLYENV=window.PLOTLYENV || {};                                    if (document.getElementById(\"0ae8a5c8-53ca-4cff-b761-a5b6da590ca8\")) {                    Plotly.newPlot(                        \"0ae8a5c8-53ca-4cff-b761-a5b6da590ca8\",                        [{\"domain\":{\"x\":[0.0,1.0],\"y\":[0.0,1.0]},\"hovertemplate\":\"JobRole=%{label}\\u003cextra\\u003e\\u003c\\u002fextra\\u003e\",\"labels\":[\"Sales Executive\",\"Research Scientist\",\"Laboratory Technician\",\"Research Scientist\",\"Laboratory Technician\",\"Laboratory Technician\",\"Laboratory Technician\",\"Laboratory Technician\",\"Manufacturing Director\",\"Healthcare Representative\",\"Laboratory Technician\",\"Laboratory Technician\",\"Research Scientist\",\"Laboratory Technician\",\"Laboratory Technician\",\"Manufacturing Director\",\"Research Scientist\",\"Laboratory Technician\",\"Manager\",\"Research Scientist\",\"Manufacturing Director\",\"Sales Representative\",\"Research Director\",\"Research Scientist\",\"Research Scientist\",\"Manager\",\"Research Scientist\",\"Sales Executive\",\"Healthcare Representative\",\"Manager\",\"Laboratory Technician\",\"Healthcare Representative\",\"Laboratory Technician\",\"Sales Representative\",\"Research Scientist\",\"Research Scientist\",\"Sales Representative\",\"Sales Representative\",\"Research Scientist\",\"Sales Executive\",\"Laboratory Technician\",\"Laboratory Technician\",\"Laboratory Technician\",\"Sales Executive\",\"Laboratory Technician\",\"Research Director\",\"Sales Executive\",\"Research Scientist\",\"Sales Executive\",\"Laboratory Technician\",\"Laboratory Technician\",\"Laboratory Technician\",\"Sales Executive\",\"Healthcare Representative\",\"Sales Executive\",\"Research Director\",\"Sales Executive\",\"Laboratory Technician\",\"Laboratory Technician\",\"Manufacturing Director\",\"Manufacturing Director\",\"Laboratory Technician\",\"Research Director\",\"Sales Executive\",\"Healthcare Representative\",\"Manager\",\"Manufacturing Director\",\"Research Scientist\",\"Research Scientist\",\"Research Scientist\",\"Sales Executive\",\"Research Scientist\",\"Research Scientist\",\"Research Scientist\",\"Laboratory Technician\",\"Manufacturing Director\",\"Sales Executive\",\"Research Director\",\"Research Director\",\"Human Resources\",\"Laboratory Technician\",\"Research Scientist\",\"Sales Executive\",\"Research Scientist\",\"Manufacturing Director\",\"Manufacturing Director\",\"Sales Representative\",\"Laboratory Technician\",\"Healthcare Representative\",\"Sales Executive\",\"Healthcare Representative\",\"Sales Executive\",\"Sales Executive\",\"Healthcare Representative\",\"Sales Executive\",\"Research Director\",\"Sales Executive\",\"Sales Executive\",\"Sales Executive\",\"Laboratory Technician\",\"Human Resources\",\"Research Scientist\",\"Laboratory Technician\",\"Research Scientist\",\"Healthcare Representative\",\"Manager\",\"Research Director\",\"Sales Executive\",\"Research Scientist\",\"Laboratory Technician\",\"Healthcare Representative\",\"Laboratory Technician\",\"Manager\",\"Laboratory Technician\",\"Research Scientist\",\"Sales Executive\",\"Manager\",\"Sales Executive\",\"Laboratory Technician\",\"Manager\",\"Research Scientist\",\"Sales Executive\",\"Research Scientist\",\"Research Director\",\"Sales Executive\",\"Research Scientist\",\"Healthcare Representative\",\"Sales Representative\",\"Laboratory Technician\",\"Manufacturing Director\",\"Research Scientist\",\"Sales Executive\",\"Sales Executive\",\"Sales Executive\",\"Human Resources\",\"Manufacturing Director\",\"Manufacturing Director\",\"Sales Executive\",\"Sales Executive\",\"Human Resources\",\"Laboratory Technician\",\"Research Scientist\",\"Research Scientist\",\"Research Scientist\",\"Sales Executive\",\"Research Scientist\",\"Laboratory Technician\",\"Manager\",\"Laboratory Technician\",\"Laboratory Technician\",\"Research Scientist\",\"Sales Executive\",\"Sales Representative\",\"Laboratory Technician\",\"Sales Executive\",\"Manufacturing Director\",\"Manufacturing Director\",\"Research Scientist\",\"Sales Executive\",\"Sales Representative\",\"Research Scientist\",\"Research Scientist\",\"Research Scientist\",\"Healthcare Representative\",\"Research Scientist\",\"Manager\",\"Research Scientist\",\"Sales Executive\",\"Sales Executive\",\"Research Scientist\",\"Research Scientist\",\"Sales Representative\",\"Laboratory Technician\",\"Laboratory Technician\",\"Sales Executive\",\"Research Scientist\",\"Research Scientist\",\"Laboratory Technician\",\"Sales Executive\",\"Laboratory Technician\",\"Research Scientist\",\"Research Scientist\",\"Sales Representative\",\"Laboratory Technician\",\"Manufacturing Director\",\"Research Scientist\",\"Manager\",\"Research Director\",\"Manufacturing Director\",\"Healthcare Representative\",\"Manager\",\"Research Scientist\",\"Manufacturing Director\",\"Research Scientist\",\"Manager\",\"Research Scientist\",\"Laboratory Technician\",\"Manufacturing Director\",\"Manufacturing Director\",\"Manufacturing Director\",\"Manufacturing Director\",\"Manufacturing Director\",\"Research Scientist\",\"Laboratory Technician\",\"Healthcare Representative\",\"Sales Executive\",\"Research Scientist\",\"Laboratory Technician\",\"Healthcare Representative\",\"Healthcare Representative\",\"Sales Executive\",\"Manufacturing Director\",\"Sales Executive\",\"Research Director\",\"Research Scientist\",\"Manager\",\"Sales Executive\",\"Research Scientist\",\"Sales Executive\",\"Sales Executive\",\"Laboratory Technician\",\"Research Scientist\",\"Research Director\",\"Sales Executive\",\"Manufacturing Director\",\"Research Scientist\",\"Sales Representative\",\"Sales Executive\",\"Sales Executive\",\"Research Scientist\",\"Laboratory Technician\",\"Manager\",\"Human Resources\",\"Manager\",\"Laboratory Technician\",\"Manager\",\"Laboratory Technician\",\"Manager\",\"Sales Representative\",\"Laboratory Technician\",\"Laboratory Technician\",\"Sales Executive\",\"Research Scientist\",\"Research Scientist\",\"Manager\",\"Research Director\",\"Research Scientist\",\"Manufacturing Director\",\"Research Scientist\",\"Manufacturing Director\",\"Manufacturing Director\",\"Healthcare Representative\",\"Research Scientist\",\"Research Scientist\",\"Sales Executive\",\"Manufacturing Director\",\"Laboratory Technician\",\"Research Director\",\"Research Scientist\",\"Laboratory Technician\",\"Laboratory Technician\",\"Sales Executive\",\"Laboratory Technician\",\"Manager\",\"Laboratory Technician\",\"Sales Executive\",\"Healthcare Representative\",\"Healthcare Representative\",\"Healthcare Representative\",\"Laboratory Technician\",\"Manager\",\"Manager\",\"Research Scientist\",\"Sales Executive\",\"Research Scientist\",\"Research Director\",\"Manager\",\"Sales Executive\",\"Manufacturing Director\",\"Research Director\",\"Research Director\",\"Sales Executive\",\"Sales Executive\",\"Laboratory Technician\",\"Healthcare Representative\",\"Research Scientist\",\"Laboratory Technician\",\"Healthcare Representative\",\"Laboratory Technician\",\"Research Scientist\",\"Research Director\",\"Research Scientist\",\"Sales Representative\",\"Sales Executive\",\"Research Scientist\",\"Sales Executive\",\"Laboratory Technician\",\"Sales Executive\",\"Laboratory Technician\",\"Manufacturing Director\",\"Manager\",\"Sales Representative\",\"Healthcare Representative\",\"Sales Executive\",\"Healthcare Representative\",\"Laboratory Technician\",\"Sales Executive\",\"Research Director\",\"Healthcare Representative\",\"Research Scientist\",\"Human Resources\",\"Laboratory Technician\",\"Research Scientist\",\"Manager\",\"Manager\",\"Laboratory Technician\",\"Healthcare Representative\",\"Research Scientist\",\"Research Scientist\",\"Sales Executive\",\"Sales Executive\",\"Sales Executive\",\"Research Scientist\",\"Research Scientist\",\"Research Scientist\",\"Manufacturing Director\",\"Manager\",\"Sales Executive\",\"Sales Executive\",\"Research Director\",\"Laboratory Technician\",\"Sales Executive\",\"Research Scientist\",\"Healthcare Representative\",\"Research Scientist\",\"Sales Executive\",\"Laboratory Technician\",\"Laboratory Technician\",\"Sales Executive\",\"Sales Executive\",\"Manufacturing Director\",\"Research Director\",\"Manufacturing Director\",\"Sales Executive\",\"Manufacturing Director\",\"Research Scientist\",\"Manufacturing Director\",\"Sales Representative\",\"Research Director\",\"Sales Executive\",\"Human Resources\",\"Laboratory Technician\",\"Manager\",\"Research Scientist\",\"Sales Executive\",\"Sales Executive\",\"Healthcare Representative\",\"Sales Representative\",\"Sales Executive\",\"Sales Executive\",\"Healthcare Representative\",\"Laboratory Technician\",\"Sales Representative\",\"Sales Representative\",\"Laboratory Technician\",\"Manufacturing Director\",\"Sales Executive\",\"Healthcare Representative\",\"Sales Executive\",\"Research Scientist\",\"Sales Representative\",\"Research Scientist\",\"Healthcare Representative\",\"Laboratory Technician\",\"Sales Executive\",\"Healthcare Representative\",\"Sales Executive\",\"Research Scientist\",\"Sales Executive\",\"Manager\",\"Sales Executive\",\"Sales Representative\",\"Research Scientist\",\"Research Scientist\",\"Sales Executive\",\"Research Scientist\",\"Laboratory Technician\",\"Sales Executive\",\"Laboratory Technician\",\"Manufacturing Director\",\"Research Director\",\"Laboratory Technician\",\"Research Director\",\"Sales Executive\",\"Manufacturing Director\",\"Laboratory Technician\",\"Healthcare Representative\",\"Sales Executive\",\"Research Scientist\",\"Laboratory Technician\",\"Manager\",\"Sales Executive\",\"Sales Executive\",\"Sales Executive\",\"Laboratory Technician\",\"Laboratory Technician\",\"Manufacturing Director\",\"Research Scientist\",\"Manager\",\"Research Scientist\",\"Manufacturing Director\",\"Manager\",\"Manufacturing Director\",\"Healthcare Representative\",\"Sales Representative\",\"Sales Representative\",\"Laboratory Technician\",\"Manager\",\"Research Scientist\",\"Laboratory Technician\",\"Research Director\",\"Research Scientist\",\"Human Resources\",\"Sales Executive\",\"Manager\",\"Manager\",\"Laboratory Technician\",\"Sales Executive\",\"Manufacturing Director\",\"Research Director\",\"Laboratory Technician\",\"Laboratory Technician\",\"Research Scientist\",\"Sales Executive\",\"Manufacturing Director\",\"Manager\",\"Laboratory Technician\",\"Sales Representative\",\"Healthcare Representative\",\"Healthcare Representative\",\"Human Resources\",\"Laboratory Technician\",\"Sales Executive\",\"Laboratory Technician\",\"Sales Executive\",\"Manager\",\"Sales Executive\",\"Sales Executive\",\"Manufacturing Director\",\"Laboratory Technician\",\"Sales Executive\",\"Manufacturing Director\",\"Sales Executive\",\"Human Resources\",\"Manufacturing Director\",\"Research Director\",\"Manager\",\"Sales Representative\",\"Sales Executive\",\"Healthcare Representative\",\"Sales Executive\",\"Sales Executive\",\"Sales Executive\",\"Laboratory Technician\",\"Manufacturing Director\",\"Healthcare Representative\",\"Manager\",\"Sales Executive\",\"Research Scientist\",\"Sales Executive\",\"Sales Representative\",\"Healthcare Representative\",\"Manufacturing Director\",\"Research Director\",\"Research Scientist\",\"Sales Executive\",\"Laboratory Technician\",\"Manager\",\"Sales Representative\",\"Laboratory Technician\",\"Sales Representative\",\"Research Scientist\",\"Sales Executive\",\"Laboratory Technician\",\"Sales Executive\",\"Research Scientist\",\"Sales Executive\",\"Research Scientist\",\"Healthcare Representative\",\"Research Director\",\"Research Scientist\",\"Laboratory Technician\",\"Manager\",\"Human Resources\",\"Sales Representative\",\"Sales Representative\",\"Sales Representative\",\"Manager\",\"Research Scientist\",\"Sales Executive\",\"Research Scientist\",\"Research Scientist\",\"Sales Executive\",\"Research Scientist\",\"Sales Executive\",\"Laboratory Technician\",\"Manufacturing Director\",\"Sales Executive\",\"Research Scientist\",\"Healthcare Representative\",\"Human Resources\",\"Manufacturing Director\",\"Research Scientist\",\"Research Scientist\",\"Research Scientist\",\"Laboratory Technician\",\"Research Scientist\",\"Sales Executive\",\"Sales Executive\",\"Research Scientist\",\"Sales Executive\",\"Sales Executive\",\"Research Scientist\",\"Laboratory Technician\",\"Healthcare Representative\",\"Sales Executive\",\"Healthcare Representative\",\"Sales Executive\",\"Sales Executive\",\"Healthcare Representative\",\"Manufacturing Director\",\"Research Director\",\"Sales Executive\",\"Sales Executive\",\"Research Director\",\"Manager\",\"Sales Executive\",\"Manufacturing Director\",\"Manager\",\"Sales Representative\",\"Research Scientist\",\"Research Director\",\"Manufacturing Director\",\"Laboratory Technician\",\"Sales Executive\",\"Sales Executive\",\"Sales Representative\",\"Research Scientist\",\"Sales Executive\",\"Healthcare Representative\",\"Laboratory Technician\",\"Human Resources\",\"Healthcare Representative\",\"Research Scientist\",\"Healthcare Representative\",\"Sales Representative\",\"Laboratory Technician\",\"Healthcare Representative\",\"Laboratory Technician\",\"Research Scientist\",\"Manufacturing Director\",\"Manager\",\"Research Scientist\",\"Sales Executive\",\"Sales Representative\",\"Research Scientist\",\"Sales Executive\",\"Sales Executive\",\"Manager\",\"Sales Executive\",\"Research Scientist\",\"Laboratory Technician\",\"Healthcare Representative\",\"Sales Executive\",\"Research Scientist\",\"Manufacturing Director\",\"Sales Executive\",\"Research Scientist\",\"Manufacturing Director\",\"Research Scientist\",\"Sales Representative\",\"Laboratory Technician\",\"Healthcare Representative\",\"Sales Executive\",\"Manager\",\"Laboratory Technician\",\"Laboratory Technician\",\"Laboratory Technician\",\"Research Director\",\"Laboratory Technician\",\"Research Director\",\"Sales Executive\",\"Manager\",\"Manufacturing Director\",\"Research Scientist\",\"Research Director\",\"Research Scientist\",\"Manufacturing Director\",\"Research Scientist\",\"Human Resources\",\"Manufacturing Director\",\"Laboratory Technician\",\"Manufacturing Director\",\"Research Scientist\",\"Manufacturing Director\",\"Healthcare Representative\",\"Research Scientist\",\"Sales Executive\",\"Sales Executive\",\"Research Director\",\"Research Director\",\"Manufacturing Director\",\"Sales Executive\",\"Human Resources\",\"Research Scientist\",\"Research Scientist\",\"Manager\",\"Healthcare Representative\",\"Research Scientist\",\"Sales Executive\",\"Research Scientist\",\"Sales Executive\",\"Sales Executive\",\"Research Scientist\",\"Sales Executive\",\"Sales Executive\",\"Research Scientist\",\"Manufacturing Director\",\"Sales Executive\",\"Human Resources\",\"Manufacturing Director\",\"Laboratory Technician\",\"Research Scientist\",\"Human Resources\",\"Sales Executive\",\"Manufacturing Director\",\"Research Scientist\",\"Laboratory Technician\",\"Sales Executive\",\"Research Scientist\",\"Laboratory Technician\",\"Sales Executive\",\"Sales Representative\",\"Laboratory Technician\",\"Research Scientist\",\"Sales Representative\",\"Sales Executive\",\"Manufacturing Director\",\"Sales Representative\",\"Research Director\",\"Healthcare Representative\",\"Sales Executive\",\"Sales Executive\",\"Manager\",\"Human Resources\",\"Human Resources\",\"Laboratory Technician\",\"Laboratory Technician\",\"Research Scientist\",\"Sales Executive\",\"Laboratory Technician\",\"Manufacturing Director\",\"Sales Representative\",\"Research Scientist\",\"Healthcare Representative\",\"Sales Representative\",\"Manufacturing Director\",\"Laboratory Technician\",\"Research Scientist\",\"Laboratory Technician\",\"Research Scientist\",\"Laboratory Technician\",\"Sales Executive\",\"Research Scientist\",\"Healthcare Representative\",\"Sales Representative\",\"Healthcare Representative\",\"Laboratory Technician\",\"Research Scientist\",\"Sales Executive\",\"Research Scientist\",\"Research Director\",\"Laboratory Technician\",\"Sales Representative\",\"Sales Executive\",\"Sales Executive\",\"Laboratory Technician\",\"Laboratory Technician\",\"Sales Representative\",\"Laboratory Technician\",\"Healthcare Representative\",\"Research Scientist\",\"Manufacturing Director\",\"Sales Executive\",\"Healthcare Representative\",\"Sales Executive\",\"Laboratory Technician\",\"Sales Representative\",\"Sales Executive\",\"Manager\",\"Research Scientist\",\"Manager\",\"Sales Executive\",\"Sales Executive\",\"Sales Executive\",\"Sales Executive\",\"Sales Executive\",\"Manufacturing Director\",\"Sales Executive\",\"Research Scientist\",\"Manager\",\"Research Scientist\",\"Research Scientist\",\"Laboratory Technician\",\"Research Director\",\"Healthcare Representative\",\"Research Director\",\"Laboratory Technician\",\"Laboratory Technician\",\"Sales Executive\",\"Research Scientist\",\"Manufacturing Director\",\"Research Scientist\",\"Manufacturing Director\",\"Manufacturing Director\",\"Laboratory Technician\",\"Manufacturing Director\",\"Research Scientist\",\"Manufacturing Director\",\"Healthcare Representative\",\"Research Director\",\"Research Scientist\",\"Laboratory Technician\",\"Manufacturing Director\",\"Laboratory Technician\",\"Healthcare Representative\",\"Healthcare Representative\",\"Manufacturing Director\",\"Manufacturing Director\",\"Manufacturing Director\",\"Laboratory Technician\",\"Manager\",\"Laboratory Technician\",\"Manufacturing Director\",\"Healthcare Representative\",\"Healthcare Representative\",\"Research Director\",\"Sales Executive\",\"Sales Executive\",\"Manager\",\"Sales Executive\",\"Sales Executive\",\"Laboratory Technician\",\"Manufacturing Director\",\"Sales Representative\",\"Manager\",\"Laboratory Technician\",\"Sales Executive\",\"Manager\",\"Human Resources\",\"Sales Executive\",\"Laboratory Technician\",\"Research Scientist\",\"Sales Representative\",\"Sales Representative\",\"Research Scientist\",\"Research Director\",\"Healthcare Representative\",\"Sales Executive\",\"Research Scientist\",\"Research Director\",\"Sales Executive\",\"Research Scientist\",\"Manufacturing Director\",\"Manager\",\"Sales Executive\",\"Sales Representative\",\"Laboratory Technician\",\"Research Scientist\",\"Research Scientist\",\"Healthcare Representative\",\"Laboratory Technician\",\"Manufacturing Director\",\"Research Scientist\",\"Healthcare Representative\",\"Healthcare Representative\",\"Laboratory Technician\",\"Manufacturing Director\",\"Research Scientist\",\"Human Resources\",\"Healthcare Representative\",\"Sales Executive\",\"Research Scientist\",\"Laboratory Technician\",\"Healthcare Representative\",\"Sales Executive\",\"Laboratory Technician\",\"Laboratory Technician\",\"Research Scientist\",\"Manager\",\"Laboratory Technician\",\"Sales Executive\",\"Sales Executive\",\"Research Scientist\",\"Manager\",\"Sales Executive\",\"Healthcare Representative\",\"Sales Executive\",\"Research Scientist\",\"Manufacturing Director\",\"Manager\",\"Sales Executive\",\"Manufacturing Director\",\"Healthcare Representative\",\"Research Director\",\"Research Scientist\",\"Laboratory Technician\",\"Manufacturing Director\",\"Sales Representative\",\"Research Scientist\",\"Sales Executive\",\"Sales Executive\",\"Manufacturing Director\",\"Research Scientist\",\"Laboratory Technician\",\"Manufacturing Director\",\"Human Resources\",\"Research Scientist\",\"Laboratory Technician\",\"Sales Executive\",\"Laboratory Technician\",\"Laboratory Technician\",\"Healthcare Representative\",\"Research Scientist\",\"Sales Executive\",\"Human Resources\",\"Sales Executive\",\"Research Director\",\"Sales Executive\",\"Sales Executive\",\"Laboratory Technician\",\"Laboratory Technician\",\"Laboratory Technician\",\"Laboratory Technician\",\"Sales Executive\",\"Research Scientist\",\"Manufacturing Director\",\"Healthcare Representative\",\"Laboratory Technician\",\"Sales Executive\",\"Sales Representative\",\"Manager\",\"Laboratory Technician\",\"Research Scientist\",\"Research Scientist\",\"Manufacturing Director\",\"Laboratory Technician\",\"Research Scientist\",\"Manager\",\"Research Scientist\",\"Research Scientist\",\"Manager\",\"Research Scientist\",\"Human Resources\",\"Research Scientist\",\"Sales Executive\",\"Sales Executive\",\"Manager\",\"Laboratory Technician\",\"Research Director\",\"Sales Executive\",\"Laboratory Technician\",\"Sales Executive\",\"Laboratory Technician\",\"Laboratory Technician\",\"Research Scientist\",\"Sales Representative\",\"Manufacturing Director\",\"Human Resources\",\"Sales Executive\",\"Laboratory Technician\",\"Research Scientist\",\"Manufacturing Director\",\"Research Scientist\",\"Sales Executive\",\"Sales Executive\",\"Research Scientist\",\"Research Director\",\"Sales Executive\",\"Research Scientist\",\"Manufacturing Director\",\"Research Scientist\",\"Research Scientist\",\"Research Scientist\",\"Research Director\",\"Healthcare Representative\",\"Healthcare Representative\",\"Sales Executive\",\"Research Director\",\"Manager\",\"Research Scientist\",\"Laboratory Technician\",\"Research Scientist\",\"Healthcare Representative\",\"Research Director\",\"Research Director\",\"Research Scientist\",\"Manager\",\"Sales Executive\",\"Research Scientist\",\"Research Scientist\",\"Sales Representative\",\"Research Scientist\",\"Manager\",\"Healthcare Representative\",\"Laboratory Technician\",\"Manager\",\"Sales Executive\",\"Manager\",\"Manufacturing Director\",\"Laboratory Technician\",\"Laboratory Technician\",\"Manager\",\"Human Resources\",\"Research Scientist\",\"Research Scientist\",\"Sales Executive\",\"Manufacturing Director\",\"Healthcare Representative\",\"Laboratory Technician\",\"Laboratory Technician\",\"Manufacturing Director\",\"Laboratory Technician\",\"Research Scientist\",\"Research Scientist\",\"Sales Executive\",\"Manager\",\"Manager\",\"Research Scientist\",\"Laboratory Technician\",\"Research Scientist\",\"Laboratory Technician\",\"Healthcare Representative\",\"Human Resources\",\"Laboratory Technician\",\"Research Director\",\"Sales Executive\",\"Sales Executive\",\"Manager\",\"Manufacturing Director\",\"Sales Executive\",\"Sales Executive\",\"Sales Representative\",\"Laboratory Technician\",\"Manager\",\"Manager\",\"Manager\",\"Research Scientist\",\"Healthcare Representative\",\"Research Scientist\",\"Sales Executive\",\"Research Scientist\",\"Manager\",\"Sales Executive\",\"Sales Executive\",\"Laboratory Technician\",\"Manufacturing Director\",\"Laboratory Technician\",\"Sales Executive\",\"Manufacturing Director\",\"Sales Representative\",\"Manufacturing Director\",\"Laboratory Technician\",\"Laboratory Technician\",\"Sales Executive\",\"Sales Executive\",\"Manufacturing Director\",\"Research Scientist\",\"Healthcare Representative\",\"Laboratory Technician\",\"Sales Representative\",\"Sales Executive\",\"Research Scientist\",\"Healthcare Representative\",\"Sales Executive\",\"Manufacturing Director\",\"Sales Executive\",\"Sales Executive\",\"Research Scientist\",\"Research Scientist\",\"Sales Executive\",\"Sales Executive\",\"Healthcare Representative\",\"Sales Executive\",\"Manufacturing Director\",\"Research Scientist\",\"Sales Executive\",\"Research Scientist\",\"Research Scientist\",\"Manager\",\"Laboratory Technician\",\"Laboratory Technician\",\"Manufacturing Director\",\"Laboratory Technician\",\"Laboratory Technician\",\"Human Resources\",\"Laboratory Technician\",\"Healthcare Representative\",\"Research Director\",\"Research Director\",\"Research Director\",\"Sales Executive\",\"Sales Representative\",\"Sales Executive\",\"Research Director\",\"Research Scientist\",\"Research Scientist\",\"Laboratory Technician\",\"Laboratory Technician\",\"Sales Executive\",\"Research Scientist\",\"Sales Representative\",\"Laboratory Technician\",\"Research Scientist\",\"Research Director\",\"Sales Executive\",\"Sales Executive\",\"Laboratory Technician\",\"Research Scientist\",\"Laboratory Technician\",\"Sales Executive\",\"Sales Executive\",\"Laboratory Technician\",\"Manufacturing Director\",\"Healthcare Representative\",\"Human Resources\",\"Laboratory Technician\",\"Manufacturing Director\",\"Sales Executive\",\"Human Resources\",\"Research Director\",\"Sales Executive\",\"Laboratory Technician\",\"Research Director\",\"Healthcare Representative\",\"Research Scientist\",\"Research Scientist\",\"Sales Executive\",\"Sales Executive\",\"Sales Executive\",\"Laboratory Technician\",\"Sales Executive\",\"Research Scientist\",\"Research Scientist\",\"Healthcare Representative\",\"Research Director\",\"Sales Representative\",\"Sales Executive\",\"Sales Executive\",\"Sales Representative\",\"Laboratory Technician\",\"Sales Representative\",\"Manufacturing Director\",\"Sales Executive\",\"Human Resources\",\"Healthcare Representative\",\"Laboratory Technician\",\"Sales Executive\",\"Laboratory Technician\",\"Research Scientist\",\"Sales Executive\",\"Laboratory Technician\",\"Laboratory Technician\",\"Manufacturing Director\",\"Healthcare Representative\",\"Manager\",\"Manager\",\"Research Scientist\",\"Research Director\",\"Manufacturing Director\",\"Manager\",\"Healthcare Representative\",\"Laboratory Technician\",\"Laboratory Technician\",\"Sales Executive\",\"Research Scientist\",\"Research Director\",\"Sales Representative\",\"Laboratory Technician\",\"Research Scientist\",\"Healthcare Representative\",\"Manufacturing Director\",\"Research Scientist\",\"Healthcare Representative\",\"Sales Executive\",\"Laboratory Technician\",\"Manager\",\"Laboratory Technician\",\"Healthcare Representative\",\"Healthcare Representative\",\"Sales Representative\",\"Research Scientist\",\"Sales Representative\",\"Sales Executive\",\"Research Scientist\",\"Sales Executive\",\"Sales Executive\",\"Human Resources\",\"Laboratory Technician\",\"Sales Executive\",\"Laboratory Technician\",\"Manufacturing Director\",\"Manufacturing Director\",\"Research Scientist\",\"Research Scientist\",\"Research Scientist\",\"Manager\",\"Research Scientist\",\"Research Scientist\",\"Sales Executive\",\"Sales Executive\",\"Sales Executive\",\"Laboratory Technician\",\"Healthcare Representative\",\"Sales Executive\",\"Healthcare Representative\",\"Manager\",\"Research Scientist\",\"Laboratory Technician\",\"Manager\",\"Laboratory Technician\",\"Healthcare Representative\",\"Sales Executive\",\"Laboratory Technician\",\"Laboratory Technician\",\"Manager\",\"Laboratory Technician\",\"Research Scientist\",\"Healthcare Representative\",\"Research Scientist\",\"Research Director\",\"Research Scientist\",\"Laboratory Technician\",\"Sales Executive\",\"Sales Executive\",\"Manufacturing Director\",\"Manufacturing Director\",\"Laboratory Technician\",\"Manufacturing Director\",\"Laboratory Technician\",\"Research Scientist\",\"Manufacturing Director\",\"Research Scientist\",\"Sales Representative\",\"Manager\",\"Laboratory Technician\",\"Manufacturing Director\",\"Healthcare Representative\",\"Manufacturing Director\",\"Manufacturing Director\",\"Manufacturing Director\",\"Manufacturing Director\",\"Sales Executive\",\"Research Scientist\",\"Manufacturing Director\",\"Human Resources\",\"Manager\",\"Sales Executive\",\"Research Scientist\",\"Research Scientist\",\"Research Scientist\",\"Laboratory Technician\",\"Sales Executive\",\"Healthcare Representative\",\"Manufacturing Director\",\"Manufacturing Director\",\"Research Director\",\"Research Director\",\"Sales Representative\",\"Research Scientist\",\"Laboratory Technician\",\"Healthcare Representative\",\"Manufacturing Director\",\"Healthcare Representative\",\"Manager\",\"Research Director\",\"Sales Executive\",\"Research Scientist\",\"Sales Executive\",\"Sales Executive\",\"Research Scientist\",\"Sales Executive\",\"Laboratory Technician\",\"Laboratory Technician\",\"Manager\",\"Manager\",\"Sales Executive\",\"Sales Representative\",\"Sales Executive\",\"Healthcare Representative\",\"Human Resources\",\"Laboratory Technician\",\"Laboratory Technician\",\"Healthcare Representative\",\"Sales Representative\",\"Laboratory Technician\",\"Laboratory Technician\",\"Research Scientist\",\"Laboratory Technician\",\"Healthcare Representative\",\"Laboratory Technician\",\"Sales Executive\",\"Research Scientist\",\"Sales Representative\",\"Healthcare Representative\",\"Research Scientist\",\"Sales Executive\",\"Research Scientist\",\"Sales Executive\",\"Laboratory Technician\",\"Sales Representative\",\"Healthcare Representative\",\"Human Resources\",\"Sales Executive\",\"Laboratory Technician\",\"Research Director\",\"Research Scientist\",\"Laboratory Technician\",\"Human Resources\",\"Manufacturing Director\",\"Laboratory Technician\",\"Healthcare Representative\",\"Manufacturing Director\",\"Research Scientist\",\"Sales Executive\",\"Sales Executive\",\"Sales Executive\",\"Sales Executive\",\"Laboratory Technician\",\"Manufacturing Director\",\"Laboratory Technician\",\"Sales Executive\",\"Manager\",\"Human Resources\",\"Research Scientist\",\"Human Resources\",\"Human Resources\",\"Sales Executive\",\"Research Scientist\",\"Sales Representative\",\"Healthcare Representative\",\"Sales Executive\",\"Research Scientist\",\"Sales Executive\",\"Sales Executive\",\"Sales Executive\",\"Laboratory Technician\",\"Sales Executive\",\"Research Scientist\",\"Healthcare Representative\",\"Research Scientist\",\"Healthcare Representative\",\"Research Scientist\",\"Laboratory Technician\",\"Research Director\",\"Research Scientist\",\"Laboratory Technician\",\"Sales Executive\",\"Manufacturing Director\",\"Human Resources\",\"Sales Executive\",\"Sales Representative\",\"Laboratory Technician\",\"Laboratory Technician\",\"Sales Executive\",\"Manager\",\"Sales Executive\",\"Research Director\",\"Healthcare Representative\",\"Research Scientist\",\"Human Resources\",\"Sales Executive\",\"Research Scientist\",\"Research Scientist\",\"Research Director\",\"Sales Executive\",\"Laboratory Technician\",\"Healthcare Representative\",\"Manufacturing Director\",\"Human Resources\",\"Laboratory Technician\",\"Manufacturing Director\",\"Sales Executive\",\"Research Scientist\",\"Healthcare Representative\",\"Sales Executive\",\"Manufacturing Director\",\"Human Resources\",\"Healthcare Representative\",\"Healthcare Representative\",\"Sales Executive\",\"Manager\",\"Laboratory Technician\",\"Manufacturing Director\",\"Healthcare Representative\",\"Research Scientist\",\"Sales Executive\",\"Research Scientist\",\"Sales Representative\",\"Sales Executive\",\"Research Director\",\"Research Scientist\",\"Human Resources\",\"Human Resources\",\"Sales Executive\",\"Research Scientist\",\"Sales Executive\",\"Laboratory Technician\",\"Laboratory Technician\",\"Sales Executive\",\"Research Scientist\",\"Laboratory Technician\",\"Manufacturing Director\",\"Human Resources\",\"Healthcare Representative\",\"Laboratory Technician\",\"Sales Executive\",\"Sales Executive\",\"Sales Representative\",\"Human Resources\",\"Manager\",\"Research Director\",\"Research Scientist\",\"Sales Executive\",\"Research Scientist\",\"Research Scientist\",\"Research Scientist\",\"Sales Representative\",\"Sales Representative\",\"Research Scientist\",\"Sales Executive\",\"Laboratory Technician\",\"Sales Executive\",\"Laboratory Technician\",\"Research Scientist\",\"Manufacturing Director\",\"Manufacturing Director\",\"Human Resources\",\"Manager\",\"Research Scientist\",\"Sales Executive\",\"Manager\",\"Healthcare Representative\",\"Research Scientist\",\"Laboratory Technician\",\"Sales Executive\",\"Sales Executive\",\"Research Director\",\"Sales Executive\",\"Sales Executive\",\"Laboratory Technician\",\"Laboratory Technician\",\"Healthcare Representative\",\"Sales Executive\",\"Sales Executive\",\"Sales Representative\",\"Sales Executive\",\"Research Scientist\",\"Research Scientist\",\"Sales Executive\",\"Research Scientist\",\"Sales Executive\",\"Manufacturing Director\",\"Research Scientist\",\"Manager\",\"Research Scientist\",\"Research Scientist\",\"Research Director\",\"Sales Executive\",\"Human Resources\",\"Sales Executive\",\"Research Scientist\",\"Research Scientist\",\"Laboratory Technician\",\"Sales Executive\",\"Sales Executive\",\"Laboratory Technician\",\"Healthcare Representative\",\"Healthcare Representative\",\"Research Scientist\",\"Laboratory Technician\",\"Sales Representative\",\"Sales Executive\",\"Sales Executive\",\"Manufacturing Director\",\"Sales Executive\",\"Sales Executive\",\"Research Scientist\",\"Healthcare Representative\",\"Healthcare Representative\",\"Human Resources\",\"Manager\",\"Laboratory Technician\",\"Sales Executive\",\"Research Scientist\",\"Research Director\",\"Manufacturing Director\",\"Healthcare Representative\",\"Laboratory Technician\",\"Laboratory Technician\",\"Sales Executive\",\"Human Resources\",\"Laboratory Technician\",\"Laboratory Technician\",\"Healthcare Representative\",\"Laboratory Technician\",\"Sales Executive\",\"Sales Representative\",\"Manufacturing Director\",\"Research Scientist\",\"Research Scientist\",\"Research Director\",\"Laboratory Technician\",\"Research Scientist\",\"Research Scientist\",\"Healthcare Representative\",\"Laboratory Technician\",\"Laboratory Technician\",\"Sales Representative\",\"Research Scientist\",\"Research Director\",\"Sales Executive\",\"Research Director\",\"Sales Executive\",\"Sales Representative\",\"Research Scientist\",\"Sales Representative\",\"Manager\",\"Sales Representative\",\"Sales Executive\",\"Manufacturing Director\",\"Healthcare Representative\",\"Research Scientist\",\"Manager\",\"Laboratory Technician\",\"Manufacturing Director\",\"Sales Executive\",\"Sales Executive\",\"Sales Executive\",\"Research Scientist\",\"Human Resources\",\"Sales Executive\",\"Sales Executive\",\"Sales Executive\",\"Sales Executive\",\"Research Scientist\",\"Healthcare Representative\",\"Research Scientist\",\"Research Scientist\",\"Laboratory Technician\",\"Research Scientist\",\"Sales Executive\",\"Sales Executive\",\"Manufacturing Director\",\"Sales Representative\",\"Laboratory Technician\",\"Healthcare Representative\",\"Manufacturing Director\",\"Sales Executive\",\"Laboratory Technician\"],\"legendgroup\":\"\",\"name\":\"\",\"showlegend\":true,\"type\":\"pie\"}],                        {\"template\":{\"data\":{\"histogram2dcontour\":[{\"type\":\"histogram2dcontour\",\"colorbar\":{\"outlinewidth\":0,\"ticks\":\"\"},\"colorscale\":[[0.0,\"#0d0887\"],[0.1111111111111111,\"#46039f\"],[0.2222222222222222,\"#7201a8\"],[0.3333333333333333,\"#9c179e\"],[0.4444444444444444,\"#bd3786\"],[0.5555555555555556,\"#d8576b\"],[0.6666666666666666,\"#ed7953\"],[0.7777777777777778,\"#fb9f3a\"],[0.8888888888888888,\"#fdca26\"],[1.0,\"#f0f921\"]]}],\"choropleth\":[{\"type\":\"choropleth\",\"colorbar\":{\"outlinewidth\":0,\"ticks\":\"\"}}],\"histogram2d\":[{\"type\":\"histogram2d\",\"colorbar\":{\"outlinewidth\":0,\"ticks\":\"\"},\"colorscale\":[[0.0,\"#0d0887\"],[0.1111111111111111,\"#46039f\"],[0.2222222222222222,\"#7201a8\"],[0.3333333333333333,\"#9c179e\"],[0.4444444444444444,\"#bd3786\"],[0.5555555555555556,\"#d8576b\"],[0.6666666666666666,\"#ed7953\"],[0.7777777777777778,\"#fb9f3a\"],[0.8888888888888888,\"#fdca26\"],[1.0,\"#f0f921\"]]}],\"heatmap\":[{\"type\":\"heatmap\",\"colorbar\":{\"outlinewidth\":0,\"ticks\":\"\"},\"colorscale\":[[0.0,\"#0d0887\"],[0.1111111111111111,\"#46039f\"],[0.2222222222222222,\"#7201a8\"],[0.3333333333333333,\"#9c179e\"],[0.4444444444444444,\"#bd3786\"],[0.5555555555555556,\"#d8576b\"],[0.6666666666666666,\"#ed7953\"],[0.7777777777777778,\"#fb9f3a\"],[0.8888888888888888,\"#fdca26\"],[1.0,\"#f0f921\"]]}],\"heatmapgl\":[{\"type\":\"heatmapgl\",\"colorbar\":{\"outlinewidth\":0,\"ticks\":\"\"},\"colorscale\":[[0.0,\"#0d0887\"],[0.1111111111111111,\"#46039f\"],[0.2222222222222222,\"#7201a8\"],[0.3333333333333333,\"#9c179e\"],[0.4444444444444444,\"#bd3786\"],[0.5555555555555556,\"#d8576b\"],[0.6666666666666666,\"#ed7953\"],[0.7777777777777778,\"#fb9f3a\"],[0.8888888888888888,\"#fdca26\"],[1.0,\"#f0f921\"]]}],\"contourcarpet\":[{\"type\":\"contourcarpet\",\"colorbar\":{\"outlinewidth\":0,\"ticks\":\"\"}}],\"contour\":[{\"type\":\"contour\",\"colorbar\":{\"outlinewidth\":0,\"ticks\":\"\"},\"colorscale\":[[0.0,\"#0d0887\"],[0.1111111111111111,\"#46039f\"],[0.2222222222222222,\"#7201a8\"],[0.3333333333333333,\"#9c179e\"],[0.4444444444444444,\"#bd3786\"],[0.5555555555555556,\"#d8576b\"],[0.6666666666666666,\"#ed7953\"],[0.7777777777777778,\"#fb9f3a\"],[0.8888888888888888,\"#fdca26\"],[1.0,\"#f0f921\"]]}],\"surface\":[{\"type\":\"surface\",\"colorbar\":{\"outlinewidth\":0,\"ticks\":\"\"},\"colorscale\":[[0.0,\"#0d0887\"],[0.1111111111111111,\"#46039f\"],[0.2222222222222222,\"#7201a8\"],[0.3333333333333333,\"#9c179e\"],[0.4444444444444444,\"#bd3786\"],[0.5555555555555556,\"#d8576b\"],[0.6666666666666666,\"#ed7953\"],[0.7777777777777778,\"#fb9f3a\"],[0.8888888888888888,\"#fdca26\"],[1.0,\"#f0f921\"]]}],\"mesh3d\":[{\"type\":\"mesh3d\",\"colorbar\":{\"outlinewidth\":0,\"ticks\":\"\"}}],\"scatter\":[{\"fillpattern\":{\"fillmode\":\"overlay\",\"size\":10,\"solidity\":0.2},\"type\":\"scatter\"}],\"parcoords\":[{\"type\":\"parcoords\",\"line\":{\"colorbar\":{\"outlinewidth\":0,\"ticks\":\"\"}}}],\"scatterpolargl\":[{\"type\":\"scatterpolargl\",\"marker\":{\"colorbar\":{\"outlinewidth\":0,\"ticks\":\"\"}}}],\"bar\":[{\"error_x\":{\"color\":\"#2a3f5f\"},\"error_y\":{\"color\":\"#2a3f5f\"},\"marker\":{\"line\":{\"color\":\"#E5ECF6\",\"width\":0.5},\"pattern\":{\"fillmode\":\"overlay\",\"size\":10,\"solidity\":0.2}},\"type\":\"bar\"}],\"scattergeo\":[{\"type\":\"scattergeo\",\"marker\":{\"colorbar\":{\"outlinewidth\":0,\"ticks\":\"\"}}}],\"scatterpolar\":[{\"type\":\"scatterpolar\",\"marker\":{\"colorbar\":{\"outlinewidth\":0,\"ticks\":\"\"}}}],\"histogram\":[{\"marker\":{\"pattern\":{\"fillmode\":\"overlay\",\"size\":10,\"solidity\":0.2}},\"type\":\"histogram\"}],\"scattergl\":[{\"type\":\"scattergl\",\"marker\":{\"colorbar\":{\"outlinewidth\":0,\"ticks\":\"\"}}}],\"scatter3d\":[{\"type\":\"scatter3d\",\"line\":{\"colorbar\":{\"outlinewidth\":0,\"ticks\":\"\"}},\"marker\":{\"colorbar\":{\"outlinewidth\":0,\"ticks\":\"\"}}}],\"scattermapbox\":[{\"type\":\"scattermapbox\",\"marker\":{\"colorbar\":{\"outlinewidth\":0,\"ticks\":\"\"}}}],\"scatterternary\":[{\"type\":\"scatterternary\",\"marker\":{\"colorbar\":{\"outlinewidth\":0,\"ticks\":\"\"}}}],\"scattercarpet\":[{\"type\":\"scattercarpet\",\"marker\":{\"colorbar\":{\"outlinewidth\":0,\"ticks\":\"\"}}}],\"carpet\":[{\"aaxis\":{\"endlinecolor\":\"#2a3f5f\",\"gridcolor\":\"white\",\"linecolor\":\"white\",\"minorgridcolor\":\"white\",\"startlinecolor\":\"#2a3f5f\"},\"baxis\":{\"endlinecolor\":\"#2a3f5f\",\"gridcolor\":\"white\",\"linecolor\":\"white\",\"minorgridcolor\":\"white\",\"startlinecolor\":\"#2a3f5f\"},\"type\":\"carpet\"}],\"table\":[{\"cells\":{\"fill\":{\"color\":\"#EBF0F8\"},\"line\":{\"color\":\"white\"}},\"header\":{\"fill\":{\"color\":\"#C8D4E3\"},\"line\":{\"color\":\"white\"}},\"type\":\"table\"}],\"barpolar\":[{\"marker\":{\"line\":{\"color\":\"#E5ECF6\",\"width\":0.5},\"pattern\":{\"fillmode\":\"overlay\",\"size\":10,\"solidity\":0.2}},\"type\":\"barpolar\"}],\"pie\":[{\"automargin\":true,\"type\":\"pie\"}]},\"layout\":{\"autotypenumbers\":\"strict\",\"colorway\":[\"#636efa\",\"#EF553B\",\"#00cc96\",\"#ab63fa\",\"#FFA15A\",\"#19d3f3\",\"#FF6692\",\"#B6E880\",\"#FF97FF\",\"#FECB52\"],\"font\":{\"color\":\"#2a3f5f\"},\"hovermode\":\"closest\",\"hoverlabel\":{\"align\":\"left\"},\"paper_bgcolor\":\"white\",\"plot_bgcolor\":\"#E5ECF6\",\"polar\":{\"bgcolor\":\"#E5ECF6\",\"angularaxis\":{\"gridcolor\":\"white\",\"linecolor\":\"white\",\"ticks\":\"\"},\"radialaxis\":{\"gridcolor\":\"white\",\"linecolor\":\"white\",\"ticks\":\"\"}},\"ternary\":{\"bgcolor\":\"#E5ECF6\",\"aaxis\":{\"gridcolor\":\"white\",\"linecolor\":\"white\",\"ticks\":\"\"},\"baxis\":{\"gridcolor\":\"white\",\"linecolor\":\"white\",\"ticks\":\"\"},\"caxis\":{\"gridcolor\":\"white\",\"linecolor\":\"white\",\"ticks\":\"\"}},\"coloraxis\":{\"colorbar\":{\"outlinewidth\":0,\"ticks\":\"\"}},\"colorscale\":{\"sequential\":[[0.0,\"#0d0887\"],[0.1111111111111111,\"#46039f\"],[0.2222222222222222,\"#7201a8\"],[0.3333333333333333,\"#9c179e\"],[0.4444444444444444,\"#bd3786\"],[0.5555555555555556,\"#d8576b\"],[0.6666666666666666,\"#ed7953\"],[0.7777777777777778,\"#fb9f3a\"],[0.8888888888888888,\"#fdca26\"],[1.0,\"#f0f921\"]],\"sequentialminus\":[[0.0,\"#0d0887\"],[0.1111111111111111,\"#46039f\"],[0.2222222222222222,\"#7201a8\"],[0.3333333333333333,\"#9c179e\"],[0.4444444444444444,\"#bd3786\"],[0.5555555555555556,\"#d8576b\"],[0.6666666666666666,\"#ed7953\"],[0.7777777777777778,\"#fb9f3a\"],[0.8888888888888888,\"#fdca26\"],[1.0,\"#f0f921\"]],\"diverging\":[[0,\"#8e0152\"],[0.1,\"#c51b7d\"],[0.2,\"#de77ae\"],[0.3,\"#f1b6da\"],[0.4,\"#fde0ef\"],[0.5,\"#f7f7f7\"],[0.6,\"#e6f5d0\"],[0.7,\"#b8e186\"],[0.8,\"#7fbc41\"],[0.9,\"#4d9221\"],[1,\"#276419\"]]},\"xaxis\":{\"gridcolor\":\"white\",\"linecolor\":\"white\",\"ticks\":\"\",\"title\":{\"standoff\":15},\"zerolinecolor\":\"white\",\"automargin\":true,\"zerolinewidth\":2},\"yaxis\":{\"gridcolor\":\"white\",\"linecolor\":\"white\",\"ticks\":\"\",\"title\":{\"standoff\":15},\"zerolinecolor\":\"white\",\"automargin\":true,\"zerolinewidth\":2},\"scene\":{\"xaxis\":{\"backgroundcolor\":\"#E5ECF6\",\"gridcolor\":\"white\",\"linecolor\":\"white\",\"showbackground\":true,\"ticks\":\"\",\"zerolinecolor\":\"white\",\"gridwidth\":2},\"yaxis\":{\"backgroundcolor\":\"#E5ECF6\",\"gridcolor\":\"white\",\"linecolor\":\"white\",\"showbackground\":true,\"ticks\":\"\",\"zerolinecolor\":\"white\",\"gridwidth\":2},\"zaxis\":{\"backgroundcolor\":\"#E5ECF6\",\"gridcolor\":\"white\",\"linecolor\":\"white\",\"showbackground\":true,\"ticks\":\"\",\"zerolinecolor\":\"white\",\"gridwidth\":2}},\"shapedefaults\":{\"line\":{\"color\":\"#2a3f5f\"}},\"annotationdefaults\":{\"arrowcolor\":\"#2a3f5f\",\"arrowhead\":0,\"arrowwidth\":1},\"geo\":{\"bgcolor\":\"white\",\"landcolor\":\"#E5ECF6\",\"subunitcolor\":\"white\",\"showland\":true,\"showlakes\":true,\"lakecolor\":\"white\"},\"title\":{\"x\":0.05},\"mapbox\":{\"style\":\"light\"}}},\"legend\":{\"tracegroupgap\":0},\"title\":{\"text\":\"Total Number of people by JobRole\"}},                        {\"responsive\": true}                    ).then(function(){\n",
              "                            \n",
              "var gd = document.getElementById('0ae8a5c8-53ca-4cff-b761-a5b6da590ca8');\n",
              "var x = new MutationObserver(function (mutations, observer) {{\n",
              "        var display = window.getComputedStyle(gd).display;\n",
              "        if (!display || display === 'none') {{\n",
              "            console.log([gd, 'removed!']);\n",
              "            Plotly.purge(gd);\n",
              "            observer.disconnect();\n",
              "        }}\n",
              "}});\n",
              "\n",
              "// Listen for the removal of the full notebook cells\n",
              "var notebookContainer = gd.closest('#notebook-container');\n",
              "if (notebookContainer) {{\n",
              "    x.observe(notebookContainer, {childList: true});\n",
              "}}\n",
              "\n",
              "// Listen for the clearing of the current output cell\n",
              "var outputEl = gd.closest('.output');\n",
              "if (outputEl) {{\n",
              "    x.observe(outputEl, {childList: true});\n",
              "}}\n",
              "\n",
              "                        })                };                            </script>        </div>\n",
              "</body>\n",
              "</html>"
            ]
          },
          "metadata": {}
        }
      ]
    },
    {
      "cell_type": "code",
      "source": [
        "Types_Of_JobSatisfaction_counts = HRAnalytics['JobSatisfaction'].value_counts()\n",
        "print('Number_of_people_by_JobSatisfaction\\n',Types_Of_JobSatisfaction_counts)"
      ],
      "metadata": {
        "colab": {
          "base_uri": "https://localhost:8080/"
        },
        "id": "DJWrSklQENPe",
        "outputId": "5880a838-47c2-4e78-be8c-11d8e2fa7d27"
      },
      "execution_count": 31,
      "outputs": [
        {
          "output_type": "stream",
          "name": "stdout",
          "text": [
            "Number_of_people_by_JobSatisfaction\n",
            " 4    459\n",
            "3    442\n",
            "1    289\n",
            "2    280\n",
            "Name: JobSatisfaction, dtype: int64\n"
          ]
        }
      ]
    },
    {
      "cell_type": "code",
      "source": [
        "Types_Of_MaritalStatus_counts = HRAnalytics['MaritalStatus'].value_counts()\n",
        "print('Number_of_people_by_MaritalStatus\\n',Types_Of_MaritalStatus_counts)"
      ],
      "metadata": {
        "colab": {
          "base_uri": "https://localhost:8080/"
        },
        "id": "3WfSbvHjEfj1",
        "outputId": "9a862232-593c-4438-c23e-4cc6b9e6990a"
      },
      "execution_count": 32,
      "outputs": [
        {
          "output_type": "stream",
          "name": "stdout",
          "text": [
            "Number_of_people_by_MaritalStatus\n",
            " Married     673\n",
            "Single      470\n",
            "Divorced    327\n",
            "Name: MaritalStatus, dtype: int64\n"
          ]
        }
      ]
    },
    {
      "cell_type": "code",
      "source": [
        "fig = px.pie(HRAnalytics,names='MaritalStatus',title='Total Number of people by Marital_Status')\n",
        "fig.show()"
      ],
      "metadata": {
        "colab": {
          "base_uri": "https://localhost:8080/",
          "height": 542
        },
        "id": "eP0eWJxOQu57",
        "outputId": "d5dcc799-a1ff-488e-bbfd-b0a37af3088f"
      },
      "execution_count": 33,
      "outputs": [
        {
          "output_type": "display_data",
          "data": {
            "text/html": [
              "<html>\n",
              "<head><meta charset=\"utf-8\" /></head>\n",
              "<body>\n",
              "    <div>            <script src=\"https://cdnjs.cloudflare.com/ajax/libs/mathjax/2.7.5/MathJax.js?config=TeX-AMS-MML_SVG\"></script><script type=\"text/javascript\">if (window.MathJax && window.MathJax.Hub && window.MathJax.Hub.Config) {window.MathJax.Hub.Config({SVG: {font: \"STIX-Web\"}});}</script>                <script type=\"text/javascript\">window.PlotlyConfig = {MathJaxConfig: 'local'};</script>\n",
              "        <script charset=\"utf-8\" src=\"https://cdn.plot.ly/plotly-2.24.1.min.js\"></script>                <div id=\"ce5f0e9d-9d7b-4eb7-a10c-88a62d8661c5\" class=\"plotly-graph-div\" style=\"height:525px; width:100%;\"></div>            <script type=\"text/javascript\">                                    window.PLOTLYENV=window.PLOTLYENV || {};                                    if (document.getElementById(\"ce5f0e9d-9d7b-4eb7-a10c-88a62d8661c5\")) {                    Plotly.newPlot(                        \"ce5f0e9d-9d7b-4eb7-a10c-88a62d8661c5\",                        [{\"domain\":{\"x\":[0.0,1.0],\"y\":[0.0,1.0]},\"hovertemplate\":\"MaritalStatus=%{label}\\u003cextra\\u003e\\u003c\\u002fextra\\u003e\",\"labels\":[\"Single\",\"Married\",\"Single\",\"Married\",\"Married\",\"Single\",\"Married\",\"Divorced\",\"Single\",\"Married\",\"Married\",\"Single\",\"Divorced\",\"Divorced\",\"Single\",\"Divorced\",\"Divorced\",\"Divorced\",\"Married\",\"Single\",\"Divorced\",\"Single\",\"Single\",\"Single\",\"Single\",\"Divorced\",\"Single\",\"Married\",\"Married\",\"Single\",\"Single\",\"Married\",\"Single\",\"Married\",\"Married\",\"Divorced\",\"Married\",\"Married\",\"Married\",\"Married\",\"Divorced\",\"Divorced\",\"Single\",\"Single\",\"Single\",\"Married\",\"Single\",\"Married\",\"Single\",\"Married\",\"Single\",\"Single\",\"Divorced\",\"Married\",\"Married\",\"Single\",\"Married\",\"Married\",\"Divorced\",\"Divorced\",\"Married\",\"Single\",\"Divorced\",\"Single\",\"Divorced\",\"Divorced\",\"Single\",\"Divorced\",\"Married\",\"Married\",\"Single\",\"Married\",\"Single\",\"Married\",\"Married\",\"Single\",\"Single\",\"Married\",\"Single\",\"Divorced\",\"Married\",\"Single\",\"Married\",\"Divorced\",\"Married\",\"Single\",\"Divorced\",\"Married\",\"Married\",\"Single\",\"Married\",\"Single\",\"Divorced\",\"Married\",\"Single\",\"Married\",\"Married\",\"Married\",\"Single\",\"Married\",\"Divorced\",\"Single\",\"Single\",\"Single\",\"Divorced\",\"Married\",\"Married\",\"Single\",\"Married\",\"Single\",\"Single\",\"Single\",\"Single\",\"Married\",\"Divorced\",\"Single\",\"Single\",\"Married\",\"Divorced\",\"Married\",\"Divorced\",\"Married\",\"Married\",\"Single\",\"Married\",\"Married\",\"Married\",\"Single\",\"Married\",\"Married\",\"Single\",\"Single\",\"Married\",\"Divorced\",\"Married\",\"Divorced\",\"Single\",\"Married\",\"Married\",\"Married\",\"Single\",\"Single\",\"Single\",\"Single\",\"Divorced\",\"Divorced\",\"Single\",\"Divorced\",\"Married\",\"Single\",\"Divorced\",\"Married\",\"Married\",\"Divorced\",\"Single\",\"Married\",\"Married\",\"Married\",\"Married\",\"Married\",\"Married\",\"Divorced\",\"Married\",\"Divorced\",\"Divorced\",\"Single\",\"Divorced\",\"Married\",\"Single\",\"Single\",\"Married\",\"Single\",\"Single\",\"Divorced\",\"Divorced\",\"Divorced\",\"Single\",\"Single\",\"Divorced\",\"Single\",\"Married\",\"Single\",\"Single\",\"Married\",\"Divorced\",\"Married\",\"Married\",\"Single\",\"Married\",\"Single\",\"Married\",\"Single\",\"Married\",\"Divorced\",\"Married\",\"Married\",\"Single\",\"Divorced\",\"Married\",\"Married\",\"Married\",\"Divorced\",\"Divorced\",\"Married\",\"Married\",\"Married\",\"Divorced\",\"Single\",\"Married\",\"Divorced\",\"Married\",\"Single\",\"Single\",\"Married\",\"Single\",\"Single\",\"Single\",\"Single\",\"Single\",\"Married\",\"Single\",\"Married\",\"Divorced\",\"Divorced\",\"Married\",\"Married\",\"Divorced\",\"Married\",\"Single\",\"Single\",\"Single\",\"Married\",\"Married\",\"Divorced\",\"Married\",\"Married\",\"Married\",\"Single\",\"Married\",\"Single\",\"Divorced\",\"Married\",\"Divorced\",\"Divorced\",\"Married\",\"Divorced\",\"Married\",\"Married\",\"Married\",\"Married\",\"Divorced\",\"Single\",\"Single\",\"Single\",\"Divorced\",\"Married\",\"Divorced\",\"Divorced\",\"Married\",\"Single\",\"Married\",\"Married\",\"Single\",\"Married\",\"Single\",\"Married\",\"Married\",\"Divorced\",\"Married\",\"Married\",\"Single\",\"Married\",\"Married\",\"Married\",\"Single\",\"Divorced\",\"Divorced\",\"Divorced\",\"Divorced\",\"Divorced\",\"Married\",\"Married\",\"Single\",\"Married\",\"Married\",\"Single\",\"Divorced\",\"Divorced\",\"Divorced\",\"Single\",\"Single\",\"Single\",\"Divorced\",\"Single\",\"Married\",\"Married\",\"Single\",\"Married\",\"Married\",\"Divorced\",\"Single\",\"Single\",\"Single\",\"Married\",\"Divorced\",\"Married\",\"Married\",\"Married\",\"Divorced\",\"Married\",\"Married\",\"Divorced\",\"Divorced\",\"Married\",\"Married\",\"Single\",\"Single\",\"Married\",\"Single\",\"Married\",\"Single\",\"Divorced\",\"Single\",\"Married\",\"Married\",\"Married\",\"Married\",\"Married\",\"Single\",\"Married\",\"Divorced\",\"Married\",\"Single\",\"Married\",\"Married\",\"Married\",\"Married\",\"Single\",\"Divorced\",\"Married\",\"Divorced\",\"Divorced\",\"Single\",\"Divorced\",\"Single\",\"Divorced\",\"Single\",\"Single\",\"Single\",\"Married\",\"Divorced\",\"Married\",\"Married\",\"Divorced\",\"Married\",\"Married\",\"Single\",\"Single\",\"Single\",\"Married\",\"Married\",\"Married\",\"Single\",\"Single\",\"Married\",\"Married\",\"Single\",\"Single\",\"Married\",\"Single\",\"Single\",\"Single\",\"Single\",\"Divorced\",\"Single\",\"Single\",\"Married\",\"Married\",\"Single\",\"Single\",\"Divorced\",\"Married\",\"Single\",\"Married\",\"Married\",\"Single\",\"Divorced\",\"Divorced\",\"Divorced\",\"Single\",\"Divorced\",\"Married\",\"Married\",\"Married\",\"Married\",\"Married\",\"Divorced\",\"Single\",\"Married\",\"Married\",\"Divorced\",\"Married\",\"Single\",\"Married\",\"Divorced\",\"Married\",\"Married\",\"Married\",\"Married\",\"Divorced\",\"Single\",\"Married\",\"Divorced\",\"Married\",\"Single\",\"Divorced\",\"Married\",\"Married\",\"Divorced\",\"Married\",\"Married\",\"Married\",\"Single\",\"Married\",\"Divorced\",\"Married\",\"Single\",\"Married\",\"Divorced\",\"Married\",\"Single\",\"Single\",\"Divorced\",\"Married\",\"Divorced\",\"Married\",\"Divorced\",\"Single\",\"Married\",\"Married\",\"Divorced\",\"Married\",\"Single\",\"Single\",\"Married\",\"Single\",\"Single\",\"Married\",\"Single\",\"Married\",\"Single\",\"Married\",\"Married\",\"Divorced\",\"Divorced\",\"Divorced\",\"Divorced\",\"Single\",\"Divorced\",\"Single\",\"Divorced\",\"Single\",\"Single\",\"Single\",\"Single\",\"Married\",\"Married\",\"Divorced\",\"Divorced\",\"Married\",\"Married\",\"Married\",\"Married\",\"Divorced\",\"Married\",\"Married\",\"Married\",\"Married\",\"Married\",\"Married\",\"Married\",\"Married\",\"Divorced\",\"Single\",\"Divorced\",\"Divorced\",\"Married\",\"Single\",\"Married\",\"Divorced\",\"Single\",\"Divorced\",\"Married\",\"Single\",\"Divorced\",\"Divorced\",\"Single\",\"Married\",\"Married\",\"Divorced\",\"Married\",\"Divorced\",\"Single\",\"Married\",\"Married\",\"Married\",\"Married\",\"Married\",\"Single\",\"Divorced\",\"Married\",\"Divorced\",\"Single\",\"Single\",\"Single\",\"Married\",\"Married\",\"Married\",\"Single\",\"Divorced\",\"Married\",\"Divorced\",\"Single\",\"Married\",\"Single\",\"Single\",\"Single\",\"Single\",\"Married\",\"Single\",\"Married\",\"Single\",\"Single\",\"Married\",\"Married\",\"Divorced\",\"Single\",\"Divorced\",\"Married\",\"Married\",\"Single\",\"Married\",\"Single\",\"Single\",\"Divorced\",\"Divorced\",\"Single\",\"Divorced\",\"Married\",\"Single\",\"Married\",\"Married\",\"Married\",\"Single\",\"Single\",\"Divorced\",\"Single\",\"Divorced\",\"Married\",\"Married\",\"Divorced\",\"Married\",\"Single\",\"Single\",\"Single\",\"Single\",\"Single\",\"Single\",\"Married\",\"Single\",\"Married\",\"Divorced\",\"Married\",\"Single\",\"Single\",\"Divorced\",\"Married\",\"Divorced\",\"Single\",\"Single\",\"Married\",\"Married\",\"Married\",\"Married\",\"Divorced\",\"Married\",\"Divorced\",\"Married\",\"Married\",\"Married\",\"Married\",\"Single\",\"Married\",\"Married\",\"Married\",\"Single\",\"Single\",\"Married\",\"Single\",\"Married\",\"Married\",\"Single\",\"Single\",\"Single\",\"Married\",\"Divorced\",\"Single\",\"Married\",\"Single\",\"Married\",\"Divorced\",\"Single\",\"Married\",\"Married\",\"Married\",\"Married\",\"Married\",\"Single\",\"Single\",\"Divorced\",\"Single\",\"Married\",\"Divorced\",\"Divorced\",\"Married\",\"Divorced\",\"Married\",\"Married\",\"Divorced\",\"Divorced\",\"Married\",\"Married\",\"Single\",\"Married\",\"Married\",\"Married\",\"Divorced\",\"Divorced\",\"Married\",\"Married\",\"Married\",\"Married\",\"Married\",\"Married\",\"Married\",\"Divorced\",\"Married\",\"Married\",\"Married\",\"Single\",\"Married\",\"Married\",\"Single\",\"Divorced\",\"Married\",\"Divorced\",\"Single\",\"Divorced\",\"Married\",\"Single\",\"Divorced\",\"Divorced\",\"Single\",\"Single\",\"Married\",\"Single\",\"Married\",\"Divorced\",\"Divorced\",\"Married\",\"Single\",\"Divorced\",\"Single\",\"Single\",\"Divorced\",\"Married\",\"Married\",\"Married\",\"Married\",\"Married\",\"Single\",\"Married\",\"Married\",\"Married\",\"Divorced\",\"Single\",\"Single\",\"Single\",\"Single\",\"Single\",\"Married\",\"Divorced\",\"Married\",\"Married\",\"Single\",\"Married\",\"Married\",\"Married\",\"Married\",\"Married\",\"Single\",\"Divorced\",\"Divorced\",\"Single\",\"Divorced\",\"Single\",\"Single\",\"Divorced\",\"Divorced\",\"Single\",\"Single\",\"Single\",\"Single\",\"Divorced\",\"Divorced\",\"Married\",\"Divorced\",\"Married\",\"Married\",\"Single\",\"Married\",\"Married\",\"Married\",\"Divorced\",\"Divorced\",\"Divorced\",\"Married\",\"Single\",\"Married\",\"Divorced\",\"Married\",\"Single\",\"Single\",\"Married\",\"Married\",\"Single\",\"Single\",\"Single\",\"Married\",\"Married\",\"Divorced\",\"Married\",\"Married\",\"Single\",\"Married\",\"Married\",\"Divorced\",\"Single\",\"Single\",\"Married\",\"Married\",\"Married\",\"Single\",\"Single\",\"Single\",\"Married\",\"Single\",\"Divorced\",\"Married\",\"Single\",\"Married\",\"Divorced\",\"Married\",\"Married\",\"Married\",\"Married\",\"Married\",\"Single\",\"Married\",\"Divorced\",\"Divorced\",\"Married\",\"Married\",\"Single\",\"Single\",\"Divorced\",\"Single\",\"Single\",\"Divorced\",\"Married\",\"Single\",\"Married\",\"Married\",\"Married\",\"Married\",\"Married\",\"Married\",\"Married\",\"Single\",\"Married\",\"Divorced\",\"Single\",\"Single\",\"Divorced\",\"Single\",\"Divorced\",\"Married\",\"Divorced\",\"Single\",\"Married\",\"Divorced\",\"Single\",\"Married\",\"Married\",\"Single\",\"Married\",\"Single\",\"Divorced\",\"Divorced\",\"Divorced\",\"Married\",\"Single\",\"Married\",\"Divorced\",\"Single\",\"Single\",\"Single\",\"Single\",\"Married\",\"Married\",\"Divorced\",\"Married\",\"Single\",\"Divorced\",\"Single\",\"Married\",\"Married\",\"Divorced\",\"Single\",\"Single\",\"Married\",\"Married\",\"Divorced\",\"Married\",\"Married\",\"Single\",\"Married\",\"Single\",\"Single\",\"Single\",\"Married\",\"Single\",\"Married\",\"Married\",\"Married\",\"Married\",\"Divorced\",\"Single\",\"Married\",\"Single\",\"Divorced\",\"Divorced\",\"Married\",\"Single\",\"Married\",\"Married\",\"Single\",\"Single\",\"Divorced\",\"Married\",\"Married\",\"Married\",\"Single\",\"Married\",\"Divorced\",\"Divorced\",\"Married\",\"Married\",\"Married\",\"Married\",\"Married\",\"Married\",\"Married\",\"Divorced\",\"Divorced\",\"Single\",\"Single\",\"Divorced\",\"Married\",\"Divorced\",\"Married\",\"Single\",\"Divorced\",\"Married\",\"Divorced\",\"Single\",\"Married\",\"Married\",\"Married\",\"Married\",\"Divorced\",\"Married\",\"Single\",\"Divorced\",\"Married\",\"Married\",\"Single\",\"Single\",\"Married\",\"Married\",\"Married\",\"Single\",\"Divorced\",\"Divorced\",\"Single\",\"Divorced\",\"Married\",\"Married\",\"Divorced\",\"Single\",\"Married\",\"Single\",\"Single\",\"Single\",\"Divorced\",\"Single\",\"Married\",\"Single\",\"Divorced\",\"Single\",\"Divorced\",\"Single\",\"Divorced\",\"Married\",\"Married\",\"Married\",\"Single\",\"Single\",\"Married\",\"Married\",\"Single\",\"Single\",\"Divorced\",\"Single\",\"Single\",\"Married\",\"Single\",\"Divorced\",\"Divorced\",\"Married\",\"Single\",\"Married\",\"Married\",\"Single\",\"Married\",\"Married\",\"Single\",\"Single\",\"Married\",\"Single\",\"Divorced\",\"Single\",\"Single\",\"Married\",\"Married\",\"Married\",\"Single\",\"Divorced\",\"Divorced\",\"Single\",\"Divorced\",\"Single\",\"Divorced\",\"Divorced\",\"Single\",\"Married\",\"Married\",\"Married\",\"Married\",\"Single\",\"Married\",\"Single\",\"Single\",\"Married\",\"Single\",\"Single\",\"Married\",\"Divorced\",\"Divorced\",\"Married\",\"Single\",\"Married\",\"Divorced\",\"Single\",\"Married\",\"Married\",\"Married\",\"Married\",\"Divorced\",\"Married\",\"Married\",\"Married\",\"Married\",\"Married\",\"Married\",\"Single\",\"Married\",\"Single\",\"Single\",\"Married\",\"Married\",\"Single\",\"Single\",\"Married\",\"Single\",\"Single\",\"Single\",\"Single\",\"Single\",\"Married\",\"Divorced\",\"Single\",\"Single\",\"Divorced\",\"Single\",\"Divorced\",\"Single\",\"Married\",\"Single\",\"Married\",\"Married\",\"Married\",\"Single\",\"Married\",\"Married\",\"Married\",\"Married\",\"Married\",\"Married\",\"Divorced\",\"Divorced\",\"Divorced\",\"Single\",\"Single\",\"Divorced\",\"Single\",\"Married\",\"Married\",\"Divorced\",\"Married\",\"Divorced\",\"Single\",\"Single\",\"Single\",\"Married\",\"Divorced\",\"Single\",\"Married\",\"Single\",\"Married\",\"Single\",\"Married\",\"Divorced\",\"Married\",\"Divorced\",\"Divorced\",\"Married\",\"Single\",\"Single\",\"Married\",\"Single\",\"Married\",\"Single\",\"Divorced\",\"Divorced\",\"Married\",\"Married\",\"Married\",\"Single\",\"Divorced\",\"Single\",\"Married\",\"Married\",\"Married\",\"Single\",\"Single\",\"Divorced\",\"Single\",\"Married\",\"Single\",\"Married\",\"Single\",\"Single\",\"Single\",\"Married\",\"Single\",\"Single\",\"Married\",\"Married\",\"Married\",\"Married\",\"Single\",\"Married\",\"Married\",\"Married\",\"Married\",\"Single\",\"Divorced\",\"Divorced\",\"Divorced\",\"Married\",\"Married\",\"Single\",\"Divorced\",\"Married\",\"Married\",\"Married\",\"Married\",\"Single\",\"Married\",\"Divorced\",\"Married\",\"Married\",\"Married\",\"Married\",\"Single\",\"Married\",\"Married\",\"Married\",\"Married\",\"Single\",\"Single\",\"Single\",\"Single\",\"Married\",\"Divorced\",\"Married\",\"Married\",\"Married\",\"Single\",\"Married\",\"Married\",\"Married\",\"Divorced\",\"Married\",\"Single\",\"Married\",\"Married\",\"Married\",\"Married\",\"Divorced\",\"Married\",\"Single\",\"Married\",\"Single\",\"Married\",\"Divorced\",\"Married\",\"Married\",\"Divorced\",\"Married\",\"Divorced\",\"Single\",\"Single\",\"Married\",\"Divorced\",\"Married\",\"Married\",\"Married\",\"Single\",\"Divorced\",\"Married\",\"Married\",\"Married\",\"Single\",\"Married\",\"Married\",\"Divorced\",\"Single\",\"Married\",\"Single\",\"Single\",\"Single\",\"Married\",\"Divorced\",\"Married\",\"Married\",\"Divorced\",\"Single\",\"Divorced\",\"Single\",\"Married\",\"Married\",\"Divorced\",\"Married\",\"Married\",\"Single\",\"Married\",\"Divorced\",\"Divorced\",\"Divorced\",\"Married\",\"Divorced\",\"Single\",\"Divorced\",\"Single\",\"Single\",\"Single\",\"Divorced\",\"Married\",\"Divorced\",\"Single\",\"Married\",\"Married\",\"Married\",\"Single\",\"Single\",\"Divorced\",\"Married\",\"Divorced\",\"Married\",\"Divorced\",\"Married\",\"Divorced\",\"Married\",\"Single\",\"Married\",\"Married\",\"Single\",\"Married\",\"Single\",\"Married\",\"Married\",\"Married\",\"Married\",\"Single\",\"Married\",\"Married\",\"Married\",\"Married\",\"Divorced\",\"Single\",\"Married\",\"Married\",\"Married\",\"Divorced\",\"Divorced\",\"Single\",\"Single\",\"Single\",\"Married\",\"Married\",\"Single\",\"Married\",\"Single\",\"Married\",\"Divorced\",\"Married\",\"Single\",\"Single\",\"Single\",\"Divorced\",\"Married\",\"Single\",\"Single\",\"Single\",\"Married\",\"Married\",\"Divorced\",\"Married\",\"Single\",\"Married\",\"Married\",\"Divorced\",\"Married\",\"Divorced\",\"Divorced\",\"Divorced\",\"Married\",\"Single\",\"Single\",\"Single\",\"Married\",\"Married\",\"Married\",\"Married\",\"Married\",\"Divorced\",\"Married\",\"Divorced\",\"Divorced\",\"Single\",\"Married\",\"Married\",\"Single\",\"Single\",\"Married\",\"Married\",\"Divorced\",\"Divorced\",\"Married\",\"Single\",\"Divorced\",\"Single\",\"Single\",\"Divorced\",\"Single\",\"Married\",\"Married\",\"Divorced\",\"Married\",\"Divorced\",\"Married\",\"Divorced\",\"Divorced\",\"Married\",\"Married\",\"Married\",\"Married\",\"Single\",\"Married\",\"Single\",\"Married\",\"Divorced\",\"Married\",\"Married\",\"Married\",\"Single\",\"Married\",\"Single\",\"Married\",\"Single\",\"Divorced\",\"Divorced\",\"Divorced\",\"Single\",\"Single\",\"Divorced\",\"Married\",\"Married\",\"Married\",\"Married\",\"Single\",\"Married\",\"Married\",\"Divorced\",\"Married\",\"Married\",\"Single\",\"Single\",\"Married\",\"Divorced\",\"Married\",\"Single\",\"Married\",\"Married\",\"Married\",\"Single\",\"Divorced\",\"Married\",\"Single\",\"Divorced\",\"Married\",\"Married\",\"Single\",\"Married\",\"Married\",\"Married\",\"Divorced\",\"Married\",\"Divorced\",\"Married\",\"Single\",\"Single\",\"Married\",\"Single\",\"Married\",\"Married\",\"Married\",\"Single\",\"Married\",\"Married\",\"Married\",\"Divorced\",\"Married\",\"Single\",\"Divorced\",\"Married\",\"Divorced\",\"Married\",\"Married\",\"Single\",\"Divorced\",\"Married\",\"Single\",\"Divorced\",\"Single\",\"Married\",\"Divorced\",\"Married\",\"Divorced\",\"Single\",\"Married\",\"Single\",\"Single\",\"Married\",\"Single\",\"Married\",\"Divorced\",\"Married\",\"Married\",\"Married\",\"Divorced\",\"Single\",\"Single\",\"Married\",\"Single\",\"Single\",\"Single\",\"Married\",\"Married\",\"Married\",\"Married\",\"Divorced\",\"Single\",\"Divorced\",\"Married\",\"Married\",\"Married\",\"Divorced\",\"Married\",\"Married\",\"Married\",\"Single\",\"Single\",\"Married\",\"Single\",\"Married\",\"Married\",\"Single\",\"Married\",\"Married\",\"Married\",\"Divorced\",\"Divorced\",\"Single\",\"Single\",\"Single\",\"Married\",\"Married\",\"Divorced\",\"Divorced\",\"Married\",\"Married\",\"Married\",\"Married\",\"Married\",\"Divorced\",\"Divorced\",\"Single\",\"Single\",\"Married\",\"Divorced\",\"Married\",\"Single\",\"Single\",\"Married\",\"Married\",\"Married\",\"Married\",\"Single\",\"Divorced\",\"Married\",\"Single\",\"Single\",\"Married\",\"Married\",\"Married\",\"Married\",\"Married\"],\"legendgroup\":\"\",\"name\":\"\",\"showlegend\":true,\"type\":\"pie\"}],                        {\"template\":{\"data\":{\"histogram2dcontour\":[{\"type\":\"histogram2dcontour\",\"colorbar\":{\"outlinewidth\":0,\"ticks\":\"\"},\"colorscale\":[[0.0,\"#0d0887\"],[0.1111111111111111,\"#46039f\"],[0.2222222222222222,\"#7201a8\"],[0.3333333333333333,\"#9c179e\"],[0.4444444444444444,\"#bd3786\"],[0.5555555555555556,\"#d8576b\"],[0.6666666666666666,\"#ed7953\"],[0.7777777777777778,\"#fb9f3a\"],[0.8888888888888888,\"#fdca26\"],[1.0,\"#f0f921\"]]}],\"choropleth\":[{\"type\":\"choropleth\",\"colorbar\":{\"outlinewidth\":0,\"ticks\":\"\"}}],\"histogram2d\":[{\"type\":\"histogram2d\",\"colorbar\":{\"outlinewidth\":0,\"ticks\":\"\"},\"colorscale\":[[0.0,\"#0d0887\"],[0.1111111111111111,\"#46039f\"],[0.2222222222222222,\"#7201a8\"],[0.3333333333333333,\"#9c179e\"],[0.4444444444444444,\"#bd3786\"],[0.5555555555555556,\"#d8576b\"],[0.6666666666666666,\"#ed7953\"],[0.7777777777777778,\"#fb9f3a\"],[0.8888888888888888,\"#fdca26\"],[1.0,\"#f0f921\"]]}],\"heatmap\":[{\"type\":\"heatmap\",\"colorbar\":{\"outlinewidth\":0,\"ticks\":\"\"},\"colorscale\":[[0.0,\"#0d0887\"],[0.1111111111111111,\"#46039f\"],[0.2222222222222222,\"#7201a8\"],[0.3333333333333333,\"#9c179e\"],[0.4444444444444444,\"#bd3786\"],[0.5555555555555556,\"#d8576b\"],[0.6666666666666666,\"#ed7953\"],[0.7777777777777778,\"#fb9f3a\"],[0.8888888888888888,\"#fdca26\"],[1.0,\"#f0f921\"]]}],\"heatmapgl\":[{\"type\":\"heatmapgl\",\"colorbar\":{\"outlinewidth\":0,\"ticks\":\"\"},\"colorscale\":[[0.0,\"#0d0887\"],[0.1111111111111111,\"#46039f\"],[0.2222222222222222,\"#7201a8\"],[0.3333333333333333,\"#9c179e\"],[0.4444444444444444,\"#bd3786\"],[0.5555555555555556,\"#d8576b\"],[0.6666666666666666,\"#ed7953\"],[0.7777777777777778,\"#fb9f3a\"],[0.8888888888888888,\"#fdca26\"],[1.0,\"#f0f921\"]]}],\"contourcarpet\":[{\"type\":\"contourcarpet\",\"colorbar\":{\"outlinewidth\":0,\"ticks\":\"\"}}],\"contour\":[{\"type\":\"contour\",\"colorbar\":{\"outlinewidth\":0,\"ticks\":\"\"},\"colorscale\":[[0.0,\"#0d0887\"],[0.1111111111111111,\"#46039f\"],[0.2222222222222222,\"#7201a8\"],[0.3333333333333333,\"#9c179e\"],[0.4444444444444444,\"#bd3786\"],[0.5555555555555556,\"#d8576b\"],[0.6666666666666666,\"#ed7953\"],[0.7777777777777778,\"#fb9f3a\"],[0.8888888888888888,\"#fdca26\"],[1.0,\"#f0f921\"]]}],\"surface\":[{\"type\":\"surface\",\"colorbar\":{\"outlinewidth\":0,\"ticks\":\"\"},\"colorscale\":[[0.0,\"#0d0887\"],[0.1111111111111111,\"#46039f\"],[0.2222222222222222,\"#7201a8\"],[0.3333333333333333,\"#9c179e\"],[0.4444444444444444,\"#bd3786\"],[0.5555555555555556,\"#d8576b\"],[0.6666666666666666,\"#ed7953\"],[0.7777777777777778,\"#fb9f3a\"],[0.8888888888888888,\"#fdca26\"],[1.0,\"#f0f921\"]]}],\"mesh3d\":[{\"type\":\"mesh3d\",\"colorbar\":{\"outlinewidth\":0,\"ticks\":\"\"}}],\"scatter\":[{\"fillpattern\":{\"fillmode\":\"overlay\",\"size\":10,\"solidity\":0.2},\"type\":\"scatter\"}],\"parcoords\":[{\"type\":\"parcoords\",\"line\":{\"colorbar\":{\"outlinewidth\":0,\"ticks\":\"\"}}}],\"scatterpolargl\":[{\"type\":\"scatterpolargl\",\"marker\":{\"colorbar\":{\"outlinewidth\":0,\"ticks\":\"\"}}}],\"bar\":[{\"error_x\":{\"color\":\"#2a3f5f\"},\"error_y\":{\"color\":\"#2a3f5f\"},\"marker\":{\"line\":{\"color\":\"#E5ECF6\",\"width\":0.5},\"pattern\":{\"fillmode\":\"overlay\",\"size\":10,\"solidity\":0.2}},\"type\":\"bar\"}],\"scattergeo\":[{\"type\":\"scattergeo\",\"marker\":{\"colorbar\":{\"outlinewidth\":0,\"ticks\":\"\"}}}],\"scatterpolar\":[{\"type\":\"scatterpolar\",\"marker\":{\"colorbar\":{\"outlinewidth\":0,\"ticks\":\"\"}}}],\"histogram\":[{\"marker\":{\"pattern\":{\"fillmode\":\"overlay\",\"size\":10,\"solidity\":0.2}},\"type\":\"histogram\"}],\"scattergl\":[{\"type\":\"scattergl\",\"marker\":{\"colorbar\":{\"outlinewidth\":0,\"ticks\":\"\"}}}],\"scatter3d\":[{\"type\":\"scatter3d\",\"line\":{\"colorbar\":{\"outlinewidth\":0,\"ticks\":\"\"}},\"marker\":{\"colorbar\":{\"outlinewidth\":0,\"ticks\":\"\"}}}],\"scattermapbox\":[{\"type\":\"scattermapbox\",\"marker\":{\"colorbar\":{\"outlinewidth\":0,\"ticks\":\"\"}}}],\"scatterternary\":[{\"type\":\"scatterternary\",\"marker\":{\"colorbar\":{\"outlinewidth\":0,\"ticks\":\"\"}}}],\"scattercarpet\":[{\"type\":\"scattercarpet\",\"marker\":{\"colorbar\":{\"outlinewidth\":0,\"ticks\":\"\"}}}],\"carpet\":[{\"aaxis\":{\"endlinecolor\":\"#2a3f5f\",\"gridcolor\":\"white\",\"linecolor\":\"white\",\"minorgridcolor\":\"white\",\"startlinecolor\":\"#2a3f5f\"},\"baxis\":{\"endlinecolor\":\"#2a3f5f\",\"gridcolor\":\"white\",\"linecolor\":\"white\",\"minorgridcolor\":\"white\",\"startlinecolor\":\"#2a3f5f\"},\"type\":\"carpet\"}],\"table\":[{\"cells\":{\"fill\":{\"color\":\"#EBF0F8\"},\"line\":{\"color\":\"white\"}},\"header\":{\"fill\":{\"color\":\"#C8D4E3\"},\"line\":{\"color\":\"white\"}},\"type\":\"table\"}],\"barpolar\":[{\"marker\":{\"line\":{\"color\":\"#E5ECF6\",\"width\":0.5},\"pattern\":{\"fillmode\":\"overlay\",\"size\":10,\"solidity\":0.2}},\"type\":\"barpolar\"}],\"pie\":[{\"automargin\":true,\"type\":\"pie\"}]},\"layout\":{\"autotypenumbers\":\"strict\",\"colorway\":[\"#636efa\",\"#EF553B\",\"#00cc96\",\"#ab63fa\",\"#FFA15A\",\"#19d3f3\",\"#FF6692\",\"#B6E880\",\"#FF97FF\",\"#FECB52\"],\"font\":{\"color\":\"#2a3f5f\"},\"hovermode\":\"closest\",\"hoverlabel\":{\"align\":\"left\"},\"paper_bgcolor\":\"white\",\"plot_bgcolor\":\"#E5ECF6\",\"polar\":{\"bgcolor\":\"#E5ECF6\",\"angularaxis\":{\"gridcolor\":\"white\",\"linecolor\":\"white\",\"ticks\":\"\"},\"radialaxis\":{\"gridcolor\":\"white\",\"linecolor\":\"white\",\"ticks\":\"\"}},\"ternary\":{\"bgcolor\":\"#E5ECF6\",\"aaxis\":{\"gridcolor\":\"white\",\"linecolor\":\"white\",\"ticks\":\"\"},\"baxis\":{\"gridcolor\":\"white\",\"linecolor\":\"white\",\"ticks\":\"\"},\"caxis\":{\"gridcolor\":\"white\",\"linecolor\":\"white\",\"ticks\":\"\"}},\"coloraxis\":{\"colorbar\":{\"outlinewidth\":0,\"ticks\":\"\"}},\"colorscale\":{\"sequential\":[[0.0,\"#0d0887\"],[0.1111111111111111,\"#46039f\"],[0.2222222222222222,\"#7201a8\"],[0.3333333333333333,\"#9c179e\"],[0.4444444444444444,\"#bd3786\"],[0.5555555555555556,\"#d8576b\"],[0.6666666666666666,\"#ed7953\"],[0.7777777777777778,\"#fb9f3a\"],[0.8888888888888888,\"#fdca26\"],[1.0,\"#f0f921\"]],\"sequentialminus\":[[0.0,\"#0d0887\"],[0.1111111111111111,\"#46039f\"],[0.2222222222222222,\"#7201a8\"],[0.3333333333333333,\"#9c179e\"],[0.4444444444444444,\"#bd3786\"],[0.5555555555555556,\"#d8576b\"],[0.6666666666666666,\"#ed7953\"],[0.7777777777777778,\"#fb9f3a\"],[0.8888888888888888,\"#fdca26\"],[1.0,\"#f0f921\"]],\"diverging\":[[0,\"#8e0152\"],[0.1,\"#c51b7d\"],[0.2,\"#de77ae\"],[0.3,\"#f1b6da\"],[0.4,\"#fde0ef\"],[0.5,\"#f7f7f7\"],[0.6,\"#e6f5d0\"],[0.7,\"#b8e186\"],[0.8,\"#7fbc41\"],[0.9,\"#4d9221\"],[1,\"#276419\"]]},\"xaxis\":{\"gridcolor\":\"white\",\"linecolor\":\"white\",\"ticks\":\"\",\"title\":{\"standoff\":15},\"zerolinecolor\":\"white\",\"automargin\":true,\"zerolinewidth\":2},\"yaxis\":{\"gridcolor\":\"white\",\"linecolor\":\"white\",\"ticks\":\"\",\"title\":{\"standoff\":15},\"zerolinecolor\":\"white\",\"automargin\":true,\"zerolinewidth\":2},\"scene\":{\"xaxis\":{\"backgroundcolor\":\"#E5ECF6\",\"gridcolor\":\"white\",\"linecolor\":\"white\",\"showbackground\":true,\"ticks\":\"\",\"zerolinecolor\":\"white\",\"gridwidth\":2},\"yaxis\":{\"backgroundcolor\":\"#E5ECF6\",\"gridcolor\":\"white\",\"linecolor\":\"white\",\"showbackground\":true,\"ticks\":\"\",\"zerolinecolor\":\"white\",\"gridwidth\":2},\"zaxis\":{\"backgroundcolor\":\"#E5ECF6\",\"gridcolor\":\"white\",\"linecolor\":\"white\",\"showbackground\":true,\"ticks\":\"\",\"zerolinecolor\":\"white\",\"gridwidth\":2}},\"shapedefaults\":{\"line\":{\"color\":\"#2a3f5f\"}},\"annotationdefaults\":{\"arrowcolor\":\"#2a3f5f\",\"arrowhead\":0,\"arrowwidth\":1},\"geo\":{\"bgcolor\":\"white\",\"landcolor\":\"#E5ECF6\",\"subunitcolor\":\"white\",\"showland\":true,\"showlakes\":true,\"lakecolor\":\"white\"},\"title\":{\"x\":0.05},\"mapbox\":{\"style\":\"light\"}}},\"legend\":{\"tracegroupgap\":0},\"title\":{\"text\":\"Total Number of people by Marital_Status\"}},                        {\"responsive\": true}                    ).then(function(){\n",
              "                            \n",
              "var gd = document.getElementById('ce5f0e9d-9d7b-4eb7-a10c-88a62d8661c5');\n",
              "var x = new MutationObserver(function (mutations, observer) {{\n",
              "        var display = window.getComputedStyle(gd).display;\n",
              "        if (!display || display === 'none') {{\n",
              "            console.log([gd, 'removed!']);\n",
              "            Plotly.purge(gd);\n",
              "            observer.disconnect();\n",
              "        }}\n",
              "}});\n",
              "\n",
              "// Listen for the removal of the full notebook cells\n",
              "var notebookContainer = gd.closest('#notebook-container');\n",
              "if (notebookContainer) {{\n",
              "    x.observe(notebookContainer, {childList: true});\n",
              "}}\n",
              "\n",
              "// Listen for the clearing of the current output cell\n",
              "var outputEl = gd.closest('.output');\n",
              "if (outputEl) {{\n",
              "    x.observe(outputEl, {childList: true});\n",
              "}}\n",
              "\n",
              "                        })                };                            </script>        </div>\n",
              "</body>\n",
              "</html>"
            ]
          },
          "metadata": {}
        }
      ]
    },
    {
      "cell_type": "code",
      "source": [
        "Avg_Of_MonthlyIncome = HRAnalytics['MonthlyIncome'].mean()\n",
        "print('Avg_monthly_income:',Avg_Of_MonthlyIncome)"
      ],
      "metadata": {
        "colab": {
          "base_uri": "https://localhost:8080/"
        },
        "id": "9HXoqiMxEzvC",
        "outputId": "f164ce4d-4dfd-45a4-b5cf-14f12054b534"
      },
      "execution_count": 34,
      "outputs": [
        {
          "output_type": "stream",
          "name": "stdout",
          "text": [
            "Avg_monthly_income: 6502.931292517007\n"
          ]
        }
      ]
    },
    {
      "cell_type": "code",
      "source": [
        "Avg_Of_MonthlyRate = HRAnalytics['MonthlyRate'].mean()\n",
        "print('Avg_monthly_rate:',Avg_Of_MonthlyRate)"
      ],
      "metadata": {
        "colab": {
          "base_uri": "https://localhost:8080/"
        },
        "id": "g8cVmZ0rFMNp",
        "outputId": "88670d7b-27be-4d75-e2d2-68b89c71a9e3"
      },
      "execution_count": 35,
      "outputs": [
        {
          "output_type": "stream",
          "name": "stdout",
          "text": [
            "Avg_monthly_rate: 14313.103401360544\n"
          ]
        }
      ]
    },
    {
      "cell_type": "code",
      "source": [
        "Types_Of_NumCompaniesWorked_counts = HRAnalytics['NumCompaniesWorked'].value_counts()\n",
        "print('Number_of_people_by_Number_of_Companies_Worked\\n',Types_Of_NumCompaniesWorked_counts)"
      ],
      "metadata": {
        "colab": {
          "base_uri": "https://localhost:8080/"
        },
        "id": "EwS3N5d1F51B",
        "outputId": "7f7c599b-c099-4091-f9e9-f9991961d698"
      },
      "execution_count": 36,
      "outputs": [
        {
          "output_type": "stream",
          "name": "stdout",
          "text": [
            "Number_of_people_by_Number_of_Companies_Worked\n",
            " 1    521\n",
            "0    197\n",
            "3    159\n",
            "2    146\n",
            "4    139\n",
            "7     74\n",
            "6     70\n",
            "5     63\n",
            "9     52\n",
            "8     49\n",
            "Name: NumCompaniesWorked, dtype: int64\n"
          ]
        }
      ]
    },
    {
      "cell_type": "code",
      "source": [
        "Types_Of_Over18_counts = HRAnalytics['Over18'].value_counts()\n",
        "print('Number_of_people_by_Over18_Age\\n',Types_Of_Over18_counts)\n",
        "#All people age is above 18 years only."
      ],
      "metadata": {
        "colab": {
          "base_uri": "https://localhost:8080/"
        },
        "id": "HQwcii_5Hmnt",
        "outputId": "1e976564-b6f4-4e77-ad26-ef8afd73d6a5"
      },
      "execution_count": 37,
      "outputs": [
        {
          "output_type": "stream",
          "name": "stdout",
          "text": [
            "Number_of_people_by_Over18_Age\n",
            " Y    1470\n",
            "Name: Over18, dtype: int64\n"
          ]
        }
      ]
    },
    {
      "cell_type": "code",
      "source": [
        "Types_Of_OverTime_counts = HRAnalytics['OverTime'].value_counts()\n",
        "print('Number_of_people_by_OverTime\\n',Types_Of_OverTime_counts)"
      ],
      "metadata": {
        "colab": {
          "base_uri": "https://localhost:8080/"
        },
        "id": "7pD3gaZMIDJN",
        "outputId": "ec45c85d-08d2-4751-a0e1-bb9bfce3e072"
      },
      "execution_count": 38,
      "outputs": [
        {
          "output_type": "stream",
          "name": "stdout",
          "text": [
            "Number_of_people_by_OverTime\n",
            " No     1054\n",
            "Yes     416\n",
            "Name: OverTime, dtype: int64\n"
          ]
        }
      ]
    },
    {
      "cell_type": "code",
      "source": [
        "Types_Of_PercentSalaryHike_counts = HRAnalytics['PercentSalaryHike'].value_counts()\n",
        "print('Number_of_people_by_PercentSalaryHike\\n',Types_Of_PercentSalaryHike_counts)"
      ],
      "metadata": {
        "colab": {
          "base_uri": "https://localhost:8080/"
        },
        "id": "t98h_0FGIZqA",
        "outputId": "bf4ae5a1-6e6d-48b5-fee8-f604423acae3"
      },
      "execution_count": 39,
      "outputs": [
        {
          "output_type": "stream",
          "name": "stdout",
          "text": [
            "Number_of_people_by_PercentSalaryHike\n",
            " 11    210\n",
            "13    209\n",
            "14    201\n",
            "12    198\n",
            "15    101\n",
            "18     89\n",
            "17     82\n",
            "16     78\n",
            "19     76\n",
            "22     56\n",
            "20     55\n",
            "21     48\n",
            "23     28\n",
            "24     21\n",
            "25     18\n",
            "Name: PercentSalaryHike, dtype: int64\n"
          ]
        }
      ]
    },
    {
      "cell_type": "code",
      "source": [
        "Avg_Of_PercentSalaryHike = HRAnalytics['PercentSalaryHike'].mean()\n",
        "print('Avg_of_PercentSalaryHike',Avg_Of_PercentSalaryHike)"
      ],
      "metadata": {
        "colab": {
          "base_uri": "https://localhost:8080/"
        },
        "id": "bX494PeoIrqF",
        "outputId": "e4fea845-427e-4ff1-eab9-b91166c1e269"
      },
      "execution_count": 40,
      "outputs": [
        {
          "output_type": "stream",
          "name": "stdout",
          "text": [
            "Avg_of_PercentSalaryHike 15.209523809523809\n"
          ]
        }
      ]
    },
    {
      "cell_type": "code",
      "source": [
        "Types_Of_PerformanceRating_counts = HRAnalytics['PerformanceRating'].value_counts()\n",
        "print('Number_of_people_by_PerformanceRating\\n',Types_Of_PerformanceRating_counts)\n",
        "#PerformanceRating is in number format\n",
        "#3: Satisfactory or meets expectations\n",
        "#4: Exceeds expectations or high performance"
      ],
      "metadata": {
        "colab": {
          "base_uri": "https://localhost:8080/"
        },
        "id": "47yVaYM2I_uO",
        "outputId": "50caee4f-f604-463f-e465-ad20649b2685"
      },
      "execution_count": 41,
      "outputs": [
        {
          "output_type": "stream",
          "name": "stdout",
          "text": [
            "Number_of_people_by_PerformanceRating\n",
            " 3    1244\n",
            "4     226\n",
            "Name: PerformanceRating, dtype: int64\n"
          ]
        }
      ]
    },
    {
      "cell_type": "code",
      "source": [
        "Types_Of_TotalWorkingYears_counts = HRAnalytics['TotalWorkingYears'].value_counts()\n",
        "print('Number_of_people_by_TotalWorkingYears\\n',Types_Of_TotalWorkingYears_counts)"
      ],
      "metadata": {
        "colab": {
          "base_uri": "https://localhost:8080/"
        },
        "id": "rLPyQzk7ey4q",
        "outputId": "1883acbb-a7af-406d-fd19-12fde23d3d7c"
      },
      "execution_count": 42,
      "outputs": [
        {
          "output_type": "stream",
          "name": "stdout",
          "text": [
            "Number_of_people_by_TotalWorkingYears\n",
            " 10    202\n",
            "6     125\n",
            "8     103\n",
            "9      96\n",
            "5      88\n",
            "7      81\n",
            "1      81\n",
            "4      63\n",
            "12     48\n",
            "3      42\n",
            "15     40\n",
            "16     37\n",
            "11     36\n",
            "13     36\n",
            "21     34\n",
            "17     33\n",
            "2      31\n",
            "14     31\n",
            "20     30\n",
            "18     27\n",
            "19     22\n",
            "23     22\n",
            "22     21\n",
            "24     18\n",
            "25     14\n",
            "28     14\n",
            "26     14\n",
            "0      11\n",
            "29     10\n",
            "31      9\n",
            "32      9\n",
            "30      7\n",
            "33      7\n",
            "27      7\n",
            "36      6\n",
            "34      5\n",
            "37      4\n",
            "35      3\n",
            "40      2\n",
            "38      1\n",
            "Name: TotalWorkingYears, dtype: int64\n"
          ]
        }
      ]
    },
    {
      "cell_type": "code",
      "source": [
        "Avg_Of_TotalWorkingYears = HRAnalytics['TotalWorkingYears'].mean()\n",
        "print('Avg_Of_TotalWorkingYears',Avg_Of_TotalWorkingYears)"
      ],
      "metadata": {
        "colab": {
          "base_uri": "https://localhost:8080/"
        },
        "id": "k12pRTdJfzLa",
        "outputId": "8faa4266-1852-49a5-98fd-dcc70a45d095"
      },
      "execution_count": 43,
      "outputs": [
        {
          "output_type": "stream",
          "name": "stdout",
          "text": [
            "Avg_Of_TotalWorkingYears 11.279591836734694\n"
          ]
        }
      ]
    },
    {
      "cell_type": "code",
      "source": [
        "Types_Of_WorkLifeBalance_counts = HRAnalytics['WorkLifeBalance'].value_counts()\n",
        "print('Number_of_people_by_WorkLifeBalance\\n',Types_Of_WorkLifeBalance_counts)\n",
        "#Here WorkLifeBalance is in number format.\n",
        "#1: Poor work-life balance\n",
        "#2: Fair work-life balance\n",
        "#3: Good work-life balance\n",
        "#4: Excellent work-life balance"
      ],
      "metadata": {
        "colab": {
          "base_uri": "https://localhost:8080/"
        },
        "id": "C2Vsdpbtoagk",
        "outputId": "db8cc6de-8db7-4ea7-9a79-2fcbc93f7a33"
      },
      "execution_count": 44,
      "outputs": [
        {
          "output_type": "stream",
          "name": "stdout",
          "text": [
            "Number_of_people_by_WorkLifeBalance\n",
            " 3    893\n",
            "2    344\n",
            "4    153\n",
            "1     80\n",
            "Name: WorkLifeBalance, dtype: int64\n"
          ]
        }
      ]
    },
    {
      "cell_type": "code",
      "source": [
        "Types_Of_YearsAtCompany_counts = HRAnalytics['YearsAtCompany'].value_counts()\n",
        "print('Number_of_people_by_YearsAtCompany\\n',Types_Of_YearsAtCompany_counts)"
      ],
      "metadata": {
        "colab": {
          "base_uri": "https://localhost:8080/"
        },
        "id": "BBtTIhPKf93W",
        "outputId": "ee4a560d-56e5-4994-a20c-b984137b4f8d"
      },
      "execution_count": 45,
      "outputs": [
        {
          "output_type": "stream",
          "name": "stdout",
          "text": [
            "Number_of_people_by_YearsAtCompany\n",
            " 5     196\n",
            "1     171\n",
            "3     128\n",
            "2     127\n",
            "10    120\n",
            "4     110\n",
            "7      90\n",
            "9      82\n",
            "8      80\n",
            "6      76\n",
            "0      44\n",
            "11     32\n",
            "20     27\n",
            "13     24\n",
            "15     20\n",
            "14     18\n",
            "22     15\n",
            "12     14\n",
            "21     14\n",
            "18     13\n",
            "16     12\n",
            "19     11\n",
            "17      9\n",
            "24      6\n",
            "33      5\n",
            "25      4\n",
            "26      4\n",
            "31      3\n",
            "32      3\n",
            "27      2\n",
            "36      2\n",
            "29      2\n",
            "23      2\n",
            "37      1\n",
            "40      1\n",
            "34      1\n",
            "30      1\n",
            "Name: YearsAtCompany, dtype: int64\n"
          ]
        }
      ]
    }
  ]
}